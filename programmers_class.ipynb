{
  "nbformat": 4,
  "nbformat_minor": 0,
  "metadata": {
    "colab": {
      "name": "programmers_class.ipynb",
      "provenance": [],
      "collapsed_sections": [],
      "authorship_tag": "ABX9TyPAWVmzLbaIVhI1fDzFWFBx",
      "include_colab_link": true
    },
    "kernelspec": {
      "name": "python3",
      "display_name": "Python 3"
    }
  },
  "cells": [
    {
      "cell_type": "markdown",
      "metadata": {
        "id": "view-in-github",
        "colab_type": "text"
      },
      "source": [
        "<a href=\"https://colab.research.google.com/github/nayeon-hub/daily-python/blob/main/programmers_class.ipynb\" target=\"_parent\"><img src=\"https://colab.research.google.com/assets/colab-badge.svg\" alt=\"Open In Colab\"/></a>"
      ]
    },
    {
      "cell_type": "code",
      "metadata": {
        "colab": {
          "base_uri": "https://localhost:8080/"
        },
        "id": "2zrHtAAbIsKv",
        "outputId": "cea5541a-7344-4f9a-b36a-707e24c93668"
      },
      "source": [
        "s = \"Hello world\"\r\n",
        "print(type(s))"
      ],
      "execution_count": null,
      "outputs": [
        {
          "output_type": "stream",
          "text": [
            "<class 'str'>\n"
          ],
          "name": "stdout"
        }
      ]
    },
    {
      "cell_type": "code",
      "metadata": {
        "colab": {
          "base_uri": "https://localhost:8080/"
        },
        "id": "YNgunUXJIzFL",
        "outputId": "edfadb62-196c-455d-ed75-88fe8d457815"
      },
      "source": [
        "f = 3.14\r\n",
        "type(f)"
      ],
      "execution_count": null,
      "outputs": [
        {
          "output_type": "execute_result",
          "data": {
            "text/plain": [
              "float"
            ]
          },
          "metadata": {
            "tags": []
          },
          "execution_count": 2
        }
      ]
    },
    {
      "cell_type": "code",
      "metadata": {
        "colab": {
          "base_uri": "https://localhost:8080/"
        },
        "id": "vIGYm6DFIzB_",
        "outputId": "f87d1e3f-c694-4c55-fb92-220030064889"
      },
      "source": [
        " i = 42\r\n",
        " type(i)"
      ],
      "execution_count": null,
      "outputs": [
        {
          "output_type": "execute_result",
          "data": {
            "text/plain": [
              "int"
            ]
          },
          "metadata": {
            "tags": []
          },
          "execution_count": 3
        }
      ]
    },
    {
      "cell_type": "code",
      "metadata": {
        "colab": {
          "base_uri": "https://localhost:8080/"
        },
        "id": "PJnxzo4QIy-1",
        "outputId": "f1ba7ceb-40ca-4842-f871-06c7665a02dd"
      },
      "source": [
        "type(42.0)"
      ],
      "execution_count": null,
      "outputs": [
        {
          "output_type": "execute_result",
          "data": {
            "text/plain": [
              "float"
            ]
          },
          "metadata": {
            "tags": []
          },
          "execution_count": 4
        }
      ]
    },
    {
      "cell_type": "code",
      "metadata": {
        "colab": {
          "base_uri": "https://localhost:8080/"
        },
        "id": "okmqDunSIy8m",
        "outputId": "6fa0dc01-d230-4383-c684-15cb774c729f"
      },
      "source": [
        "42 == 42.0\r\n",
        "isinstance(42,int)\r\n",
        "isinstance(42,float)\r\n",
        "isinstance(42.0,int)\r\n",
        "isinstance(42.0,float)"
      ],
      "execution_count": null,
      "outputs": [
        {
          "output_type": "execute_result",
          "data": {
            "text/plain": [
              "True"
            ]
          },
          "metadata": {
            "tags": []
          },
          "execution_count": 10
        }
      ]
    },
    {
      "cell_type": "markdown",
      "metadata": {
        "id": "YDURdlQmJhZD"
      },
      "source": [
        "##인스턴스\r\n",
        " - 클래스에 의해 생성된 객체\r\n",
        " - 인스턴스 각자 자신의 값을 가지고 있다."
      ]
    },
    {
      "cell_type": "code",
      "metadata": {
        "colab": {
          "base_uri": "https://localhost:8080/"
        },
        "id": "1QbmuygWJkMD",
        "outputId": "9e351b31-fc88-499b-b366-76ec564b946e"
      },
      "source": [
        "type(5)\r\n",
        "print(type(5))\r\n",
        "print(isinstance(5,float))"
      ],
      "execution_count": null,
      "outputs": [
        {
          "output_type": "stream",
          "text": [
            "<class 'int'>\n",
            "False\n"
          ],
          "name": "stdout"
        }
      ]
    },
    {
      "cell_type": "code",
      "metadata": {
        "colab": {
          "base_uri": "https://localhost:8080/"
        },
        "id": "1rQzGUmBIy5r",
        "outputId": "0aaa0a8b-6086-4c92-de1c-a8f97480606e"
      },
      "source": [
        "numbers = list(range(10))\r\n",
        "characters = list(\"hello\")\r\n",
        "print(characters)\r\n",
        "print(numbers)\r\n",
        "#characters 와 numbers는 list라는 같은 클래스지만, 서로 다른 값을 가진 다른 인스턴스이다.\r\n",
        "\r\n",
        "print(isinstance(numbers,list))\r\n",
        "# list클래스의 인스턴스인가?\r\n",
        "\r\n",
        "print(numbers == list) #값과 타입이 맞는가?\r\n",
        "#numbers 만들어서 사용 가능한 리스트 : 인스턴스 // list : 클래스\r\n"
      ],
      "execution_count": null,
      "outputs": [
        {
          "output_type": "stream",
          "text": [
            "['h', 'e', 'l', 'l', 'o']\n",
            "[0, 1, 2, 3, 4, 5, 6, 7, 8, 9]\n",
            "True\n",
            "False\n"
          ],
          "name": "stdout"
        }
      ]
    },
    {
      "cell_type": "code",
      "metadata": {
        "colab": {
          "base_uri": "https://localhost:8080/"
        },
        "id": "yEE14UtQIy2s",
        "outputId": "4ee105ab-d33c-4daa-ad6b-43201b493c6d"
      },
      "source": [
        "class Human():\r\n",
        "    '''사람'''\r\n",
        "\r\n",
        "person1 = Human()\r\n",
        "person2 = Human() \r\n",
        "\r\n",
        "person1.language = '한국어' #값을 추가\r\n",
        "person2.language = 'English' #값을 추가\r\n",
        "\r\n",
        "print(person1.language)\r\n",
        "print(person2.language)\r\n",
        "\r\n",
        "person1.name = '서울시민'\r\n",
        "person2.name = '인도인'\r\n",
        "\r\n",
        "def speak(person):\r\n",
        "    print(\"{}이 {}로 말을 합니다.\".format(person.name, person.language))\r\n",
        "\r\n",
        "Human.speak = speak #class Human안에, 위에 만들었던 speak 함수를 만듬\r\n",
        "\r\n",
        "person1.speak()\r\n",
        "person2.speak()"
      ],
      "execution_count": null,
      "outputs": [
        {
          "output_type": "stream",
          "text": [
            "한국어\n",
            "English\n",
            "서울시민이 한국어로 말을 합니다.\n",
            "인도인이 English로 말을 합니다.\n"
          ],
          "name": "stdout"
        }
      ]
    },
    {
      "cell_type": "code",
      "metadata": {
        "colab": {
          "base_uri": "https://localhost:8080/"
        },
        "id": "WEBtjUpEIyz-",
        "outputId": "33760ec1-f6a8-4d87-9a74-1b4cc6238bd1"
      },
      "source": [
        "class Human():\r\n",
        "    '''인간'''\r\n",
        "\r\n",
        "person = Human()\r\n",
        "person.name = '철수'\r\n",
        "person.weight = 60.5\r\n",
        "\r\n",
        "def create_human(name, weight):\r\n",
        "    person = Human()\r\n",
        "    person.name = name\r\n",
        "    person.weight = weight\r\n",
        "    return person\r\n",
        "\r\n",
        "Human.create = create_human\r\n",
        "\r\n",
        "def eat(person):\r\n",
        "    person.weight += 0.1\r\n",
        "    print(\"{}가 먹어서 {}kg이 되었습니다.\".format(person.name,person.weight))\r\n",
        "\r\n",
        "def walk(person):\r\n",
        "    person.weight -= 0.1\r\n",
        "    print(\"{}가 걸어서 {}kg이 되었습니다.\".format(person.name,person.weight))\r\n",
        "\r\n",
        "Human.eat = eat\r\n",
        "Human.walk = walk\r\n",
        "\r\n",
        "person = Human.create(\"철수\",60.5)\r\n",
        "person.walk()\r\n",
        "person.eat()\r\n",
        "person.walk()"
      ],
      "execution_count": null,
      "outputs": [
        {
          "output_type": "stream",
          "text": [
            "철수가 걸어서 60.4kg이 되었습니다.\n",
            "철수가 먹어서 60.5kg이 되었습니다.\n",
            "철수가 걸어서 60.4kg이 되었습니다.\n"
          ],
          "name": "stdout"
        }
      ]
    },
    {
      "cell_type": "code",
      "metadata": {
        "colab": {
          "base_uri": "https://localhost:8080/"
        },
        "id": "hY_fIJedIyxJ",
        "outputId": "5ad7ce05-b00e-4fbd-d2cd-23fbff51bd80"
      },
      "source": [
        "class Human():\r\n",
        "    '''인간'''\r\n",
        "    def create(name, weight):\r\n",
        "        person = Human()\r\n",
        "        person.name = name\r\n",
        "        person.weight = weight\r\n",
        "        return person\r\n",
        "\r\n",
        "    def eat(person):\r\n",
        "        person.weight += 0.1\r\n",
        "        print(\"{}가 먹어서 {}kg이 되었습니다.\".format(person.name,person.weight))\r\n",
        "\r\n",
        "    def walk(person):\r\n",
        "        person.weight -= 0.1\r\n",
        "        print(\"{}가 걸어서 {}kg이 되었습니다.\".format(person.name,person.weight))\r\n",
        "\r\n",
        "person = Human.create(\"철수\",60.5)\r\n",
        "person.walk()\r\n",
        "person.eat()\r\n",
        "person.walk()"
      ],
      "execution_count": null,
      "outputs": [
        {
          "output_type": "stream",
          "text": [
            "철수가 걸어서 60.4kg이 되었습니다.\n",
            "철수가 먹어서 60.5kg이 되었습니다.\n",
            "철수가 걸어서 60.4kg이 되었습니다.\n"
          ],
          "name": "stdout"
        }
      ]
    },
    {
      "cell_type": "code",
      "metadata": {
        "colab": {
          "base_uri": "https://localhost:8080/"
        },
        "id": "pxvFxcfOIyuQ",
        "outputId": "66e68cd2-48ce-458d-dae6-92fcae986c5b"
      },
      "source": [
        "class Human():\r\n",
        "    '''인간'''\r\n",
        "    def create(name, weight):\r\n",
        "        person = Human()\r\n",
        "        person.name = name\r\n",
        "        person.weight = weight\r\n",
        "        return person\r\n",
        "\r\n",
        "    def eat(self):\r\n",
        "        self.weight += 0.1\r\n",
        "        print(\"{}가 먹어서 {}kg이 되었습니다.\".format(self.name,self.weight))\r\n",
        "\r\n",
        "    def walk(self):\r\n",
        "        self.weight -= 0.1\r\n",
        "        print(\"{}가 걸어서 {}kg이 되었습니다.\".format(self.name,self.weight))\r\n",
        "\r\n",
        "    def speak(self,message):\r\n",
        "      print(message)\r\n",
        "\r\n",
        "person = Human.create(\"철수\",60.5)\r\n",
        "person.walk()\r\n",
        "person.eat()\r\n",
        "person.walk()\r\n",
        "person.speak(\"안녕하세요.\")"
      ],
      "execution_count": null,
      "outputs": [
        {
          "output_type": "stream",
          "text": [
            "철수가 걸어서 60.4kg이 되었습니다.\n",
            "철수가 먹어서 60.5kg이 되었습니다.\n",
            "철수가 걸어서 60.4kg이 되었습니다.\n",
            "안녕하세요.\n"
          ],
          "name": "stdout"
        }
      ]
    },
    {
      "cell_type": "code",
      "metadata": {
        "colab": {
          "base_uri": "https://localhost:8080/"
        },
        "id": "89ub4r-mIyrr",
        "outputId": "f9ee2001-a56c-47e9-f474-b493122f2ec7"
      },
      "source": [
        "class Human():\r\n",
        "    '''인간'''\r\n",
        "    def __init__(self,name,weight): #특별한 method\r\n",
        "        '''초기화 함수'''\r\n",
        "        print(\"__init__실행\") \r\n",
        "        #__init__함수는 인스턴스 만들면 자동으로 호출되는 함수\r\n",
        "        #인스턴스를 만들 때 실행되는 함수\r\n",
        "        self.name = name      #초기화할 값들을 이 함수에 넣어주면 자동 변수 초기화됨 따로 함수 만들어줄 필요없음.\r\n",
        "        self.weight = weight\r\n",
        "\r\n",
        "    def __str__(self): #특별한 method\r\n",
        "        '''문자열화 함수''' \r\n",
        "        #인스턴스가 문자열로 어떻게 표현할지를 결정해주는 함수\r\n",
        "        #인스턴스 자체를 출력 할 때의 형식을 지정해주는 함수\r\n",
        "        return \"{}(몸무게{}kg)\".format(self.name,self.weight)\r\n",
        "\r\n",
        "    def eat(self):\r\n",
        "        self.weight += 0.1\r\n",
        "        print(\"{}가 먹어서 {}kg이 되었습니다.\".format(self.name,self.weight))\r\n",
        "\r\n",
        "    def walk(self):\r\n",
        "        self.weight -= 0.1\r\n",
        "        print(\"{}가 걸어서 {}kg이 되었습니다.\".format(self.name,self.weight))\r\n",
        "\r\n",
        "person = Human(\"사람\",60.5)\r\n",
        "print(person)"
      ],
      "execution_count": null,
      "outputs": [
        {
          "output_type": "stream",
          "text": [
            "__init__실행\n",
            "사람(몸무게60.5kg)\n"
          ],
          "name": "stdout"
        }
      ]
    },
    {
      "cell_type": "code",
      "metadata": {
        "id": "mXyFKoBqIyo9"
      },
      "source": [
        ""
      ],
      "execution_count": null,
      "outputs": []
    },
    {
      "cell_type": "code",
      "metadata": {
        "id": "oVrSg5ofIymJ"
      },
      "source": [
        ""
      ],
      "execution_count": null,
      "outputs": []
    },
    {
      "cell_type": "code",
      "metadata": {
        "id": "zbpSktEzIyjd"
      },
      "source": [
        ""
      ],
      "execution_count": null,
      "outputs": []
    },
    {
      "cell_type": "code",
      "metadata": {
        "id": "tqBHC1mOIyg2"
      },
      "source": [
        ""
      ],
      "execution_count": null,
      "outputs": []
    }
  ]
}