{
  "nbformat": 4,
  "nbformat_minor": 0,
  "metadata": {
    "colab": {
      "name": "programmers_상속,오버라이드",
      "provenance": [],
      "authorship_tag": "ABX9TyMPCwe4gTwM30yVFTYR0Fpf",
      "include_colab_link": true
    },
    "kernelspec": {
      "name": "python3",
      "display_name": "Python 3"
    }
  },
  "cells": [
    {
      "cell_type": "markdown",
      "metadata": {
        "id": "view-in-github",
        "colab_type": "text"
      },
      "source": [
        "<a href=\"https://colab.research.google.com/github/nayeon-hub/daily-python/blob/main/programmers_%EC%83%81%EC%86%8D%2C%EC%98%A4%EB%B2%84%EB%9D%BC%EC%9D%B4%EB%93%9C.ipynb\" target=\"_parent\"><img src=\"https://colab.research.google.com/assets/colab-badge.svg\" alt=\"Open In Colab\"/></a>"
      ]
    },
    {
      "cell_type": "markdown",
      "metadata": {
        "id": "qVe5ZG0ixn36"
      },
      "source": [
        "###클래스 상속"
      ]
    },
    {
      "cell_type": "code",
      "metadata": {
        "colab": {
          "base_uri": "https://localhost:8080/"
        },
        "id": "5uh00TA0xZL3",
        "outputId": "3f9d66b6-0bce-4439-e292-e1d2d656149f"
      },
      "source": [
        "class Animal():\r\n",
        "\r\n",
        "      def walk(self):\r\n",
        "          print(\"걷는다\")\r\n",
        "\r\n",
        "      def eat(self):\r\n",
        "            print(\"먹는다\")\r\n",
        "\r\n",
        "\r\n",
        "class Human(Animal):\r\n",
        "\r\n",
        "      def wave(self):\r\n",
        "            print(\"손을 흔든다\")\r\n",
        "\r\n",
        "class Dog(Animal):\r\n",
        "\r\n",
        "      def wag(self):\r\n",
        "            print(\"꼬리를 흔든다\")\r\n",
        "\r\n",
        "person = Human() \r\n",
        "person.walk()\r\n",
        "person.eat()\r\n",
        "person.wave()\r\n",
        "\r\n",
        "dog = Dog()\r\n",
        "dog.walk()\r\n",
        "dog.eat()\r\n",
        "dog.wag()"
      ],
      "execution_count": 4,
      "outputs": [
        {
          "output_type": "stream",
          "text": [
            "걷는다\n",
            "먹는다\n",
            "손을 흔든다\n",
            "걷는다\n",
            "먹는다\n",
            "꼬리를 흔든다\n"
          ],
          "name": "stdout"
        }
      ]
    },
    {
      "cell_type": "markdown",
      "metadata": {
        "id": "QlckdDC0z8zM"
      },
      "source": [
        "###단순 오버라이드"
      ]
    },
    {
      "cell_type": "code",
      "metadata": {
        "colab": {
          "base_uri": "https://localhost:8080/"
        },
        "id": "vRF5GM8pz7VR",
        "outputId": "25cb2b89-ac44-48fb-a0cc-43951d85cbf3"
      },
      "source": [
        "class Animal():\r\n",
        "\r\n",
        "      def walk(self):\r\n",
        "          print(\"걷는다\")\r\n",
        "\r\n",
        "      def eat(self):\r\n",
        "            print(\"먹는다\")\r\n",
        "      \r\n",
        "      def greet(self):\r\n",
        "            print(\"인사한다.\")\r\n",
        "\r\n",
        "\r\n",
        "\r\n",
        "class Human(Animal):\r\n",
        "\r\n",
        "      def wave(self):\r\n",
        "            print(\"손을 흔든다\")\r\n",
        "\r\n",
        "      def greet(self):\r\n",
        "            self.wave()\r\n",
        "\r\n",
        "class Dog(Animal):\r\n",
        "\r\n",
        "      def wag(self):\r\n",
        "            print(\"꼬리를 흔든다\")\r\n",
        "      \r\n",
        "      def greet(self):\r\n",
        "            self.wag()\r\n",
        "\r\n",
        "class Cow(Animal):\r\n",
        "      '''소'''\r\n",
        "\r\n",
        "person = Human() \r\n",
        "person.greet()\r\n",
        "\r\n",
        "dog = Dog()\r\n",
        "dog.greet()\r\n",
        "\r\n",
        "cow = Cow()\r\n",
        "cow.greet()"
      ],
      "execution_count": 8,
      "outputs": [
        {
          "output_type": "stream",
          "text": [
            "손을 흔든다\n",
            "꼬리를 흔든다\n",
            "인사한다.\n"
          ],
          "name": "stdout"
        }
      ]
    }
  ]
}