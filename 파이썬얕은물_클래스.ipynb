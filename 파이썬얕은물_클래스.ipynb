{
  "nbformat": 4,
  "nbformat_minor": 0,
  "metadata": {
    "colab": {
      "name": "파이썬얕은물_클래스.ipynb",
      "provenance": [],
      "collapsed_sections": [],
      "authorship_tag": "ABX9TyPgDvc3mlSx2DtZAmg3G2xK",
      "include_colab_link": true
    },
    "kernelspec": {
      "name": "python3",
      "display_name": "Python 3"
    }
  },
  "cells": [
    {
      "cell_type": "markdown",
      "metadata": {
        "id": "view-in-github",
        "colab_type": "text"
      },
      "source": [
        "<a href=\"https://colab.research.google.com/github/nayeon-hub/daily-python/blob/main/%ED%8C%8C%EC%9D%B4%EC%8D%AC%EC%96%95%EC%9D%80%EB%AC%BC_%ED%81%B4%EB%9E%98%EC%8A%A4.ipynb\" target=\"_parent\"><img src=\"https://colab.research.google.com/assets/colab-badge.svg\" alt=\"Open In Colab\"/></a>"
      ]
    },
    {
      "cell_type": "markdown",
      "metadata": {
        "id": "RT2b-VAEZrgB"
      },
      "source": [
        "##클래스"
      ]
    },
    {
      "cell_type": "code",
      "metadata": {
        "colab": {
          "base_uri": "https://localhost:8080/"
        },
        "id": "ZJKCIQmtZxvb",
        "outputId": "630bf445-10e9-4f60-8edc-ed9de0cf11de"
      },
      "source": [
        "class 대리인(object):\r\n",
        "    이름 = '라이켓의 대리인'\r\n",
        "    대리인_목록 = []\r\n",
        "    훈장 = [\r\n",
        "          '백상아리를 잡은 고양이',\r\n",
        "          '성실한 납세자',\r\n",
        "          '해골선 낚시꾼',\r\n",
        "          '청년 고용 착한 기업',\r\n",
        "          '회사를 설립한 자',\r\n",
        "          '혈통의 인정을 받은 자',\r\n",
        "          '천민을 위한 병원을 세운 자'\r\n",
        "    ]\r\n",
        "\r\n",
        "    기술 = {\r\n",
        "        '회사운영' : 99,\r\n",
        "        '낚시' : 96,\r\n",
        "        '통발' : 93,\r\n",
        "        '큰그물' : 95,\r\n",
        "        '재무' : 34\r\n",
        "    }\r\n",
        "\r\n",
        "    def 계산하기(self,x):\r\n",
        "      print(int(x)*5000,\"원 입니다.\")\r\n",
        "    \r\n",
        "    def 이름_변경하기(self,name):\r\n",
        "      self.이름 = name\r\n",
        "\r\n",
        "    def 포장하기(self):\r\n",
        "      print('포장이 완료되었습니다.')\r\n",
        "\r\n",
        "대리인1 = 대리인() #인스턴스 = 클래스\r\n",
        "대리인.대리인_목록.append('대리인1')\r\n",
        "대리인2 = 대리인()\r\n",
        "대리인.대리인_목록.append('대리인2')\r\n",
        "\r\n",
        "print(대리인1.이름)\r\n",
        "print(대리인2.이름)\r\n",
        "\r\n",
        "대리인1.이름_변경하기('라이캣_분신_하나')\r\n",
        "대리인2.이름_변경하기('라이캣_분신_둘')\r\n",
        "\r\n",
        "print(대리인1.이름)\r\n",
        "print(대리인2.이름)\r\n"
      ],
      "execution_count": null,
      "outputs": [
        {
          "output_type": "stream",
          "text": [
            "라이켓의 대리인\n",
            "라이켓의 대리인\n",
            "라이캣_분신_하나\n",
            "라이캣_분신_둘\n"
          ],
          "name": "stdout"
        }
      ]
    },
    {
      "cell_type": "code",
      "metadata": {
        "id": "VfKSoUjIeP79"
      },
      "source": [
        "대리인1 = 대리인() #인스턴스 = 클래스\r\n",
        "대리인.대리인_목록.append('대리인1')\r\n",
        "대리인2 = 대리인()\r\n",
        "대리인.대리인_목록.append('대리인2')\r\n",
        "\r\n",
        "대리인1.계산하기(5) #인스턴스.클래스의 메소드\r\n",
        "대리인1.포장하기()\r\n",
        "대리인2.계산하기(10)\r\n",
        "대리인2.포장하기()\r\n",
        "\r\n",
        "print(대리인1.이름)#클래스 변수 : 인스턴스와 클래스 모두 공유하는 변수\r\n",
        "print(대리인2.훈장)\r\n",
        "\r\n",
        "print(대리인2.이름)\r\n",
        "print(대리인2.훈장)\r\n",
        "\r\n",
        "print(대리인.대리인_목록)\r\n",
        "print(대리인1.대리인_목록)\r\n",
        "print(대리인2.대리인_목록)\r\n"
      ],
      "execution_count": null,
      "outputs": []
    },
    {
      "cell_type": "code",
      "metadata": {
        "colab": {
          "base_uri": "https://localhost:8080/"
        },
        "id": "6qBsV66fdXZn",
        "outputId": "028bc2c4-9db0-4568-954d-31ee19912fae"
      },
      "source": [
        "class 대리인(object):\r\n",
        "    이름 = '라이켓의 대리인'\r\n",
        "    대리인_목록 = []\r\n",
        "    훈장 = [\r\n",
        "          '백상아리를 잡은 고양이',\r\n",
        "          '성실한 납세자',\r\n",
        "          '해골선 낚시꾼',\r\n",
        "          '청년 고용 착한 기업',\r\n",
        "          '회사를 설립한 자',\r\n",
        "          '혈통의 인정을 받은 자',\r\n",
        "          '천민을 위한 병원을 세운 자'\r\n",
        "    ]\r\n",
        "\r\n",
        "    기술 = {\r\n",
        "        '회사운영' : 99,\r\n",
        "        '낚시' : 96,\r\n",
        "        '통발' : 93,\r\n",
        "        '큰그물' : 95,\r\n",
        "        '재무' : 34\r\n",
        "    }\r\n",
        "\r\n",
        "    def __init__(self,name):\r\n",
        "      self.이름 = name\r\n",
        "      self.대리인_목록.append(name)\r\n",
        "\r\n",
        "    def 계산하기(self,x):\r\n",
        "      print(int(x)*5000,\"원 입니다.\")\r\n",
        "\r\n",
        "    def 포장하기(self):\r\n",
        "      print('포장이 완료되었습니다.')\r\n",
        "\r\n",
        "대리인1 = 대리인('라이캣_분신_하나') #인스턴스 = 클래스\r\n",
        "대리인2 = 대리인('라이캣_분신_둘')\r\n",
        "\r\n",
        "print(대리인1.이름)\r\n",
        "print(대리인2.이름)\r\n",
        "print(대리인1.대리인_목록)\r\n",
        "print(대리인2.대리인_목록)"
      ],
      "execution_count": null,
      "outputs": [
        {
          "output_type": "stream",
          "text": [
            "라이캣_분신_하나\n",
            "라이캣_분신_둘\n",
            "['라이캣_분신_하나', '라이캣_분신_둘']\n",
            "['라이캣_분신_하나', '라이캣_분신_둘']\n"
          ],
          "name": "stdout"
        }
      ]
    },
    {
      "cell_type": "code",
      "metadata": {
        "colab": {
          "base_uri": "https://localhost:8080/"
        },
        "id": "0mxxbm4Ncz4T",
        "outputId": "9920fd08-f3f9-4ee6-e872-9312ce578023"
      },
      "source": [
        "class 대리인(object):\r\n",
        "    이름 = '라이켓의 대리인'\r\n",
        "    대리인_목록 = []\r\n",
        "    훈장 = [\r\n",
        "          '백상아리를 잡은 고양이',\r\n",
        "          '성실한 납세자',\r\n",
        "          '해골선 낚시꾼',\r\n",
        "          '청년 고용 착한 기업',\r\n",
        "          '회사를 설립한 자',\r\n",
        "          '혈통의 인정을 받은 자',\r\n",
        "          '천민을 위한 병원을 세운 자'\r\n",
        "    ]\r\n",
        "\r\n",
        "    기술 = {\r\n",
        "        '회사운영' : 99,\r\n",
        "        '낚시' : 96,\r\n",
        "        '통발' : 93,\r\n",
        "        '큰그물' : 95,\r\n",
        "        '재무' : 34\r\n",
        "    }\r\n",
        "\r\n",
        "    def __init__(self,name):\r\n",
        "      self.이름 = name\r\n",
        "      self.대리인_목록.append(name)\r\n",
        "\r\n",
        "    def 계산하기(self,x):\r\n",
        "      print(int(x)*5000,\"원 입니다.\")\r\n",
        "    \r\n",
        "    def 포장하기(self):\r\n",
        "      print('포장이 완료되었습니다.')\r\n",
        "\r\n",
        "class 진화된_대리인(대리인): #괄호안에는 상속해줄 클래스를 넣어준다.\r\n",
        "    #이제 위니브 월드에 있는 대리인들 끼리는 서로 협업합니다.\r\n",
        "    추가_서로협업하기 = True\r\n",
        "\r\n",
        "    def 추가된_기능_청소기능(self):\r\n",
        "      print('청소기능이 추가되었습니다.')\r\n",
        "      return 'Hello world'\r\n",
        "\r\n",
        "대리인1 = 대리인('라이캣하나')\r\n",
        "대리인2 = 진화된_대리인('라이캣둘')\r\n",
        "\r\n",
        "print(대리인2.추가된_기능_청소기능())\r\n",
        "print(대리인2.이름)\r\n",
        "대리인2.훈장\r\n",
        "\r\n",
        "\r\n"
      ],
      "execution_count": null,
      "outputs": [
        {
          "output_type": "stream",
          "text": [
            "청소기능이 추가되었습니다.\n",
            "Hello world\n",
            "라이캣둘\n"
          ],
          "name": "stdout"
        },
        {
          "output_type": "execute_result",
          "data": {
            "text/plain": [
              "['백상아리를 잡은 고양이',\n",
              " '성실한 납세자',\n",
              " '해골선 낚시꾼',\n",
              " '청년 고용 착한 기업',\n",
              " '회사를 설립한 자',\n",
              " '혈통의 인정을 받은 자',\n",
              " '천민을 위한 병원을 세운 자']"
            ]
          },
          "metadata": {
            "tags": []
          },
          "execution_count": 9
        }
      ]
    },
    {
      "cell_type": "code",
      "metadata": {
        "id": "M5OsDbUJfn3b"
      },
      "source": [
        "class 배터리_영구_증가(object):\r\n",
        "    pass\r\n",
        "\r\n",
        "class 효율_극대화(object):\r\n",
        "    pass\r\n",
        "\r\n",
        "class 대리인(object):\r\n",
        "    이름 = '라이켓의 대리인'\r\n",
        "    대리인_목록 = []\r\n",
        "\r\n",
        "    def __init__(self,name):\r\n",
        "      self.이름 = name\r\n",
        "      self.대리인_목록.append(name)\r\n",
        "\r\n",
        "    def 계산하기(self,x):\r\n",
        "      print(int(x)*5000,\"원 입니다.\")\r\n",
        "    \r\n",
        "    def 포장하기(self):\r\n",
        "      print('포장이 완료되었습니다.')\r\n",
        "\r\n",
        "\r\n",
        "class 진화된_대리인(대리인, 배터리_영구_증가, 효율_극대화): #다중 클래스 상속\r\n",
        "    #이제 위니브 월드에 있는 대리인들 끼리는 서로 협업합니다.\r\n",
        "    추가_서로협업하기 = True\r\n",
        "\r\n",
        "    def 추가된_기능_청소기능(self):\r\n",
        "      print('청소기능이 추가되었습니다.')\r\n",
        "      return 'Hello world'\r\n"
      ],
      "execution_count": null,
      "outputs": []
    },
    {
      "cell_type": "code",
      "metadata": {
        "colab": {
          "base_uri": "https://localhost:8080/"
        },
        "id": "kjHkSu4EgOWb",
        "outputId": "3e905059-2370-402e-c70a-4bc28e3c84df"
      },
      "source": [
        "class 신규_로봇(object):\r\n",
        "\r\n",
        "    로봇의_기능 = ['낚시하기','포장하기']\r\n",
        "\r\n",
        "    def __init__(self,name):\r\n",
        "        self.name = name\r\n",
        "    \r\n",
        "    def __getattr__(self,item): #method가 존재하지 않을 떄 출력해줌\r\n",
        "        print(item + '속성은 존재하지 않습니다.')\r\n",
        "        return 'here!'\r\n",
        "\r\n",
        "    def __str__(self):\r\n",
        "        return 'Hello world!'\r\n",
        "\r\n",
        "    def start(self):\r\n",
        "      print(\"로봇이 동작합니다!\")\r\n",
        "\r\n",
        "로봇1 = 신규_로봇('로봇하나')\r\n",
        "print(로봇1.name)\r\n",
        "print(로봇1.청소하기)\r\n",
        "print(로봇1) #클래스명\r\n",
        "print(type(로봇1))\r\n",
        "print(dir(로봇1)) #가지고 있는 클래스변수, 인스턴스변수,메소드 출력해줌"
      ],
      "execution_count": null,
      "outputs": [
        {
          "output_type": "stream",
          "text": [
            "청소하기속성은 존재하지 않습니다.\n",
            "here!\n"
          ],
          "name": "stdout"
        }
      ]
    },
    {
      "cell_type": "code",
      "metadata": {
        "colab": {
          "base_uri": "https://localhost:8080/"
        },
        "id": "JlodVlDTgk_z",
        "outputId": "d049d7f4-ac68-4953-bac8-78194c255ad0"
      },
      "source": [
        "l = [100, 200, 300]\r\n",
        "print(l)\r\n",
        "print(type(l))\r\n",
        "print(dir(l))\r\n",
        "#__add__가 하는 역할은 list와 다른것을 더했을 때 에러 확인해줌 : 리스트의 속성을 정의함\r\n",
        "#append이후부터가 method"
      ],
      "execution_count": null,
      "outputs": [
        {
          "output_type": "stream",
          "text": [
            "[100, 200, 300]\n",
            "<class 'list'>\n",
            "['__add__', '__class__', '__contains__', '__delattr__', '__delitem__', '__dir__', '__doc__', '__eq__', '__format__', '__ge__', '__getattribute__', '__getitem__', '__gt__', '__hash__', '__iadd__', '__imul__', '__init__', '__init_subclass__', '__iter__', '__le__', '__len__', '__lt__', '__mul__', '__ne__', '__new__', '__reduce__', '__reduce_ex__', '__repr__', '__reversed__', '__rmul__', '__setattr__', '__setitem__', '__sizeof__', '__str__', '__subclasshook__', 'append', 'clear', 'copy', 'count', 'extend', 'index', 'insert', 'pop', 'remove', 'reverse', 'sort']\n"
          ],
          "name": "stdout"
        }
      ]
    },
    {
      "cell_type": "markdown",
      "metadata": {
        "id": "PEVLhYtQi94Y"
      },
      "source": [
        "##연습문제(클래스)\r\n"
      ]
    },
    {
      "cell_type": "code",
      "metadata": {
        "colab": {
          "base_uri": "https://localhost:8080/"
        },
        "id": "PLecfKqujF_2",
        "outputId": "c005669a-8c38-4276-fe56-39bdfe84c0b5"
      },
      "source": [
        "#문제 1 대리인 생성하기\r\n",
        "\r\n",
        "class 대리인(object):\r\n",
        "\r\n",
        "    물품 = []\r\n",
        "\r\n",
        "    def __init__(self,name):\r\n",
        "        self.이름 = name + '대리인'\r\n",
        "      \r\n",
        "    def __str__(self):\r\n",
        "        return self.이름\r\n",
        "\r\n",
        "    def 경비구하기(self,time):\r\n",
        "        경비 = int(time[:-2])*1000000\r\n",
        "        return format(경비,',')\r\n",
        "\r\n",
        "    def 물품구하기(self,t):\r\n",
        "        for i in range(int(t[:-2])):\r\n",
        "            self.물품.append(f'{self.이름}이 구해온 물품 {i+1}')\r\n",
        "\r\n",
        "대리인_그룹 = []\r\n",
        "\r\n",
        "for name in range(10):\r\n",
        "    대리인_그룹.append(대리인(str(name)))\r\n",
        "\r\n",
        "\r\n",
        "print(대리인_그룹[1])\r\n",
        "print(대리인_그룹[2].경비구하기('10시간'))\r\n",
        "대리인_그룹[1].물품구하기('3시간')\r\n",
        "print(대리인_그룹[1].물품)\r\n",
        "\r\n"
      ],
      "execution_count": 30,
      "outputs": [
        {
          "output_type": "stream",
          "text": [
            "1대리인\n",
            "10,000,000\n",
            "['1대리인이 구해온 물품 1', '1대리인이 구해온 물품 2', '1대리인이 구해온 물품 3']\n"
          ],
          "name": "stdout"
        }
      ]
    },
    {
      "cell_type": "code",
      "metadata": {
        "id": "0P54RMrCjF3V",
        "colab": {
          "base_uri": "https://localhost:8080/"
        },
        "outputId": "6cad1121-3569-4f33-fcc2-005709e28968"
      },
      "source": [
        "#문제 2 - 1 대리인 스킬 합 구하기\r\n",
        "\r\n",
        "class 대리인(object):\r\n",
        "\r\n",
        "    대리인_목록 = []\r\n",
        "    훈장 = [\r\n",
        "          '백상아리를 잡은 고양이',\r\n",
        "          '성실한 납세자',\r\n",
        "          '해골섬 낚시꾼',\r\n",
        "          '청년 고용 착한 기업',\r\n",
        "          '회사를 설립한 자',\r\n",
        "          '혈통의 인정을 받은 자',\r\n",
        "          '천민을 위한 병원을 세운 자'\r\n",
        "    ]\r\n",
        "    기술 = {\r\n",
        "        '회사운영' : 99,\r\n",
        "        '낚시' : 96,\r\n",
        "        '통발' : 93,\r\n",
        "        '큰그물' : 95,\r\n",
        "        '재무' : 34\r\n",
        "    }\r\n",
        "\r\n",
        "    def __init__(self,이름):\r\n",
        "        self.대리인_목록.append(이름)\r\n",
        "        self.이름 = 이름\r\n",
        "  \r\n",
        "    def 계산하기(self, x):\r\n",
        "        print(int(x)*5000,'원 입니다.')\r\n",
        "\r\n",
        "    def 포장하기(self):\r\n",
        "        print('포장이 완료되었습니다.')    \r\n",
        "\r\n",
        "\r\n",
        "대리인1 = 대리인('대리인_하나')\r\n",
        "print(대리인1.대리인_목록)\r\n",
        "\r\n",
        "점수_총합 = 0\r\n",
        "점수_합 = 0\r\n",
        "for i in 대리인1.기술.values():\r\n",
        "    점수_총합 += i\r\n",
        "print(점수_총합)\r\n",
        "      \r\n",
        "for i in 대리인1.기술:\r\n",
        "    점수_합 += 대리인1.기술[i]\r\n",
        "print(점수_합)\r\n",
        "      "
      ],
      "execution_count": 37,
      "outputs": [
        {
          "output_type": "stream",
          "text": [
            "['대리인_하나']\n",
            "417\n",
            "417\n"
          ],
          "name": "stdout"
        }
      ]
    },
    {
      "cell_type": "code",
      "metadata": {
        "id": "FA5ogmfOjF0Y",
        "colab": {
          "base_uri": "https://localhost:8080/"
        },
        "outputId": "bdf6b721-03d3-4b47-98ed-f48ce6bb5835"
      },
      "source": [
        "#문제 2 - 2 대리인 스킬추가\r\n",
        "\r\n",
        "class 대리인(object):\r\n",
        "\r\n",
        "    대리인_목록 = []\r\n",
        "    훈장 = [\r\n",
        "          '백상아리를 잡은 고양이',\r\n",
        "          '성실한 납세자',\r\n",
        "          '해골섬 낚시꾼',\r\n",
        "          '청년 고용 착한 기업',\r\n",
        "          '회사를 설립한 자',\r\n",
        "          '혈통의 인정을 받은 자',\r\n",
        "          '천민을 위한 병원을 세운 자'\r\n",
        "    ]\r\n",
        "    기술 = {\r\n",
        "        '회사운영' : 99,\r\n",
        "        '낚시' : 96,\r\n",
        "        '통발' : 93,\r\n",
        "        '큰그물' : 95,\r\n",
        "        '재무' : 34\r\n",
        "    }\r\n",
        "\r\n",
        "    def __init__(self,이름):\r\n",
        "        self.대리인_목록.append(이름)\r\n",
        "        self.이름 = 이름\r\n",
        "  \r\n",
        "    def 계산하기(self, x):\r\n",
        "        print(int(x)*5000,'원 입니다.')\r\n",
        "\r\n",
        "    def 포장하기(self):\r\n",
        "        print('포장이 완료되었습니다.')    \r\n",
        "\r\n",
        "    def 스킬추가하기(self,스킬이름,스킬능력):\r\n",
        "        self.기술[스킬이름] = 스킬능력\r\n",
        "        print('스킬이 추가되었습니다.')\r\n",
        "\r\n",
        "대리인1 = 대리인('대리인_하나')\r\n",
        "대리인1.스킬추가하기('볼링',120) #딕셔너리는 순서가 없음\r\n",
        "대리인1.기술      "
      ],
      "execution_count": 47,
      "outputs": [
        {
          "output_type": "stream",
          "text": [
            "스킬이 추가되었습니다.\n"
          ],
          "name": "stdout"
        },
        {
          "output_type": "execute_result",
          "data": {
            "text/plain": [
              "{'낚시': 96, '볼링': 120, '재무': 34, '큰그물': 95, '통발': 93, '회사운영': 99}"
            ]
          },
          "metadata": {
            "tags": []
          },
          "execution_count": 47
        }
      ]
    },
    {
      "cell_type": "code",
      "metadata": {
        "colab": {
          "base_uri": "https://localhost:8080/"
        },
        "id": "2O_ougSbzlms",
        "outputId": "76097abb-a70a-432c-9268-dc30f68e69ee"
      },
      "source": [
        "#문제 3 진화된 대리인\r\n",
        "\r\n",
        "class 진화된_대리인(대리인):\r\n",
        "\r\n",
        "    수집목록 = []\r\n",
        "    \r\n",
        "    def 던전탐험(self,아이템):\r\n",
        "        self.수집목록.append(아이템)\r\n",
        "        print('{}을(를) 수집하였습니다.'.format(아이템))\r\n",
        "    \r\n",
        "    def 위험판단 (self,위험단계):\r\n",
        "        if 위험단계 == '위험':\r\n",
        "            print('자금을 회피하세요')\r\n",
        "        elif 위험단계 == '긴장감 고조':\r\n",
        "            print('조심할 필요가 있습니다.')\r\n",
        "        elif 위험단계 == '평범':\r\n",
        "            print('자금을 받으세요')\r\n",
        "\r\n",
        "\r\n",
        "진화된_대리인1 = 진화된_대리인('라이캣')\r\n",
        "진화된_대리인1.던전탐험('황금컵')\r\n",
        "print(진화된_대리인1.수집목록)\r\n",
        "\r\n",
        "진화된_대리인2 = 진화된_대리인('파이걸')\r\n",
        "진화된_대리인2.위험판단('위험') \r\n",
        "진화된_대리인2.위험판단('평범') \r\n",
        "진화된_대리인2.위험판단('긴장감 고조') \r\n",
        "\r\n"
      ],
      "execution_count": 48,
      "outputs": [
        {
          "output_type": "stream",
          "text": [
            "황금컵을(를) 수집하였습니다.\n",
            "['황금컵']\n",
            "자금을 회피하세요\n",
            "자금을 받으세요\n",
            "조심할 필요가 있습니다.\n"
          ],
          "name": "stdout"
        }
      ]
    }
  ]
}