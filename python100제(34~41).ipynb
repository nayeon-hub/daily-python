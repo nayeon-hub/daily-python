{
  "nbformat": 4,
  "nbformat_minor": 0,
  "metadata": {
    "colab": {
      "name": "python100제(34~41).ipynb",
      "provenance": [],
      "collapsed_sections": [],
      "authorship_tag": "ABX9TyMVfMKrVQdVbwiR48NYfKrX",
      "include_colab_link": true
    },
    "kernelspec": {
      "name": "python3",
      "display_name": "Python 3"
    }
  },
  "cells": [
    {
      "cell_type": "markdown",
      "metadata": {
        "id": "view-in-github",
        "colab_type": "text"
      },
      "source": [
        "<a href=\"https://colab.research.google.com/github/nayeon-hub/daily-python/blob/main/python100%EC%A0%9C(34~41).ipynb\" target=\"_parent\"><img src=\"https://colab.research.google.com/assets/colab-badge.svg\" alt=\"Open In Colab\"/></a>"
      ]
    },
    {
      "cell_type": "code",
      "metadata": {
        "colab": {
          "base_uri": "https://localhost:8080/"
        },
        "id": "ha38i8dvEKcB",
        "outputId": "bdca6e43-6c91-4f5e-b25f-8976263da27d"
      },
      "source": [
        "#문제 34\r\n",
        "\r\n",
        "first = list(input().split())\r\n",
        "check = first.copy()\r\n",
        "check.sort()\r\n",
        "if first == check:\r\n",
        "    print(\"YES\")\r\n",
        "else :\r\n",
        "    print(\"NO\")\r\n",
        "\r\n",
        "first = [int (i) for i in first]\r\n",
        "if first == sorted(first):\r\n",
        "    print(\"YES\")\r\n",
        "else:\r\n",
        "    print(\"NO\")"
      ],
      "execution_count": null,
      "outputs": [
        {
          "output_type": "stream",
          "text": [
            "199 290\n",
            "YES\n",
            "YES\n"
          ],
          "name": "stdout"
        }
      ]
    },
    {
      "cell_type": "code",
      "metadata": {
        "colab": {
          "base_uri": "https://localhost:8080/"
        },
        "id": "VlBCFb0aHZok",
        "outputId": "0260061f-f9cf-4139-b47d-b9e8b486adbf"
      },
      "source": [
        "#문제 35\r\n",
        "\r\n",
        "def one(n):\r\n",
        "    def two(x):\r\n",
        "        return x**n \r\n",
        "    return two\r\n",
        "\r\n",
        "a = one(2)\r\n",
        "b = one(3)\r\n",
        "c = one(4)\r\n",
        "print(a(10))\r\n",
        "print(b(10))\r\n",
        "print(c(10))\r\n",
        "\r\n",
        "\r\n"
      ],
      "execution_count": null,
      "outputs": [
        {
          "output_type": "stream",
          "text": [
            "100\n",
            "1000\n",
            "10000\n"
          ],
          "name": "stdout"
        }
      ]
    },
    {
      "cell_type": "code",
      "metadata": {
        "colab": {
          "base_uri": "https://localhost:8080/"
        },
        "id": "GIkjWn-EIfZB",
        "outputId": "0a47fd70-6a21-440e-c15a-f19e6eb80576"
      },
      "source": [
        "#문제 36\r\n",
        "gugudan = int(input())\r\n",
        "\r\n",
        "for i in range(1,10):\r\n",
        "    print(gugudan*i,end=' ')\r\n"
      ],
      "execution_count": null,
      "outputs": [
        {
          "output_type": "stream",
          "text": [
            "2\n",
            "2 4 6 8 10 12 14 16 18 "
          ],
          "name": "stdout"
        }
      ]
    },
    {
      "cell_type": "code",
      "metadata": {
        "colab": {
          "base_uri": "https://localhost:8080/"
        },
        "id": "lMyYHBqQJnN3",
        "outputId": "bb006edd-2d1f-4ac9-a2a1-8ead241251d3"
      },
      "source": [
        "#문제 37\r\n",
        "\r\n",
        "name = list(input().split())\r\n",
        "count = 0\r\n",
        "for i in range(len(name)):\r\n",
        "    if name.count(name[i-1]) < name.count(name[i]):\r\n",
        "        count = i\r\n",
        "print(f'{name[count]}(이)가 총 {name.count(name[count])}표로 반장이 되었습니다.')\r\n"
      ],
      "execution_count": null,
      "outputs": [
        {
          "output_type": "stream",
          "text": [
            "a aa aaa aa aa aa a\n",
            "aa(이)가 총 4표로 반장이 되었습니다.\n"
          ],
          "name": "stdout"
        }
      ]
    },
    {
      "cell_type": "code",
      "metadata": {
        "colab": {
          "base_uri": "https://localhost:8080/"
        },
        "id": "99VC4Hi2aGNI",
        "outputId": "72c04c22-3fc4-4759-cf8b-ffd95a546eb5"
      },
      "source": [
        "#문제 38\r\n",
        "\r\n",
        "score = input('점수입력 : ').split()\r\n",
        "score = [int(i) for i in score]\r\n",
        "score.sort()\r\n",
        "count = 0\r\n",
        "m = 0\r\n",
        "for i in range(len(score)-1,0,-1):\r\n",
        "  if score[i] > score[i-1]:\r\n",
        "      count += 1\r\n",
        "      if count == 3:\r\n",
        "          m = i\r\n",
        "          break\r\n",
        "print('출력 : ',len(score[m:]))\r\n",
        "      \r\n"
      ],
      "execution_count": null,
      "outputs": [
        {
          "output_type": "stream",
          "text": [
            "점수입력 : 97 86 75 66 55 97 85 97 97 95\n",
            "출력 :  6\n"
          ],
          "name": "stdout"
        }
      ]
    },
    {
      "cell_type": "code",
      "metadata": {
        "colab": {
          "base_uri": "https://localhost:8080/"
        },
        "id": "c5vcfknWs_5i",
        "outputId": "1754bc42-0e43-4539-bbc7-ecdbda7da104"
      },
      "source": [
        "#문제 39 \r\n",
        "b = input('입력 : ')\r\n",
        "a = list(b)\r\n",
        "for i in range(0,len(a)):\r\n",
        "    if a[i] == 'q':\r\n",
        "        a[i] = 'e'\r\n",
        "print('출력 :',''.join(a))"
      ],
      "execution_count": null,
      "outputs": [
        {
          "output_type": "stream",
          "text": [
            "입력 : hqllo my namq is hyqwon\n",
            "출력 : hello my name is hyewon\n"
          ],
          "name": "stdout"
        }
      ]
    },
    {
      "cell_type": "code",
      "metadata": {
        "colab": {
          "base_uri": "https://localhost:8080/"
        },
        "id": "5Rp3LKKuwzE0",
        "outputId": "71bf3e9d-4218-4a6d-b086-99df274cb85b"
      },
      "source": [
        "a = input('입력 : ')\r\n",
        "print(a.replace('q','e'))\r\n",
        "#replace는 string만 가능"
      ],
      "execution_count": null,
      "outputs": [
        {
          "output_type": "stream",
          "text": [
            "입력 : hqllo my namq is hyqwon\n",
            "hello my name is hyewon\n"
          ],
          "name": "stdout"
        }
      ]
    },
    {
      "cell_type": "code",
      "metadata": {
        "colab": {
          "base_uri": "https://localhost:8080/"
        },
        "id": "lPCBHmA6xA6i",
        "outputId": "b24f2127-6dc7-4999-ecf8-6a79bab6e623"
      },
      "source": [
        "#문제 40\r\n",
        "\r\n",
        "weight = int(input())\r\n",
        "n = int(input())\r\n",
        "total = 0\r\n",
        "count = 0 #count대신에 index값을 사용해도됨\r\n",
        "for i in range(n):\r\n",
        "    f = int(input())\r\n",
        "    total += f\r\n",
        "    if total <= weight:\r\n",
        "       count += 1\r\n",
        "print(count)"
      ],
      "execution_count": 13,
      "outputs": [
        {
          "output_type": "stream",
          "text": [
            "50\n",
            "5\n",
            "20\n",
            "20\n",
            "20\n",
            "20\n",
            "20\n",
            "2\n"
          ],
          "name": "stdout"
        }
      ]
    },
    {
      "cell_type": "code",
      "metadata": {
        "colab": {
          "base_uri": "https://localhost:8080/"
        },
        "id": "-VMg7Iusa8ad",
        "outputId": "be2ec086-83a0-4596-c892-22f3ef772e28"
      },
      "source": [
        "total = 0\r\n",
        "count = 0\r\n",
        "limit = int(input())\r\n",
        "n = int(input())\r\n",
        "\r\n",
        "for i in range(n):\r\n",
        "    if total <= limit:\r\n",
        "        total += int(input())\r\n",
        "        count = i\r\n",
        "print(count)"
      ],
      "execution_count": 14,
      "outputs": [
        {
          "output_type": "stream",
          "text": [
            "50\n",
            "5\n",
            "20\n",
            "20\n",
            "20\n",
            "2\n"
          ],
          "name": "stdout"
        }
      ]
    },
    {
      "cell_type": "code",
      "metadata": {
        "colab": {
          "base_uri": "https://localhost:8080/"
        },
        "id": "W5TB-YDObPE4",
        "outputId": "3056fbc0-1bb3-4d66-b9cf-85dc66a6ae68"
      },
      "source": [
        "limit = int(input())\r\n",
        "n = int(input())\r\n",
        "friends = []\r\n",
        "\r\n",
        "for i in range(n):\r\n",
        "    friends.append(int(input()))\r\n",
        "\r\n",
        "total = 0\r\n",
        "for i in range(len(friends)):\r\n",
        "    total += friends[i]\r\n",
        "    print(total,limit)\r\n",
        "    if total > limit:\r\n",
        "        print(i)\r\n",
        "        break"
      ],
      "execution_count": 7,
      "outputs": [
        {
          "output_type": "stream",
          "text": [
            "50\n",
            "5\n",
            "20\n",
            "20\n",
            "20\n",
            "20\n",
            "20\n",
            "20 50\n",
            "40 50\n",
            "60 50\n",
            "2\n"
          ],
          "name": "stdout"
        }
      ]
    },
    {
      "cell_type": "code",
      "metadata": {
        "colab": {
          "base_uri": "https://localhost:8080/"
        },
        "id": "-dl97MYKm3Hk",
        "outputId": "6b53041e-491b-4fd1-950c-ff6343ebaad1"
      },
      "source": [
        "#문제 41\r\n",
        "\r\n",
        "n = int(input())\r\n",
        "if n == 1:\r\n",
        "      print(\"NO\")\r\n",
        "elif (n%2==0) or (n%3==0) or n%5 ==0:\r\n",
        "    if n // 2 == 1 or n // 3 == 1 or n // 5 == 1:\r\n",
        "        print(\"YES\")\r\n",
        "    else:\r\n",
        "        print(\"NO\")\r\n",
        "else:\r\n",
        "    print(\"YES\")"
      ],
      "execution_count": 18,
      "outputs": [
        {
          "output_type": "stream",
          "text": [
            "1\n",
            "NO\n"
          ],
          "name": "stdout"
        }
      ]
    },
    {
      "cell_type": "code",
      "metadata": {
        "colab": {
          "base_uri": "https://localhost:8080/"
        },
        "id": "ACs4B_Azm3E6",
        "outputId": "7bb3bf28-e547-4098-bb8a-7662adef79c4"
      },
      "source": [
        "def check_prime(n):\r\n",
        "    i = 2\r\n",
        "    while i < n:\r\n",
        "        if n % i == 0:\r\n",
        "            break\r\n",
        "        i = i + 1\r\n",
        "    if i == n:\r\n",
        "        print(\"YES\")\r\n",
        "    else:\r\n",
        "        print(\"NO\")\r\n",
        "check_prime(int(input()))"
      ],
      "execution_count": 30,
      "outputs": [
        {
          "output_type": "stream",
          "text": [
            "5\n",
            "YES\n"
          ],
          "name": "stdout"
        }
      ]
    },
    {
      "cell_type": "code",
      "metadata": {
        "colab": {
          "base_uri": "https://localhost:8080/"
        },
        "id": "aZBuqDBkm3CL",
        "outputId": "6c4ece90-34cb-4d0f-c842-01dcf0decb8a"
      },
      "source": [
        "x = int(input())\r\n",
        "for i in range(2, x//2+1):\r\n",
        "    if x == 1:\r\n",
        "        print(\"소수가 아닙니다.\")\r\n",
        "    if x == 2:\r\n",
        "        print('소수입니다.')\r\n",
        "    if x % i == 0:\r\n",
        "        print('소수가 아닙니다.')\r\n",
        "        break\r\n",
        "else:\r\n",
        "    print('소수입니다.')"
      ],
      "execution_count": 32,
      "outputs": [
        {
          "output_type": "stream",
          "text": [
            "1\n",
            "소수입니다.\n"
          ],
          "name": "stdout"
        }
      ]
    }
  ]
}