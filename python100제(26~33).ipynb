{
  "nbformat": 4,
  "nbformat_minor": 0,
  "metadata": {
    "colab": {
      "name": "python100제(26~33).ipynb",
      "provenance": [],
      "collapsed_sections": [],
      "authorship_tag": "ABX9TyNIHWT9eBU/xIIu9yQr3ujo",
      "include_colab_link": true
    },
    "kernelspec": {
      "name": "python3",
      "display_name": "Python 3"
    }
  },
  "cells": [
    {
      "cell_type": "markdown",
      "metadata": {
        "id": "view-in-github",
        "colab_type": "text"
      },
      "source": [
        "<a href=\"https://colab.research.google.com/github/nayeon-hub/daily-python/blob/main/python100%EC%A0%9C(26~33).ipynb\" target=\"_parent\"><img src=\"https://colab.research.google.com/assets/colab-badge.svg\" alt=\"Open In Colab\"/></a>"
      ]
    },
    {
      "cell_type": "code",
      "metadata": {
        "colab": {
          "base_uri": "https://localhost:8080/"
        },
        "id": "e-_20yQ0BsVd",
        "outputId": "e350f77c-30dd-4cb4-e521-9ba1ac251be4"
      },
      "source": [
        "#문제 26\r\n",
        "\r\n",
        "planets = {'수성':\"Mercury\",\r\n",
        "          '금성':'Venus',\r\n",
        "          '지구':'Earth',\r\n",
        "          '화성':'Mars',\r\n",
        "          '목성':'Jupiter',\r\n",
        "          '토성':'Saturn',\r\n",
        "          '천왕성':'Uranus',\r\n",
        "          '해왕성':'Neptune'}\r\n",
        "name = input()\r\n",
        "print(planets[name])"
      ],
      "execution_count": 2,
      "outputs": [
        {
          "output_type": "stream",
          "text": [
            "목성\n",
            "Jupiter\n"
          ],
          "name": "stdout"
        }
      ]
    },
    {
      "cell_type": "code",
      "metadata": {
        "colab": {
          "base_uri": "https://localhost:8080/"
        },
        "id": "br8YZPCpEj0m",
        "outputId": "151fe7d4-807d-474d-f90c-daefeb946296"
      },
      "source": [
        "#문제 27\r\n",
        "\r\n",
        "name = list(input().split())\r\n",
        "score = list(map(int,input().split()))\r\n",
        "\r\n",
        "dic = {}\r\n",
        "for i in range(len(name)):\r\n",
        "    dic[name[i]] = score[i]\r\n",
        "print(dic)\r\n",
        "\r\n",
        "result = dict(zip(name,score))\r\n",
        "print(result)"
      ],
      "execution_count": 9,
      "outputs": [
        {
          "output_type": "stream",
          "text": [
            "Yejin Hyewon\n",
            "70 80\n",
            "{'Yejin': 70, 'Hyewon': 80}\n",
            "{'Yejin': 70, 'Hyewon': 80}\n"
          ],
          "name": "stdout"
        }
      ]
    },
    {
      "cell_type": "code",
      "metadata": {
        "colab": {
          "base_uri": "https://localhost:8080/"
        },
        "id": "RdPNTUGBEjxS",
        "outputId": "b62e9c03-82e5-4f12-90a6-47d29655066d"
      },
      "source": [
        "#문제 28\r\n",
        "string = input()\r\n",
        "\r\n",
        "for i in range(len(string)-1):\r\n",
        "    print(string[i:i+2])\r\n",
        "\r\n",
        "for i in range(len(string) - 1):\r\n",
        "    print(string[i], string[i+1],sep = '')"
      ],
      "execution_count": 15,
      "outputs": [
        {
          "output_type": "stream",
          "text": [
            "python\n",
            "py\n",
            "yt\n",
            "th\n",
            "ho\n",
            "on\n",
            "py\n",
            "yt\n",
            "th\n",
            "ho\n",
            "on\n"
          ],
          "name": "stdout"
        }
      ]
    },
    {
      "cell_type": "code",
      "metadata": {
        "colab": {
          "base_uri": "https://localhost:8080/"
        },
        "id": "IVXecRzMEjun",
        "outputId": "c26e95be-ed4a-4b0c-ffdf-2bbe64b29124"
      },
      "source": [
        "#문제 29\r\n",
        "s = input()\r\n",
        "if s == s.upper():\r\n",
        "    print(\"YES\")\r\n",
        "else:\r\n",
        "    print(\"NO\")\r\n",
        "\r\n",
        "if s.isupper():\r\n",
        "    print(\"YES\")\r\n",
        "else:\r\n",
        "    print(\"NO\")\r\n",
        "\r\n",
        "string = input()\r\n",
        "for i in range(len(string)):\r\n",
        "    if string[i] == string[i].upper():\r\n",
        "        print(string[i])\r\n",
        "\r\n",
        "for i in range(len(string)):\r\n",
        "    if string[i].isupper():\r\n",
        "        print(string[i])"
      ],
      "execution_count": 20,
      "outputs": [
        {
          "output_type": "stream",
          "text": [
            "P\n",
            "YES\n",
            "YES\n",
            "BeE\n",
            "B\n",
            "E\n",
            "B\n",
            "E\n"
          ],
          "name": "stdout"
        }
      ]
    },
    {
      "cell_type": "code",
      "metadata": {
        "colab": {
          "base_uri": "https://localhost:8080/"
        },
        "id": "cLfEG-51Ejr1",
        "outputId": "ad3b5b30-d775-4cdf-8064-974158ef5a95"
      },
      "source": [
        "#문제 30\r\n",
        "\r\n",
        "s = input()\r\n",
        "ss = input()\r\n",
        "\r\n",
        "for i in range(len(s)-len(ss)):\r\n",
        "    if(s[i:i+len(ss)] == ss):\r\n",
        "        print(i+1)\r\n",
        "\r\n",
        "print(s.find(ss))"
      ],
      "execution_count": 24,
      "outputs": [
        {
          "output_type": "stream",
          "text": [
            "pinapple is yummy\n",
            "aim\n",
            "-1\n"
          ],
          "name": "stdout"
        }
      ]
    },
    {
      "cell_type": "code",
      "metadata": {
        "colab": {
          "base_uri": "https://localhost:8080/"
        },
        "id": "SbNgzV0iEjo1",
        "outputId": "c2707b3a-3cd3-40e9-f7ad-975928771de6"
      },
      "source": [
        "#문제 32\r\n",
        "\r\n",
        "n = list(input().split())\r\n",
        "print(len(n))\r\n",
        "print([i for i in n])"
      ],
      "execution_count": 31,
      "outputs": [
        {
          "output_type": "stream",
          "text": [
            "안녕하세요 저는     박나연 입니다.      \n",
            "4\n",
            "['안녕하세요', '저는', '박나연', '입니다.']\n"
          ],
          "name": "stdout"
        }
      ]
    },
    {
      "cell_type": "code",
      "metadata": {
        "colab": {
          "base_uri": "https://localhost:8080/"
        },
        "id": "WLGCPkAUEjmX",
        "outputId": "194d1ddb-e10a-4e69-9d7d-c6dc33ee5744"
      },
      "source": [
        "#문제 33\r\n",
        "\r\n",
        "n = list(input().split())\r\n",
        "n.reverse()\r\n",
        "for i in n:\r\n",
        "  print(i,end=' ')\r\n",
        "\r\n",
        "for i in range(len(n)-1,-1,-1):\r\n",
        "    print(n[i],end=' ')"
      ],
      "execution_count": 36,
      "outputs": [
        {
          "output_type": "stream",
          "text": [
            "2 4 6 7 8\n",
            "8 7 6 4 2 2 4 6 7 8 "
          ],
          "name": "stdout"
        }
      ]
    },
    {
      "cell_type": "code",
      "metadata": {
        "id": "5jPztN9eEjjq"
      },
      "source": [
        ""
      ],
      "execution_count": null,
      "outputs": []
    },
    {
      "cell_type": "code",
      "metadata": {
        "id": "6St9gL7WEjgz"
      },
      "source": [
        ""
      ],
      "execution_count": null,
      "outputs": []
    },
    {
      "cell_type": "code",
      "metadata": {
        "id": "8pLQol7WEjeD"
      },
      "source": [
        ""
      ],
      "execution_count": null,
      "outputs": []
    },
    {
      "cell_type": "code",
      "metadata": {
        "id": "hVB_0keBEjbV"
      },
      "source": [
        ""
      ],
      "execution_count": null,
      "outputs": []
    },
    {
      "cell_type": "code",
      "metadata": {
        "id": "uPcW0NM9EjYx"
      },
      "source": [
        ""
      ],
      "execution_count": null,
      "outputs": []
    },
    {
      "cell_type": "code",
      "metadata": {
        "id": "kG9rza_LEjWb"
      },
      "source": [
        ""
      ],
      "execution_count": null,
      "outputs": []
    },
    {
      "cell_type": "code",
      "metadata": {
        "id": "gcROIxJGEjTe"
      },
      "source": [
        ""
      ],
      "execution_count": null,
      "outputs": []
    },
    {
      "cell_type": "code",
      "metadata": {
        "id": "OJb9Mb86EjQ9"
      },
      "source": [
        ""
      ],
      "execution_count": null,
      "outputs": []
    },
    {
      "cell_type": "code",
      "metadata": {
        "id": "Zfl6UDamEjN7"
      },
      "source": [
        ""
      ],
      "execution_count": null,
      "outputs": []
    },
    {
      "cell_type": "code",
      "metadata": {
        "id": "kwy5u1D-EjLc"
      },
      "source": [
        ""
      ],
      "execution_count": null,
      "outputs": []
    },
    {
      "cell_type": "code",
      "metadata": {
        "id": "zxJxYTyLEjJC"
      },
      "source": [
        ""
      ],
      "execution_count": null,
      "outputs": []
    }
  ]
}