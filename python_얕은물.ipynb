{
  "nbformat": 4,
  "nbformat_minor": 0,
  "metadata": {
    "colab": {
      "name": "python 얕은물.ipynb",
      "provenance": [],
      "collapsed_sections": [],
      "authorship_tag": "ABX9TyP8v4Op14eEfadjAdH6Erud",
      "include_colab_link": true
    },
    "kernelspec": {
      "name": "python3",
      "display_name": "Python 3"
    }
  },
  "cells": [
    {
      "cell_type": "markdown",
      "metadata": {
        "id": "view-in-github",
        "colab_type": "text"
      },
      "source": [
        "<a href=\"https://colab.research.google.com/github/nayeon-hub/daily-python/blob/main/python_%EC%96%95%EC%9D%80%EB%AC%BC.ipynb\" target=\"_parent\"><img src=\"https://colab.research.google.com/assets/colab-badge.svg\" alt=\"Open In Colab\"/></a>"
      ]
    },
    {
      "cell_type": "code",
      "metadata": {
        "colab": {
          "base_uri": "https://localhost:8080/"
        },
        "id": "CbiYgsUMIKoi",
        "outputId": "1bd2e349-defb-42d6-a40f-f54f4bf8d96a"
      },
      "source": [
        "나이 = 10\r\n",
        "print(나이.bit_length())\r\n",
        "print(bin(나이))"
      ],
      "execution_count": null,
      "outputs": [
        {
          "output_type": "stream",
          "text": [
            "4\n",
            "0b1010\n"
          ],
          "name": "stdout"
        }
      ]
    },
    {
      "cell_type": "code",
      "metadata": {
        "colab": {
          "base_uri": "https://localhost:8080/"
        },
        "id": "Epu77050WDPh",
        "outputId": "553799f6-45a0-4431-d607-3efce36ac398"
      },
      "source": [
        "#str\r\n",
        "#시퀀스형 자료형\r\n",
        "#index, indexing\r\n",
        "\r\n",
        "설명 = \"위니브 월드 외각에 살고 있는 생선가게 주인 캣(cat)\"\r\n",
        "print(설명[0])\r\n",
        "print(설명[1])"
      ],
      "execution_count": 81,
      "outputs": [
        {
          "output_type": "stream",
          "text": [
            "위\n",
            "니\n"
          ],
          "name": "stdout"
        }
      ]
    },
    {
      "cell_type": "code",
      "metadata": {
        "colab": {
          "base_uri": "https://localhost:8080/"
        },
        "id": "0QUGUX8HWd-b",
        "outputId": "1d0564ad-4f6c-41a2-eb9b-3e87f833e2aa"
      },
      "source": [
        "#slicing\r\n",
        "#변수이름[start:stop:step]\r\n",
        "\r\n",
        "print(설명[:3])\r\n",
        "print(설명[:6])"
      ],
      "execution_count": null,
      "outputs": [
        {
          "output_type": "stream",
          "text": [
            "위니브\n",
            "위니브 월드\n"
          ],
          "name": "stdout"
        }
      ]
    },
    {
      "cell_type": "code",
      "metadata": {
        "colab": {
          "base_uri": "https://localhost:8080/"
        },
        "id": "rjGukVCCWvit",
        "outputId": "28857f74-1255-407a-98cb-a65445d8d347"
      },
      "source": [
        "캣의_생년월일 = '2220.02.22'\r\n",
        "생년 = 캣의_생년월일[:4]\r\n",
        "월 = 캣의_생년월일[5:7]\r\n",
        "일 = 캣의_생년월일[8:]\r\n",
        "print(생년, 월, 일)"
      ],
      "execution_count": null,
      "outputs": [
        {
          "output_type": "stream",
          "text": [
            "2220 02 22\n"
          ],
          "name": "stdout"
        }
      ]
    },
    {
      "cell_type": "code",
      "metadata": {
        "colab": {
          "base_uri": "https://localhost:8080/"
        },
        "id": "Wqhr4yNUXo7q",
        "outputId": "0ea151d2-f13a-4d6d-8785-7eedc551c0bb"
      },
      "source": [
        "숫자 = '123456789101112'\r\n",
        "print(숫자[::-1])\r\n",
        "print(숫자[::2])\r\n",
        "print(숫자[1:7:2])\r\n",
        "print(숫자[7:1:-1])\r\n",
        "print(숫자[-1])"
      ],
      "execution_count": 86,
      "outputs": [
        {
          "output_type": "stream",
          "text": [
            "211101987654321\n",
            "13579012\n",
            "246\n",
            "876543\n",
            "2\n"
          ],
          "name": "stdout"
        }
      ]
    },
    {
      "cell_type": "code",
      "metadata": {
        "colab": {
          "base_uri": "https://localhost:8080/",
          "height": 279
        },
        "id": "aZLFokdPYai2",
        "outputId": "56ad1462-256e-48ea-9d99-cc60a05a3e04"
      },
      "source": [
        "print(설명)\r\n",
        "print(type(설명))\r\n",
        "'''\r\n",
        "['__add__', '__class__', '__contains__', '__delattr__', '__dir__', '__doc__', '__eq__', '__format__', '__ge__', '__getattribute__', '__getitem__', '__getnewargs__', '__gt__', '__hash__', '__init__', '__init_subclass__', '__iter__', '__le__', '__len__', '__lt__', '__mod__', '__mul__', '__ne__', '__new__', '__reduce__', '__reduce_ex__', '__repr__', '__rmod__', '__rmul__', '__setattr__', '__sizeof__', '__str__', '__subclasshook__', 'capitalize', 'casefold', 'center', 'count', 'encode', 'endswith', 'expandtabs', 'find', 'format', 'format_map', 'index', 'isalnum', 'isalpha', 'isascii', 'isdecimal', 'isdigit', 'isidentifier', 'islower', 'isnumeric', 'isprintable', 'isspace', 'istitle', 'isupper', 'join', 'ljust', 'lower', 'lstrip', 'maketrans', 'partition', 'replace', 'rfind', 'rindex', 'rjust', 'rpartition', 'rsplit', 'rstrip', 'split', 'splitlines', 'startswith', 'strip', 'swapcase', 'title', 'translate', 'upper', 'zfill']\r\n",
        "'''"
      ],
      "execution_count": 84,
      "outputs": [
        {
          "output_type": "stream",
          "text": [
            "위니브 월드 외각에 살고 있는 생선가게 주인 캣(cat)\n",
            "<class 'str'>\n"
          ],
          "name": "stdout"
        },
        {
          "output_type": "execute_result",
          "data": {
            "application/vnd.google.colaboratory.intrinsic+json": {
              "type": "string"
            },
            "text/plain": [
              "\"\\n['__add__', '__class__', '__contains__', '__delattr__', '__dir__', '__doc__', '__eq__', '__format__', '__ge__', '__getattribute__', '__getitem__', '__getnewargs__', '__gt__', '__hash__', '__init__', '__init_subclass__', '__iter__', '__le__', '__len__', '__lt__', '__mod__', '__mul__', '__ne__', '__new__', '__reduce__', '__reduce_ex__', '__repr__', '__rmod__', '__rmul__', '__setattr__', '__sizeof__', '__str__', '__subclasshook__', 'capitalize', 'casefold', 'center', 'count', 'encode', 'endswith', 'expandtabs', 'find', 'format', 'format_map', 'index', 'isalnum', 'isalpha', 'isascii', 'isdecimal', 'isdigit', 'isidentifier', 'islower', 'isnumeric', 'isprintable', 'isspace', 'istitle', 'isupper', 'join', 'ljust', 'lower', 'lstrip', 'maketrans', 'partition', 'replace', 'rfind', 'rindex', 'rjust', 'rpartition', 'rsplit', 'rstrip', 'split', 'splitlines', 'startswith', 'strip', 'swapcase', 'title', 'translate', 'upper', 'zfill']\\n\""
            ]
          },
          "metadata": {
            "tags": []
          },
          "execution_count": 84
        }
      ]
    },
    {
      "cell_type": "code",
      "metadata": {
        "colab": {
          "base_uri": "https://localhost:8080/"
        },
        "id": "ufdm04L4YIp7",
        "outputId": "afaad69f-65c1-422b-c386-e5c13929b04b"
      },
      "source": [
        "숫자.count('1')\r\n",
        "설명.upper()\r\n",
        "설명.lower()\r\n",
        "'               hello world'.lstrip()\r\n",
        "'               hello world'.strip()\r\n",
        "'                 hello world'.replace(' ','')\r\n",
        "설명.index('각')\r\n",
        "# 설명[설명.index('각')]\r\n",
        "# 설명.find('각')\r\n",
        "# 설명.find('똬!') #-1반환"
      ],
      "execution_count": 100,
      "outputs": [
        {
          "output_type": "execute_result",
          "data": {
            "text/plain": [
              "8"
            ]
          },
          "metadata": {
            "tags": []
          },
          "execution_count": 100
        }
      ]
    },
    {
      "cell_type": "code",
      "metadata": {
        "colab": {
          "base_uri": "https://localhost:8080/"
        },
        "id": "tkshovOgZGAu",
        "outputId": "2b4bb447-4804-4a23-b2c7-6f344c894c96"
      },
      "source": [
        "#bool\r\n",
        "\r\n",
        "육식 = True\r\n",
        "초식 = True\r\n",
        "print(type(육식))\r\n",
        "print(dir(육식))"
      ],
      "execution_count": null,
      "outputs": [
        {
          "output_type": "stream",
          "text": [
            "<class 'bool'>\n",
            "['__abs__', '__add__', '__and__', '__bool__', '__ceil__', '__class__', '__delattr__', '__dir__', '__divmod__', '__doc__', '__eq__', '__float__', '__floor__', '__floordiv__', '__format__', '__ge__', '__getattribute__', '__getnewargs__', '__gt__', '__hash__', '__index__', '__init__', '__init_subclass__', '__int__', '__invert__', '__le__', '__lshift__', '__lt__', '__mod__', '__mul__', '__ne__', '__neg__', '__new__', '__or__', '__pos__', '__pow__', '__radd__', '__rand__', '__rdivmod__', '__reduce__', '__reduce_ex__', '__repr__', '__rfloordiv__', '__rlshift__', '__rmod__', '__rmul__', '__ror__', '__round__', '__rpow__', '__rrshift__', '__rshift__', '__rsub__', '__rtruediv__', '__rxor__', '__setattr__', '__sizeof__', '__str__', '__sub__', '__subclasshook__', '__truediv__', '__trunc__', '__xor__', 'bit_length', 'conjugate', 'denominator', 'from_bytes', 'imag', 'numerator', 'real', 'to_bytes']\n"
          ],
          "name": "stdout"
        }
      ]
    },
    {
      "cell_type": "code",
      "metadata": {
        "colab": {
          "base_uri": "https://localhost:8080/",
          "height": 205
        },
        "id": "HdLAicypX7QJ",
        "outputId": "8017d272-03fd-4629-f2e0-d779a55dbaf1"
      },
      "source": [
        "#list, tuple, dict, set\r\n",
        "\r\n",
        "훈장 = []\r\n",
        "기술 = ['고기잡이','고기팔기']\r\n",
        "print(type(기술))\r\n",
        "print(dir(기술))\r\n",
        "'''\r\n",
        "<class 'type'>\r\n",
        "['__add__', '__class__', '__contains__', '__delattr__', '__delitem__', \r\n",
        "'__dir__', '__doc__', '__eq__', '__format__', '__ge__', '__getattribute__',\r\n",
        "'__getitem__', '__gt__', '__hash__', '__iadd__', '__imul__', '__init__',\r\n",
        " '__init_subclass__', '__iter__', '__le__', '__len__', '__lt__', '__mul__',\r\n",
        "  '__ne__', '__new__', '__reduce__', '__reduce_ex__', '__repr__', '__reversed__',\r\n",
        "   '__rmul__', '__setattr__', '__setitem__', '__sizeof__', '__str__',\r\n",
        "    '__subclasshook__', 'append', 'clear', 'copy', 'count', 'extend', 'index',\r\n",
        "     'insert', 'pop', 'remove', 'reverse', 'sort']\r\n",
        "'''"
      ],
      "execution_count": 104,
      "outputs": [
        {
          "output_type": "stream",
          "text": [
            "<class 'list'>\n",
            "['__add__', '__class__', '__contains__', '__delattr__', '__delitem__', '__dir__', '__doc__', '__eq__', '__format__', '__ge__', '__getattribute__', '__getitem__', '__gt__', '__hash__', '__iadd__', '__imul__', '__init__', '__init_subclass__', '__iter__', '__le__', '__len__', '__lt__', '__mul__', '__ne__', '__new__', '__reduce__', '__reduce_ex__', '__repr__', '__reversed__', '__rmul__', '__setattr__', '__setitem__', '__sizeof__', '__str__', '__subclasshook__', 'append', 'clear', 'copy', 'count', 'extend', 'index', 'insert', 'pop', 'remove', 'reverse', 'sort']\n"
          ],
          "name": "stdout"
        },
        {
          "output_type": "execute_result",
          "data": {
            "application/vnd.google.colaboratory.intrinsic+json": {
              "type": "string"
            },
            "text/plain": [
              "\"\\n<class 'type'>\\n['__add__', '__class__', '__contains__', '__delattr__', '__delitem__', '__dir__', '__doc__', '__eq__', '__format__', '__ge__', '__getattribute__', '__getitem__', '__gt__', '__hash__', '__iadd__', '__imul__', '__init__', '__init_subclass__', '__iter__', '__le__', '__len__', '__lt__', '__mul__', '__ne__', '__new__', '__reduce__', '__reduce_ex__', '__repr__', '__reversed__', '__rmul__', '__setattr__', '__setitem__', '__sizeof__', '__str__', '__subclasshook__', 'append', 'clear', 'copy', 'count', 'extend', 'index', 'insert', 'pop', 'remove', 'reverse', 'sort']\\n\""
            ]
          },
          "metadata": {
            "tags": []
          },
          "execution_count": 104
        }
      ]
    },
    {
      "cell_type": "code",
      "metadata": {
        "colab": {
          "base_uri": "https://localhost:8080/"
        },
        "id": "CVGf2cHDXl6S",
        "outputId": "a667bac8-16aa-4592-fc30-7d2c6f6d51d7"
      },
      "source": [
        "잡은물고기 = ['광어','고등어','오징어','오징어','광어',\r\n",
        "         '광어','고등어','고등어','백상아리','금붕어']\r\n",
        "print(잡은물고기[0])\r\n",
        "print(잡은물고기[0:3])\r\n",
        "print(잡은물고기[0:7:2])\r\n",
        "잡은물고기[-1] = '백상아리'"
      ],
      "execution_count": 123,
      "outputs": [
        {
          "output_type": "stream",
          "text": [
            "광어\n",
            "['광어', '고등어', '오징어']\n",
            "['광어', '오징어', '광어', '고등어']\n"
          ],
          "name": "stdout"
        }
      ]
    },
    {
      "cell_type": "code",
      "metadata": {
        "colab": {
          "base_uri": "https://localhost:8080/"
        },
        "id": "GeaS8atXXQ69",
        "outputId": "088123d5-cc9c-4dc1-dc50-4bc88aeefabe"
      },
      "source": [
        "잡은물고기.count('백상아리')\r\n",
        "잡은물고기.append('백상아리')\r\n",
        "잡은물고기\r\n",
        "# 잡은물고기.clear() 비우기\r\n",
        "# 잡은물고기.copy()\r\n",
        "잡은물고기.extend(['광어'])\r\n",
        "잡은물고기"
      ],
      "execution_count": 126,
      "outputs": [
        {
          "output_type": "execute_result",
          "data": {
            "text/plain": [
              "['광어',\n",
              " '고등어',\n",
              " '오징어',\n",
              " '오징어',\n",
              " '광어',\n",
              " '광어',\n",
              " '고등어',\n",
              " '고등어',\n",
              " '백상아리',\n",
              " '백상아리',\n",
              " '백상아리',\n",
              " '광어',\n",
              " '백상아리']"
            ]
          },
          "metadata": {
            "tags": []
          },
          "execution_count": 126
        }
      ]
    },
    {
      "cell_type": "code",
      "metadata": {
        "colab": {
          "base_uri": "https://localhost:8080/"
        },
        "id": "xaF6VdqfXN8a",
        "outputId": "431fc800-67d7-4aa0-a070-283931090345"
      },
      "source": [
        "잡은물고기.index('백상아리')\r\n",
        "잡은물고기.insert(3,\"백상아리\")\r\n",
        "잡은물고기\r\n",
        "잡은물고기.pop() \r\n",
        "#pop안에 index를 넣어서 지울 수 있다.\r\n",
        "#dle 잡은물고기[0]\r\n",
        "잡은물고기"
      ],
      "execution_count": null,
      "outputs": [
        {
          "output_type": "execute_result",
          "data": {
            "text/plain": [
              "['광어',\n",
              " '고등어',\n",
              " '오징어',\n",
              " '백상아리',\n",
              " '백상아리',\n",
              " '백상아리',\n",
              " '백상아리',\n",
              " '백상아리',\n",
              " '백상아리',\n",
              " '백상아리',\n",
              " '백상아리',\n",
              " '백상아리',\n",
              " '오징어',\n",
              " '광어',\n",
              " '광어',\n",
              " '고등어',\n",
              " '고등어',\n",
              " '백상아리',\n",
              " '백상아리',\n",
              " '백상아리']"
            ]
          },
          "metadata": {
            "tags": []
          },
          "execution_count": 63
        }
      ]
    },
    {
      "cell_type": "code",
      "metadata": {
        "colab": {
          "base_uri": "https://localhost:8080/"
        },
        "id": "jxKKr1TSWqvU",
        "outputId": "c220a1c9-f98b-40a5-f80b-61ba2651822e"
      },
      "source": [
        "잡은물고기.remove('백상아리')\r\n",
        "잡은물고기\r\n"
      ],
      "execution_count": null,
      "outputs": [
        {
          "output_type": "execute_result",
          "data": {
            "text/plain": [
              "['광어', '고등어', '오징어', '오징어', '광어', '광어', '고등어', '고등어', '백상아리', '백상아리', '백상아리']"
            ]
          },
          "metadata": {
            "tags": []
          },
          "execution_count": 72
        }
      ]
    },
    {
      "cell_type": "code",
      "metadata": {
        "colab": {
          "base_uri": "https://localhost:8080/"
        },
        "id": "3mRDDii_XHHg",
        "outputId": "e759125f-2256-4920-929d-aafaaa716c9b"
      },
      "source": [
        "잡은물고기.reverse()\r\n",
        "잡은물고기"
      ],
      "execution_count": null,
      "outputs": [
        {
          "output_type": "execute_result",
          "data": {
            "text/plain": [
              "['백상아리', '백상아리', '백상아리', '고등어', '고등어', '광어', '광어', '오징어', '오징어', '고등어', '광어']"
            ]
          },
          "metadata": {
            "tags": []
          },
          "execution_count": 75
        }
      ]
    },
    {
      "cell_type": "code",
      "metadata": {
        "colab": {
          "base_uri": "https://localhost:8080/"
        },
        "id": "Dmspqmf2WlTQ",
        "outputId": "f081ab1f-6039-48ec-99ba-c65eb5c68be1"
      },
      "source": [
        "잡은물고기.sort()\r\n",
        "잡은물고기"
      ],
      "execution_count": null,
      "outputs": [
        {
          "output_type": "execute_result",
          "data": {
            "text/plain": [
              "['고등어', '고등어', '고등어', '광어', '광어', '광어', '백상아리', '백상아리', '백상아리', '오징어', '오징어']"
            ]
          },
          "metadata": {
            "tags": []
          },
          "execution_count": 76
        }
      ]
    },
    {
      "cell_type": "code",
      "metadata": {
        "colab": {
          "base_uri": "https://localhost:8080/"
        },
        "id": "Vy-hA1Q0c2C9",
        "outputId": "8c4527a3-0c9c-4ff4-e5a9-f3539e7bb5d3"
      },
      "source": [
        "잡은물고기_튜플 = ('고등어', '고등어', '고등어', '광어', '광어', '광어', '백상아리', '백상아리', '백상아리', '오징어', '오징어')\r\n",
        "잡은물고기_튜플\r\n",
        "print(type(잡은물고기_튜플))\r\n",
        "print(dir(잡은물고기_튜플))\r\n",
        "잡은물고기_튜플[::-1]\r\n",
        "# 잡은물고기_튜플[0]"
      ],
      "execution_count": 128,
      "outputs": [
        {
          "output_type": "stream",
          "text": [
            "<class 'tuple'>\n",
            "['__add__', '__class__', '__contains__', '__delattr__', '__dir__', '__doc__', '__eq__', '__format__', '__ge__', '__getattribute__', '__getitem__', '__getnewargs__', '__gt__', '__hash__', '__init__', '__init_subclass__', '__iter__', '__le__', '__len__', '__lt__', '__mul__', '__ne__', '__new__', '__reduce__', '__reduce_ex__', '__repr__', '__rmul__', '__setattr__', '__sizeof__', '__str__', '__subclasshook__', 'count', 'index']\n"
          ],
          "name": "stdout"
        },
        {
          "output_type": "execute_result",
          "data": {
            "text/plain": [
              "('오징어', '오징어', '백상아리', '백상아리', '백상아리', '광어', '광어', '광어', '고등어', '고등어', '고등어')"
            ]
          },
          "metadata": {
            "tags": []
          },
          "execution_count": 128
        }
      ]
    },
    {
      "cell_type": "code",
      "metadata": {
        "id": "9REcMDIwc1_4"
      },
      "source": [
        "#{'key':'value'}\r\n",
        "\r\n",
        "잡은물고기_딕셔너리 = {'광어':3,'고등어':3,'오징어':2,'백상아리':3}"
      ],
      "execution_count": null,
      "outputs": []
    },
    {
      "cell_type": "code",
      "metadata": {
        "colab": {
          "base_uri": "https://localhost:8080/"
        },
        "id": "avSWKSRec18K",
        "outputId": "d731d6b4-92d9-4610-fc6d-29d0f39ac8f1"
      },
      "source": [
        "잡은물고기_딕셔너리['광어']"
      ],
      "execution_count": null,
      "outputs": [
        {
          "output_type": "execute_result",
          "data": {
            "text/plain": [
              "3"
            ]
          },
          "metadata": {
            "tags": []
          },
          "execution_count": 90
        }
      ]
    },
    {
      "cell_type": "code",
      "metadata": {
        "colab": {
          "base_uri": "https://localhost:8080/"
        },
        "id": "EsStVQxWc15G",
        "outputId": "0562a7a6-7f6c-42b5-a114-9025f474a0c0"
      },
      "source": [
        "잡은물고기_딕셔너리['광어']\r\n",
        "del 잡은물고기_딕셔너리['고등어']\r\n",
        "잡은물고기_딕셔너리"
      ],
      "execution_count": null,
      "outputs": [
        {
          "output_type": "execute_result",
          "data": {
            "text/plain": [
              "{'광어': 3, '백상아리': 2, '오징어': 2}"
            ]
          },
          "metadata": {
            "tags": []
          },
          "execution_count": 91
        }
      ]
    },
    {
      "cell_type": "code",
      "metadata": {
        "colab": {
          "base_uri": "https://localhost:8080/"
        },
        "id": "7wlAV9KPc11w",
        "outputId": "d0efb80c-4d3f-4f2e-e956-de3c47513a8e"
      },
      "source": [
        "print(type(잡은물고기_딕셔너리))\r\n",
        "print(dir(잡은물고기_딕셔너리))"
      ],
      "execution_count": null,
      "outputs": [
        {
          "output_type": "stream",
          "text": [
            "<class 'dict'>\n",
            "['__class__', '__contains__', '__delattr__', '__delitem__', '__dir__', '__doc__', '__eq__', '__format__', '__ge__', '__getattribute__', '__getitem__', '__gt__', '__hash__', '__init__', '__init_subclass__', '__iter__', '__le__', '__len__', '__lt__', '__ne__', '__new__', '__reduce__', '__reduce_ex__', '__repr__', '__setattr__', '__setitem__', '__sizeof__', '__str__', '__subclasshook__', 'clear', 'copy', 'fromkeys', 'get', 'items', 'keys', 'pop', 'popitem', 'setdefault', 'update', 'values']\n"
          ],
          "name": "stdout"
        }
      ]
    },
    {
      "cell_type": "code",
      "metadata": {
        "colab": {
          "base_uri": "https://localhost:8080/"
        },
        "id": "ZKxjhSSjc1zG",
        "outputId": "68791ba6-2270-499c-cde5-49a1b7f0346e"
      },
      "source": [
        "잡은물고기_딕셔너리.items()"
      ],
      "execution_count": null,
      "outputs": [
        {
          "output_type": "execute_result",
          "data": {
            "text/plain": [
              "dict_items([('광어', 3), ('오징어', 2), ('백상아리', 2)])"
            ]
          },
          "metadata": {
            "tags": []
          },
          "execution_count": 93
        }
      ]
    },
    {
      "cell_type": "code",
      "metadata": {
        "colab": {
          "base_uri": "https://localhost:8080/"
        },
        "id": "e6CtHpBhc1vt",
        "outputId": "da6a70ba-5483-4b15-811c-3b25a53f9bac"
      },
      "source": [
        "잡은물고기_딕셔너리.values()"
      ],
      "execution_count": null,
      "outputs": [
        {
          "output_type": "execute_result",
          "data": {
            "text/plain": [
              "dict_values([3, 2, 2])"
            ]
          },
          "metadata": {
            "tags": []
          },
          "execution_count": 94
        }
      ]
    },
    {
      "cell_type": "code",
      "metadata": {
        "colab": {
          "base_uri": "https://localhost:8080/"
        },
        "id": "w6w-OBVmc1sc",
        "outputId": "d8277645-95f7-4c9d-ef15-ff5d76703b00"
      },
      "source": [
        "잡은물고기_딕셔너리.keys()"
      ],
      "execution_count": null,
      "outputs": [
        {
          "output_type": "execute_result",
          "data": {
            "text/plain": [
              "dict_keys(['광어', '오징어', '백상아리'])"
            ]
          },
          "metadata": {
            "tags": []
          },
          "execution_count": 95
        }
      ]
    },
    {
      "cell_type": "code",
      "metadata": {
        "colab": {
          "base_uri": "https://localhost:8080/"
        },
        "id": "baJf2GeLc1pj",
        "outputId": "a3ad18d1-8ef2-4660-fcba-bbfec753f54b"
      },
      "source": [
        "잡은물고기_딕셔너리_복사 = 잡은물고기_딕셔너리.copy()\r\n",
        "잡은물고기_딕셔너리_복사['백상아리'] = 10\r\n",
        "잡은물고기_딕셔너리_복사"
      ],
      "execution_count": null,
      "outputs": [
        {
          "output_type": "execute_result",
          "data": {
            "text/plain": [
              "{'광어': 3, '백상아리': 10, '오징어': 2}"
            ]
          },
          "metadata": {
            "tags": []
          },
          "execution_count": 101
        }
      ]
    },
    {
      "cell_type": "code",
      "metadata": {
        "colab": {
          "base_uri": "https://localhost:8080/"
        },
        "id": "t00Qs3BEc1it",
        "outputId": "f24d8d6f-f4d0-426d-f17f-4bfdd47aea1e"
      },
      "source": [
        "잡은물고기_딕셔너리"
      ],
      "execution_count": null,
      "outputs": [
        {
          "output_type": "execute_result",
          "data": {
            "text/plain": [
              "{'광어': 3, '백상아리': 5, '오징어': 2}"
            ]
          },
          "metadata": {
            "tags": []
          },
          "execution_count": 102
        }
      ]
    },
    {
      "cell_type": "code",
      "metadata": {
        "id": "XglbU3b2fQnC"
      },
      "source": [
        "#잡은물고기_딕셔너리_복사 -> 잡은물고기_딕셔너리 -> {'광어':4,'백상아리':5,'오징어':2}\r\n",
        "#잡은물고기_딕셔너리_복사 -> {'광어':4,'백상아리':5,'오징어':2}\r\n",
        "# 잡은물고기_딕셔너리 -> {'광어':4,'백상아리':3,'오징어':2}"
      ],
      "execution_count": null,
      "outputs": []
    },
    {
      "cell_type": "code",
      "metadata": {
        "colab": {
          "base_uri": "https://localhost:8080/"
        },
        "id": "ONT7SvYdfQzf",
        "outputId": "73c8710b-09d9-4a30-a3c8-ca240886759d"
      },
      "source": [
        "잡은물고기"
      ],
      "execution_count": null,
      "outputs": [
        {
          "output_type": "execute_result",
          "data": {
            "text/plain": [
              "['고등어', '고등어', '고등어', '광어', '광어', '광어', '백상아리', '백상아리', '백상아리', '오징어', '오징어']"
            ]
          },
          "metadata": {
            "tags": []
          },
          "execution_count": 103
        }
      ]
    },
    {
      "cell_type": "code",
      "metadata": {
        "colab": {
          "base_uri": "https://localhost:8080/"
        },
        "id": "EJW2iVWJfQ3z",
        "outputId": "b2f5e722-1dfb-4dc6-ea06-a1cec0a8b59b"
      },
      "source": [
        "test = set(잡은물고기)#중복 없음 허락하지 않음\r\n",
        "test"
      ],
      "execution_count": null,
      "outputs": [
        {
          "output_type": "execute_result",
          "data": {
            "text/plain": [
              "{'고등어', '광어', '백상아리', '오징어'}"
            ]
          },
          "metadata": {
            "tags": []
          },
          "execution_count": 114
        }
      ]
    },
    {
      "cell_type": "code",
      "metadata": {
        "colab": {
          "base_uri": "https://localhost:8080/"
        },
        "id": "IUrbT8DpfQ62",
        "outputId": "5f8fe332-3a1f-467a-fffc-526df75866fe"
      },
      "source": [
        "잡은물고기_집합 = {'고등어','광어','대왕오징어','고등어'}\r\n",
        "잡은물고기_집합"
      ],
      "execution_count": null,
      "outputs": [
        {
          "output_type": "execute_result",
          "data": {
            "text/plain": [
              "{'고등어', '광어', '대왕오징어'}"
            ]
          },
          "metadata": {
            "tags": []
          },
          "execution_count": 106
        }
      ]
    },
    {
      "cell_type": "code",
      "metadata": {
        "colab": {
          "base_uri": "https://localhost:8080/"
        },
        "id": "eSkeGfqSfQ95",
        "outputId": "de616aca-e7d4-483e-e867-5571fbacbd0d"
      },
      "source": [
        "print(type(잡은물고기_집합))\r\n",
        "print(dir(잡은물고기_집합))\r\n",
        "\r\n",
        "test.difference(잡은물고기_집합)\r\n",
        "test.intersection(잡은물고기_집합)\r\n",
        "test.union(잡은물고기_집합)"
      ],
      "execution_count": null,
      "outputs": [
        {
          "output_type": "stream",
          "text": [
            "<class 'set'>\n",
            "['__and__', '__class__', '__contains__', '__delattr__', '__dir__', '__doc__', '__eq__', '__format__', '__ge__', '__getattribute__', '__gt__', '__hash__', '__iand__', '__init__', '__init_subclass__', '__ior__', '__isub__', '__iter__', '__ixor__', '__le__', '__len__', '__lt__', '__ne__', '__new__', '__or__', '__rand__', '__reduce__', '__reduce_ex__', '__repr__', '__ror__', '__rsub__', '__rxor__', '__setattr__', '__sizeof__', '__str__', '__sub__', '__subclasshook__', '__xor__', 'add', 'clear', 'copy', 'difference', 'difference_update', 'discard', 'intersection', 'intersection_update', 'isdisjoint', 'issubset', 'issuperset', 'pop', 'remove', 'symmetric_difference', 'symmetric_difference_update', 'union', 'update']\n"
          ],
          "name": "stdout"
        },
        {
          "output_type": "execute_result",
          "data": {
            "text/plain": [
              "{'고등어', '광어', '대왕오징어', '백상아리', '오징어'}"
            ]
          },
          "metadata": {
            "tags": []
          },
          "execution_count": 119
        }
      ]
    },
    {
      "cell_type": "code",
      "metadata": {
        "colab": {
          "base_uri": "https://localhost:8080/"
        },
        "id": "k6QegzQmg8cL",
        "outputId": "1b509923-776f-48ec-a16d-467114752489"
      },
      "source": [
        "set('aaabbbccccc')"
      ],
      "execution_count": null,
      "outputs": [
        {
          "output_type": "execute_result",
          "data": {
            "text/plain": [
              "{'a', 'b', 'c'}"
            ]
          },
          "metadata": {
            "tags": []
          },
          "execution_count": 122
        }
      ]
    },
    {
      "cell_type": "code",
      "metadata": {
        "colab": {
          "base_uri": "https://localhost:8080/"
        },
        "id": "g3BXKXeghI6Z",
        "outputId": "a91267ab-7398-4887-fdba-3903e1206845"
      },
      "source": [
        "print(\"bool('test') : \",bool('test!'))\r\n",
        "print(\"bool(1) : \",bool(1))\r\n",
        "print(\"bool(0) : \",bool(0))\r\n",
        "print(\"bool(-1) : \",bool(-1))\r\n",
        "print(\"bool(' ') : \",bool(' '))\r\n",
        "print(\"bool('') : \",bool(''))\r\n",
        "print(\"bool(None) : \",bool(None))\r\n",
        "\r\n",
        "[97,90,80,None,99]\r\n"
      ],
      "execution_count": null,
      "outputs": [
        {
          "output_type": "stream",
          "text": [
            "bool('test') :  True\n",
            "bool(1) :  True\n",
            "bool(0) :  False\n",
            "bool(-1) :  True\n",
            "bool(' ') :  True\n",
            "bool('') :  False\n",
            "bool(None) :  False\n"
          ],
          "name": "stdout"
        },
        {
          "output_type": "execute_result",
          "data": {
            "text/plain": [
              "[97, 90, 80, None, 99]"
            ]
          },
          "metadata": {
            "tags": []
          },
          "execution_count": 124
        }
      ]
    },
    {
      "cell_type": "code",
      "metadata": {
        "colab": {
          "base_uri": "https://localhost:8080/"
        },
        "id": "DQj49bf8hJwR",
        "outputId": "d11ddd16-80fe-462c-a1ae-a4c2d404ad94"
      },
      "source": [
        "print(f'bool[1,2,3] : {bool([1,2,3])}')\r\n",
        "print(f'bool[1,2,3] : {bool([])}')"
      ],
      "execution_count": null,
      "outputs": [
        {
          "output_type": "stream",
          "text": [
            "bool[1,2,3] : True\n",
            "bool[1,2,3] : False\n"
          ],
          "name": "stdout"
        }
      ]
    },
    {
      "cell_type": "code",
      "metadata": {
        "colab": {
          "base_uri": "https://localhost:8080/"
        },
        "id": "9p8uF2lAhJs9",
        "outputId": "b3635cc1-a4ac-4db0-97d8-baf861c97349"
      },
      "source": [
        "tuple([1,2,3])"
      ],
      "execution_count": null,
      "outputs": [
        {
          "output_type": "execute_result",
          "data": {
            "text/plain": [
              "(1, 2, 3)"
            ]
          },
          "metadata": {
            "tags": []
          },
          "execution_count": 127
        }
      ]
    },
    {
      "cell_type": "code",
      "metadata": {
        "colab": {
          "base_uri": "https://localhost:8080/"
        },
        "id": "TOqmqyPwhJqO",
        "outputId": "adf633b4-6bfc-4f7b-b650-237d94c46e92"
      },
      "source": [
        "t = (1,2,3)\r\n",
        "list(t)"
      ],
      "execution_count": null,
      "outputs": [
        {
          "output_type": "execute_result",
          "data": {
            "text/plain": [
              "[1, 2, 3]"
            ]
          },
          "metadata": {
            "tags": []
          },
          "execution_count": 130
        }
      ]
    },
    {
      "cell_type": "code",
      "metadata": {
        "colab": {
          "base_uri": "https://localhost:8080/"
        },
        "id": "ff-qIwvQhJnd",
        "outputId": "5ac89751-b698-49bb-e475-35d967920448"
      },
      "source": [
        "dict([('key1','value1'),('key2','value2'),('key3','value3')])"
      ],
      "execution_count": null,
      "outputs": [
        {
          "output_type": "execute_result",
          "data": {
            "text/plain": [
              "{'key1': 'value1', 'key2': 'value2', 'key3': 'value3'}"
            ]
          },
          "metadata": {
            "tags": []
          },
          "execution_count": 131
        }
      ]
    },
    {
      "cell_type": "code",
      "metadata": {
        "colab": {
          "base_uri": "https://localhost:8080/",
          "height": 55
        },
        "id": "sw2zdyYXhJkl",
        "outputId": "df93d00b-1ecd-4399-ab8e-e67aa8d293f0"
      },
      "source": [
        "x = input('좋아하는 숫자를 입력하세요 : ')\r\n",
        "x"
      ],
      "execution_count": null,
      "outputs": [
        {
          "output_type": "stream",
          "text": [
            "좋아하는 숫자를 입력하세요 : 10\n"
          ],
          "name": "stdout"
        },
        {
          "output_type": "execute_result",
          "data": {
            "application/vnd.google.colaboratory.intrinsic+json": {
              "type": "string"
            },
            "text/plain": [
              "'10'"
            ]
          },
          "metadata": {
            "tags": []
          },
          "execution_count": 133
        }
      ]
    },
    {
      "cell_type": "code",
      "metadata": {
        "colab": {
          "base_uri": "https://localhost:8080/"
        },
        "id": "TAZilnTJhJh4",
        "outputId": "47b7f252-9b6e-4c05-fd27-22686dd98045"
      },
      "source": [
        "print('hello', end='!')\r\n",
        "print('hello', end='!')\r\n",
        "print('hello', end='!')\r\n",
        "print('hello', end='!')\r\n",
        "print('hello', end='!')"
      ],
      "execution_count": null,
      "outputs": [
        {
          "output_type": "stream",
          "text": [
            "hello!hello!hello!hello!hello!"
          ],
          "name": "stdout"
        }
      ]
    },
    {
      "cell_type": "code",
      "metadata": {
        "colab": {
          "base_uri": "https://localhost:8080/"
        },
        "id": "62qTdWffhJfD",
        "outputId": "089ddd9f-3d38-4aba-d2f5-dc52c869be62"
      },
      "source": [
        "이름 = '캣'\r\n",
        "\r\n",
        "print('1. 제 이름은', 이름, '입니다. 제 나이는 ',나이, '입니다.')\r\n",
        "print(f'2. 제이름은 {이름}입니다. 제 나이는 {나이}입니다.')\r\n",
        "print('3. 제 이름은 {}입니다. 제 나이는 {}입니다.'.format(이름,나이))\r\n",
        "print('4. 제 이름은 %s입니다. 제 나이는 %d입니다.'%(이름,나이))"
      ],
      "execution_count": null,
      "outputs": [
        {
          "output_type": "stream",
          "text": [
            "1. 제 이름은 캣 입니다. 제 나이는  10 입니다.\n",
            "2. 제이름은 캣입니다. 제 나이는 10입니다.\n",
            "3. 제 이름은 캣입니다. 제 나이는 10입니다.\n",
            "4. 제 이름은 캣입니다. 제 나이는 10입니다.\n"
          ],
          "name": "stdout"
        }
      ]
    },
    {
      "cell_type": "markdown",
      "metadata": {
        "id": "bMsC-IASnOFI"
      },
      "source": [
        "# 2장 생선을 잡아라!\r\n",
        "\r\n",
        "##2.1 산술연산자"
      ]
    },
    {
      "cell_type": "code",
      "metadata": {
        "id": "RwMY_ESAhJcO"
      },
      "source": [
        "오늘_잡은_물고기 = 0\r\n",
        "오늘_판_물고기 = 0\r\n",
        "매출 = 0"
      ],
      "execution_count": 3,
      "outputs": []
    },
    {
      "cell_type": "code",
      "metadata": {
        "id": "ddtCaY_unc42"
      },
      "source": [
        "오늘_잡은_물고기 = 오늘_잡은_물고기 + 10\r\n",
        "오늘_판_물고기 = 오늘_잡은_물고기\r\n",
        "재고 = 오늘_잡은_물고기 - 오늘_판_물고기\r\n",
        "매출 = 오늘_판_물고기 * 100 #모든 물고기는 100원 입니다."
      ],
      "execution_count": 4,
      "outputs": []
    },
    {
      "cell_type": "code",
      "metadata": {
        "colab": {
          "base_uri": "https://localhost:8080/"
        },
        "id": "Ip_-sEDfn75j",
        "outputId": "cc34dde2-bdc0-45da-de15-8d4a766a2cb1"
      },
      "source": [
        "print(f'나는 오늘 {오늘_잡은_물고기} 마리를 잡았고 {오늘_판_물고기} 마리를 팔았다냥')\r\n",
        "print(f'오늘 재고는 {재고} 마리다냥')\r\n",
        "print(f'오늘 {매출} 원을 벌었으니 내일은, {매출*2} 원을 벌테다!')\r\n",
        "print('오늘', 매출,'원을 벌었으니 내일은', 매출*2,'원을 벌테다!')"
      ],
      "execution_count": 5,
      "outputs": [
        {
          "output_type": "stream",
          "text": [
            "나는 오늘 10 마리를 잡았고 10 마리를 팔았다냥\n",
            "오늘 재고는 0 마리다냥\n",
            "오늘 1000 원을 벌었으니 내일은, 2000 원을 벌테다!\n",
            "오늘 1000 원을 벌었으니 내일은 2000 원을 벌테다!\n"
          ],
          "name": "stdout"
        }
      ]
    },
    {
      "cell_type": "code",
      "metadata": {
        "id": "OigeiE0wo0Dd"
      },
      "source": [
        "# A등급 : 1000원, B등급 : 500원, C등급: 100원\r\n",
        "# 오늘 잡은 물고기 : A등급 5마리, B등급 7마리, C등급 10마리\r\n",
        "\r\n",
        "A등급 = 5\r\n",
        "B등급 = 7\r\n",
        "C등급 = 10\r\n",
        "매출 = 0"
      ],
      "execution_count": 6,
      "outputs": []
    },
    {
      "cell_type": "code",
      "metadata": {
        "colab": {
          "base_uri": "https://localhost:8080/"
        },
        "id": "-cUz61qRo0Ax",
        "outputId": "0802dca1-6754-46b9-aff0-6bec33e5802e"
      },
      "source": [
        "#손님의 주문\r\n",
        "#A등급 2마리, B등급 3마리 주세요.\r\n",
        "#받은 돈 = 4000원\r\n",
        "\r\n",
        "등급별_가격 = {'A등급':1000, 'B등급': 500, 'C등급' : 100}\r\n",
        "\r\n",
        "A등급 = A등급 - 2\r\n",
        "B등급 = B등급 - 3 \r\n",
        "합계 = (등급별_가격['A등급'] * 2) + (등급별_가격['B등급'] * 3)\r\n",
        "받은_돈 = 4000\r\n",
        "\r\n",
        "print(f'감사합니다. 여기 거스름 돈 {받은_돈 - 합계}원 입니다.')\r\n",
        "\r\n",
        "재고 = A등급 + B등급 + C등급\r\n",
        "매출 = 매출 + 합계\r\n",
        "\r\n",
        "print(f'현재 매출 : {매출}, 재고 : {재고}')"
      ],
      "execution_count": 7,
      "outputs": [
        {
          "output_type": "stream",
          "text": [
            "감사합니다. 여기 거스름 돈 500원 입니다.\n",
            "현재 매출 : 3500, 재고 : 17\n"
          ],
          "name": "stdout"
        }
      ]
    },
    {
      "cell_type": "code",
      "metadata": {
        "colab": {
          "base_uri": "https://localhost:8080/"
        },
        "id": "dGbDMPqdoz95",
        "outputId": "0f220097-1a19-4aa5-8dc9-5daf576b6443"
      },
      "source": [
        "세금 = 매출/4\r\n",
        "순익 = 매출 - 세금\r\n",
        "\r\n",
        "매출, 세금, 순익"
      ],
      "execution_count": 8,
      "outputs": [
        {
          "output_type": "execute_result",
          "data": {
            "text/plain": [
              "(3500, 875.0, 2625.0)"
            ]
          },
          "metadata": {
            "tags": []
          },
          "execution_count": 8
        }
      ]
    },
    {
      "cell_type": "code",
      "metadata": {
        "colab": {
          "base_uri": "https://localhost:8080/"
        },
        "id": "GC29-ZWboz62",
        "outputId": "7d28754f-1597-462d-97b6-952c5c04189a"
      },
      "source": [
        "# 산술연산자 정리\r\n",
        "\r\n",
        "10 / 3 #float \r\n",
        "10 // 3 #int 몫\r\n",
        "10 * 3\r\n",
        "3 ** 3\r\n",
        "10 % 2 #나머지\r\n"
      ],
      "execution_count": 13,
      "outputs": [
        {
          "output_type": "execute_result",
          "data": {
            "text/plain": [
              "0"
            ]
          },
          "metadata": {
            "tags": []
          },
          "execution_count": 13
        }
      ]
    },
    {
      "cell_type": "code",
      "metadata": {
        "colab": {
          "base_uri": "https://localhost:8080/"
        },
        "id": "D0nUM5qyoz4b",
        "outputId": "75b0f02d-4e88-4f8e-f0db-b0c41f580d69"
      },
      "source": [
        "오늘_잡은_물고기 += 10 #할당연산\r\n",
        "오늘_잡은_물고기"
      ],
      "execution_count": 17,
      "outputs": [
        {
          "output_type": "execute_result",
          "data": {
            "text/plain": [
              "50"
            ]
          },
          "metadata": {
            "tags": []
          },
          "execution_count": 17
        }
      ]
    },
    {
      "cell_type": "code",
      "metadata": {
        "colab": {
          "base_uri": "https://localhost:8080/"
        },
        "id": "H9j1h51ioz2H",
        "outputId": "e0dd2ddf-81ab-44dd-dd0b-d03501e29a67"
      },
      "source": [
        "오늘_잡은_물고기\r\n",
        "오늘_판_물고기\r\n",
        "# == 값,타입 동시에 보는 python\r\n",
        "# === 값, 타입을 동시에 보는 javascript\r\n",
        "# == 값만 보는 javascript"
      ],
      "execution_count": 18,
      "outputs": [
        {
          "output_type": "execute_result",
          "data": {
            "text/plain": [
              "10"
            ]
          },
          "metadata": {
            "tags": []
          },
          "execution_count": 18
        }
      ]
    },
    {
      "cell_type": "code",
      "metadata": {
        "colab": {
          "base_uri": "https://localhost:8080/"
        },
        "id": "9YpWXc05ozzd",
        "outputId": "cc431255-d17e-41a7-a037-cb40f269dff9"
      },
      "source": [
        "# 논리 연산자\r\n",
        "\r\n",
        "# True + False\r\n",
        "a = True\r\n",
        "b = False\r\n",
        "a and a #논리곱(*)\r\n",
        "a and b\r\n",
        "\r\n",
        "a or a #논리 합(+)\r\n",
        "a or b\r\n",
        "\r\n",
        "not a"
      ],
      "execution_count": 19,
      "outputs": [
        {
          "output_type": "execute_result",
          "data": {
            "text/plain": [
              "False"
            ]
          },
          "metadata": {
            "tags": []
          },
          "execution_count": 19
        }
      ]
    },
    {
      "cell_type": "code",
      "metadata": {
        "colab": {
          "base_uri": "https://localhost:8080/"
        },
        "id": "ViRH4ATaozwD",
        "outputId": "3b84481f-3433-4cae-cec9-271c6c987124"
      },
      "source": [
        "오늘_잡은_물고기 = 10\r\n",
        "오늘_판_물고기 = 10\r\n",
        "전날_매출 = 10000\r\n",
        "오늘_매출 = 20000\r\n",
        "\r\n",
        "if (오늘_잡은_물고기 == 오늘_판_물고기) and (전날_매출*2 <= 오늘_매출):\r\n",
        "  print('오늘 물고기 판매 끝!')\r\n",
        "  print('매출 목표 달성!')\r\n",
        "else:\r\n",
        "  print('오늘의 목표를 달성하지 못했습니다.')"
      ],
      "execution_count": 21,
      "outputs": [
        {
          "output_type": "stream",
          "text": [
            "오늘 물고기 판매 끝!\n",
            "매출 목표 달성!\n"
          ],
          "name": "stdout"
        }
      ]
    },
    {
      "cell_type": "code",
      "metadata": {
        "colab": {
          "base_uri": "https://localhost:8080/"
        },
        "id": "znvYLrsiozte",
        "outputId": "08e06656-a27e-4604-f1ac-ed5f78f6d490"
      },
      "source": [
        "x = 10\r\n",
        "\r\n",
        "if x%3 == 0 and x%5 ==0:\r\n",
        "  print('3과 5의 공배수입니다.')\r\n",
        "else:\r\n",
        "  print('3과 5의 공배수가 아닙니다.')"
      ],
      "execution_count": 23,
      "outputs": [
        {
          "output_type": "stream",
          "text": [
            "3과 5의 공배수가 아닙니다.\n"
          ],
          "name": "stdout"
        }
      ]
    },
    {
      "cell_type": "code",
      "metadata": {
        "colab": {
          "base_uri": "https://localhost:8080/"
        },
        "id": "vi5JnlxWVwZ8",
        "outputId": "c0655d40-ba34-4852-d758-ed96c955f8eb"
      },
      "source": [
        "# 비트 연산자\r\n",
        "\r\n",
        "a = 10\r\n",
        "b = 2\r\n",
        "print(a & b)"
      ],
      "execution_count": 26,
      "outputs": [
        {
          "output_type": "stream",
          "text": [
            "2\n"
          ],
          "name": "stdout"
        }
      ]
    },
    {
      "cell_type": "code",
      "metadata": {
        "colab": {
          "base_uri": "https://localhost:8080/"
        },
        "id": "NL5whLAbVVo9",
        "outputId": "01455a33-2715-4689-a136-f17ca2de636d"
      },
      "source": [
        "bin(10), bin(2)"
      ],
      "execution_count": 24,
      "outputs": [
        {
          "output_type": "execute_result",
          "data": {
            "text/plain": [
              "('0b1010', '0b10')"
            ]
          },
          "metadata": {
            "tags": []
          },
          "execution_count": 24
        }
      ]
    },
    {
      "cell_type": "code",
      "metadata": {
        "id": "2p4_a1tnVbzE"
      },
      "source": [
        "1010 -> 10\r\n",
        "0010 -> 2\r\n",
        "----\r\n",
        "# 0010 -> 2"
      ],
      "execution_count": null,
      "outputs": []
    },
    {
      "cell_type": "code",
      "metadata": {
        "colab": {
          "base_uri": "https://localhost:8080/"
        },
        "id": "LJhpt_jdVWDn",
        "outputId": "7c43dda1-e3d0-4f65-e497-0c8deffab030"
      },
      "source": [
        "print(b<<2) #왼쪽으로 밀기"
      ],
      "execution_count": 27,
      "outputs": [
        {
          "output_type": "stream",
          "text": [
            "8\n"
          ],
          "name": "stdout"
        }
      ]
    },
    {
      "cell_type": "code",
      "metadata": {
        "id": "ecKpE1IxVVjQ"
      },
      "source": [
        "# 10 -> 2\r\n",
        "# 1000 -> 8 (2)\r\n",
        "# 1 -> 1 (1)"
      ],
      "execution_count": 29,
      "outputs": []
    },
    {
      "cell_type": "code",
      "metadata": {
        "colab": {
          "base_uri": "https://localhost:8080/"
        },
        "id": "OKqTlyQeVVfv",
        "outputId": "064f6173-ed1f-4cb2-854a-8b580ecac1a8"
      },
      "source": [
        "print(3>>1)"
      ],
      "execution_count": 30,
      "outputs": [
        {
          "output_type": "stream",
          "text": [
            "1\n"
          ],
          "name": "stdout"
        }
      ]
    },
    {
      "cell_type": "code",
      "metadata": {
        "colab": {
          "base_uri": "https://localhost:8080/"
        },
        "id": "iaAZ3Bg5VVde",
        "outputId": "041e5204-c6d7-482e-a39c-c0038c7a679a"
      },
      "source": [
        "a^b\r\n",
        "# 1010\r\n",
        "# 0010\r\n",
        "# ----\r\n",
        "# 1000 -> 값이 다르면 1 ---> 8\r\n",
        "a,b"
      ],
      "execution_count": 32,
      "outputs": [
        {
          "output_type": "execute_result",
          "data": {
            "text/plain": [
              "(10, 2)"
            ]
          },
          "metadata": {
            "tags": []
          },
          "execution_count": 32
        }
      ]
    },
    {
      "cell_type": "code",
      "metadata": {
        "colab": {
          "base_uri": "https://localhost:8080/"
        },
        "id": "Z_69i5LVVVaS",
        "outputId": "98771025-c07d-42c5-a818-56e5e8399e44"
      },
      "source": [
        "~a #1을 더해주고 -해주는 값"
      ],
      "execution_count": 33,
      "outputs": [
        {
          "output_type": "execute_result",
          "data": {
            "text/plain": [
              "-11"
            ]
          },
          "metadata": {
            "tags": []
          },
          "execution_count": 33
        }
      ]
    },
    {
      "cell_type": "code",
      "metadata": {
        "colab": {
          "base_uri": "https://localhost:8080/"
        },
        "id": "2DwAv9HdVVX2",
        "outputId": "d2b1b004-ae07-41bc-cc30-9786ed20e59c"
      },
      "source": [
        "a, bin(a), bin(~a) "
      ],
      "execution_count": 36,
      "outputs": [
        {
          "output_type": "execute_result",
          "data": {
            "text/plain": [
              "(10, '0b1010', '-0b1011')"
            ]
          },
          "metadata": {
            "tags": []
          },
          "execution_count": 36
        }
      ]
    },
    {
      "cell_type": "markdown",
      "metadata": {
        "id": "1Dqfb6U_XW7G"
      },
      "source": [
        "# 비트연산, 할당연산, 식별연산, in구문\r\n"
      ]
    },
    {
      "cell_type": "code",
      "metadata": {
        "colab": {
          "base_uri": "https://localhost:8080/"
        },
        "id": "foSHZ7cJVVOw",
        "outputId": "8a5d7ec0-bcdb-4d1d-c0e2-9c2857724e9a"
      },
      "source": [
        "10 + 10"
      ],
      "execution_count": 37,
      "outputs": [
        {
          "output_type": "execute_result",
          "data": {
            "text/plain": [
              "20"
            ]
          },
          "metadata": {
            "tags": []
          },
          "execution_count": 37
        }
      ]
    },
    {
      "cell_type": "code",
      "metadata": {
        "colab": {
          "base_uri": "https://localhost:8080/",
          "height": 36
        },
        "id": "CWf1f__rVVLH",
        "outputId": "b5ea48f6-f6e2-4a03-bf4a-03713302c6ff"
      },
      "source": [
        "bin(10+10)"
      ],
      "execution_count": 38,
      "outputs": [
        {
          "output_type": "execute_result",
          "data": {
            "application/vnd.google.colaboratory.intrinsic+json": {
              "type": "string"
            },
            "text/plain": [
              "'0b10100'"
            ]
          },
          "metadata": {
            "tags": []
          },
          "execution_count": 38
        }
      ]
    },
    {
      "cell_type": "code",
      "metadata": {
        "colab": {
          "base_uri": "https://localhost:8080/"
        },
        "id": "Nx14_223VVIW",
        "outputId": "24527cb7-e600-4f26-d580-3e0d3c37c51c"
      },
      "source": [
        "a = 40\r\n",
        "b = 14\r\n",
        "a & b #bit AND\r\n",
        "#101000\r\n",
        "#001110\r\n",
        "#-> 001000\r\n",
        "# bin(a), bin(b)"
      ],
      "execution_count": 44,
      "outputs": [
        {
          "output_type": "execute_result",
          "data": {
            "text/plain": [
              "8"
            ]
          },
          "metadata": {
            "tags": []
          },
          "execution_count": 44
        }
      ]
    },
    {
      "cell_type": "code",
      "metadata": {
        "colab": {
          "base_uri": "https://localhost:8080/"
        },
        "id": "krDXQnqVVVFz",
        "outputId": "6f94328e-c211-412d-fb9f-230a9bc936ae"
      },
      "source": [
        "a = 40\r\n",
        "b = 14\r\n",
        "a | b #bit OR\r\n",
        "\r\n",
        "#101000\r\n",
        "#001110\r\n",
        "#101110\r\n",
        "\r\n",
        "#bin(a), bin(b)"
      ],
      "execution_count": 42,
      "outputs": [
        {
          "output_type": "execute_result",
          "data": {
            "text/plain": [
              "46"
            ]
          },
          "metadata": {
            "tags": []
          },
          "execution_count": 42
        }
      ]
    },
    {
      "cell_type": "code",
      "metadata": {
        "colab": {
          "base_uri": "https://localhost:8080/"
        },
        "id": "0UctumJSVVDv",
        "outputId": "6db49965-d9de-4c31-f158-a9681de1a06f"
      },
      "source": [
        "a = 40\r\n",
        "b = 14\r\n",
        "a^b #bit XOR : 다를 때만 1, 같을 때에는 0\r\n",
        "\r\n",
        "#101000\r\n",
        "#001110\r\n",
        "#101110 \r\n",
        "\r\n",
        "#bin(a), bin(b)\r\n"
      ],
      "execution_count": 45,
      "outputs": [
        {
          "output_type": "execute_result",
          "data": {
            "text/plain": [
              "38"
            ]
          },
          "metadata": {
            "tags": []
          },
          "execution_count": 45
        }
      ]
    },
    {
      "cell_type": "code",
      "metadata": {
        "colab": {
          "base_uri": "https://localhost:8080/"
        },
        "id": "3OIvza5WVVAU",
        "outputId": "e7b5d657-358b-4574-f407-c52c83b2f907"
      },
      "source": [
        "a = 40\r\n",
        "b = 14\r\n",
        "~a #bit NOT(2의 보수)\r\n",
        "\r\n",
        "#101000\r\n",
        "#010111 #비트단위를 뒤짚었음!\r\n",
        "\r\n",
        "\r\n",
        "#bin(a), bin(b)\r\n"
      ],
      "execution_count": 48,
      "outputs": [
        {
          "output_type": "execute_result",
          "data": {
            "text/plain": [
              "-41"
            ]
          },
          "metadata": {
            "tags": []
          },
          "execution_count": 48
        }
      ]
    },
    {
      "cell_type": "markdown",
      "metadata": {
        "id": "USTcFQngah1A"
      },
      "source": [
        "#연습문제"
      ]
    },
    {
      "cell_type": "code",
      "metadata": {
        "id": "97wu4iZDVU-C"
      },
      "source": [
        "#1번 문제\r\n",
        "\r\n",
        "캣의_통장 = 1000000\r\n",
        "물고기의_가격 = 30\r\n",
        "잡은_물고기의_수 = 110 + 120 + 130 + 140 + 150 + 160 + 170 + 180 + 190 + 200\r\n",
        "물고기를_팔고_난_후_캣의_통장 = 1000000 + 잡은_물고기의_수 * 물고기의_가격"
      ],
      "execution_count": 73,
      "outputs": []
    },
    {
      "cell_type": "code",
      "metadata": {
        "colab": {
          "base_uri": "https://localhost:8080/"
        },
        "id": "kYwKHMGdVU7O",
        "outputId": "4308ddc7-a31b-44e5-8e27-a802609a5bea"
      },
      "source": [
        "잡은_물고기의_수,물고기를_팔고_난_후_캣의_통장"
      ],
      "execution_count": 59,
      "outputs": [
        {
          "output_type": "execute_result",
          "data": {
            "text/plain": [
              "(1550, 1046500)"
            ]
          },
          "metadata": {
            "tags": []
          },
          "execution_count": 59
        }
      ]
    },
    {
      "cell_type": "code",
      "metadata": {
        "colab": {
          "base_uri": "https://localhost:8080/"
        },
        "id": "9T9FpqJ8VU4W",
        "outputId": "2bd75182-0f35-401a-f6bc-d3d79173fdc1"
      },
      "source": [
        "잡은_물고기의_수 = (110+200) * 10 //2\r\n",
        "잡은_물고기의_수"
      ],
      "execution_count": 60,
      "outputs": [
        {
          "output_type": "execute_result",
          "data": {
            "text/plain": [
              "1550"
            ]
          },
          "metadata": {
            "tags": []
          },
          "execution_count": 60
        }
      ]
    },
    {
      "cell_type": "code",
      "metadata": {
        "colab": {
          "base_uri": "https://localhost:8080/"
        },
        "id": "PWRg-ltfeAJX",
        "outputId": "571c05aa-ae20-4b15-cf1b-a9009d7aa4f6"
      },
      "source": [
        "list(range(110, 201, 10))\r\n",
        "sum(list(range(110,201,10)))"
      ],
      "execution_count": 64,
      "outputs": [
        {
          "output_type": "execute_result",
          "data": {
            "text/plain": [
              "1550"
            ]
          },
          "metadata": {
            "tags": []
          },
          "execution_count": 64
        }
      ]
    },
    {
      "cell_type": "code",
      "metadata": {
        "colab": {
          "base_uri": "https://localhost:8080/"
        },
        "id": "iRMK2jkEeAGe",
        "outputId": "d4ce9c0c-63c4-41ab-e450-5b769aaab325"
      },
      "source": [
        "잡은_물고기의_수 = sum([110, 120, 130, 140, 150, 160, 170, 180, 190, 200])\r\n",
        "잡은_물고기의_수"
      ],
      "execution_count": 65,
      "outputs": [
        {
          "output_type": "execute_result",
          "data": {
            "text/plain": [
              "1550"
            ]
          },
          "metadata": {
            "tags": []
          },
          "execution_count": 65
        }
      ]
    },
    {
      "cell_type": "code",
      "metadata": {
        "colab": {
          "base_uri": "https://localhost:8080/",
          "height": 36
        },
        "id": "N3KcUKANeAEQ",
        "outputId": "b10c79e9-4984-4e5b-a6bf-10c543760dfc"
      },
      "source": [
        "format(물고기를_팔고_난_후_캣의_통장, ',') #format 함수"
      ],
      "execution_count": 69,
      "outputs": [
        {
          "output_type": "execute_result",
          "data": {
            "application/vnd.google.colaboratory.intrinsic+json": {
              "type": "string"
            },
            "text/plain": [
              "'1,046,500'"
            ]
          },
          "metadata": {
            "tags": []
          },
          "execution_count": 69
        }
      ]
    },
    {
      "cell_type": "code",
      "metadata": {
        "colab": {
          "base_uri": "https://localhost:8080/"
        },
        "id": "mjT6WKTueABJ",
        "outputId": "c5d7b47a-ef47-4e54-f776-0855b31fb4c4"
      },
      "source": [
        "#2번 문제\r\n",
        "\r\n",
        "반지름 = 500\r\n",
        "고기가_잘_잡히는_반경 = (반지름**2)*3.14\r\n",
        "고기가_잘_잡히는_반경"
      ],
      "execution_count": 71,
      "outputs": [
        {
          "output_type": "execute_result",
          "data": {
            "text/plain": [
              "785000.0"
            ]
          },
          "metadata": {
            "tags": []
          },
          "execution_count": 71
        }
      ]
    },
    {
      "cell_type": "code",
      "metadata": {
        "id": "W_RJtgPWd__C"
      },
      "source": [
        "#3번문제\r\n",
        "물고기를_팔고_난_후_캣의_통장 += (고기가_잘_잡히는_반경 - 314) * 110 * 물고기의_가격\r\n"
      ],
      "execution_count": 74,
      "outputs": []
    },
    {
      "cell_type": "code",
      "metadata": {
        "colab": {
          "base_uri": "https://localhost:8080/",
          "height": 36
        },
        "id": "D_XEnTYJd_8s",
        "outputId": "7f4bb759-279c-439d-feec-167483a2a55d"
      },
      "source": [
        "format(물고기를_팔고_난_후_캣의_통장, ',') #format 함수"
      ],
      "execution_count": 75,
      "outputs": [
        {
          "output_type": "execute_result",
          "data": {
            "application/vnd.google.colaboratory.intrinsic+json": {
              "type": "string"
            },
            "text/plain": [
              "'2,590,510,300.0'"
            ]
          },
          "metadata": {
            "tags": []
          },
          "execution_count": 75
        }
      ]
    },
    {
      "cell_type": "code",
      "metadata": {
        "colab": {
          "base_uri": "https://localhost:8080/"
        },
        "id": "i-2qK3Ndd_54",
        "outputId": "27ebf153-d634-4b9d-ca68-33054467beb9"
      },
      "source": [
        "# 4번 문제\r\n",
        "\r\n",
        "#A등급은 350마리, B등급은 700마리\r\n",
        "문제4_물고기_등급 = {'A등급':100, 'B등급':50}\r\n",
        "문제4_잡은_물고기의_수 = {'A등급':350, 'B등급':700}\r\n",
        "\r\n",
        "문제4_총액_A등급 = 문제4_물고기_등급['A등급'] * 문제4_잡은_물고기의_수['A등급'] \r\n",
        "문제4_총액_B등급 = 문제4_물고기_등급['B등급'] * 문제4_잡은_물고기의_수['B등급']\r\n",
        "\r\n",
        "문제4_총액 = 문제4_총액_B등급 + 문제4_총액_A등급\r\n",
        "\r\n",
        "문제4_비율 = {'A등급':문제4_총액_A등급/문제4_총액*100, 'B등급':문제4_총액_B등급/문제4_총액*100}\r\n",
        "문제4_비율"
      ],
      "execution_count": 79,
      "outputs": [
        {
          "output_type": "execute_result",
          "data": {
            "text/plain": [
              "{'A등급': 50.0, 'B등급': 50.0}"
            ]
          },
          "metadata": {
            "tags": []
          },
          "execution_count": 79
        }
      ]
    },
    {
      "cell_type": "markdown",
      "metadata": {
        "id": "JsUEho4jtu65"
      },
      "source": [
        "# 효율적으로 생선 잡기"
      ]
    },
    {
      "cell_type": "code",
      "metadata": {
        "colab": {
          "base_uri": "https://localhost:8080/"
        },
        "id": "5ly4gpYHd_3Y",
        "outputId": "a4c511ad-e94f-4800-984b-b27b04cdf165"
      },
      "source": [
        "def 낚시():\r\n",
        "    print('A등급 생선을 한 마리 잡았습니다.')\r\n",
        "print('B등급 생선을 한 마리 잡았습니다.')\r\n",
        "\r\n",
        "def 그물():\r\n",
        "    print('A등급 3마리, B등급 3마리, C등급 4마리를 잡았습니다.')\r\n",
        "\r\n",
        "def 통발():\r\n",
        "    print('문어를 하나 잡았습니다.')\r\n",
        "\r\n",
        "#함수 호출하기\r\n",
        "낚시()\r\n",
        "그물()\r\n",
        "통발()"
      ],
      "execution_count": 110,
      "outputs": [
        {
          "output_type": "stream",
          "text": [
            "B등급 생선을 한 마리 잡았습니다.\n",
            "A등급 생선을 한 마리 잡았습니다.\n",
            "A등급 3마리, B등급 3마리, C등급 4마리를 잡았습니다.\n",
            "문어를 하나 잡았습니다.\n"
          ],
          "name": "stdout"
        }
      ]
    },
    {
      "cell_type": "code",
      "metadata": {
        "colab": {
          "base_uri": "https://localhost:8080/"
        },
        "id": "mCRv9fuZd_0w",
        "outputId": "66f6fcf7-b0f7-45e3-92b5-c73cd27a72e7"
      },
      "source": [
        "def function(x, y):\r\n",
        "  z = x + y\r\n",
        "  return z\r\n",
        "\r\n",
        "print('오늘 잡은 생선 : ',function(10,9)) "
      ],
      "execution_count": 111,
      "outputs": [
        {
          "output_type": "stream",
          "text": [
            "오늘 잡은 생선 :  19\n"
          ],
          "name": "stdout"
        }
      ]
    },
    {
      "cell_type": "code",
      "metadata": {
        "colab": {
          "base_uri": "https://localhost:8080/"
        },
        "id": "VvfdN0FTd_xv",
        "outputId": "00d7380e-5704-41f7-b465-37f531419d7d"
      },
      "source": [
        "print(낚시())"
      ],
      "execution_count": 112,
      "outputs": [
        {
          "output_type": "stream",
          "text": [
            "A등급 생선을 한 마리 잡았습니다.\n",
            "None\n"
          ],
          "name": "stdout"
        }
      ]
    },
    {
      "cell_type": "code",
      "metadata": {
        "colab": {
          "base_uri": "https://localhost:8080/"
        },
        "id": "0H05BMfFd_uT",
        "outputId": "e1210ca4-6c6c-4bc6-9411-47ea3728f55b"
      },
      "source": [
        "def 계산(가격, 개수):\r\n",
        "    return 가격 * 개수\r\n",
        "\r\n",
        "print(계산(1000,5),'원입니다.')"
      ],
      "execution_count": 113,
      "outputs": [
        {
          "output_type": "stream",
          "text": [
            "5000 원입니다.\n"
          ],
          "name": "stdout"
        }
      ]
    },
    {
      "cell_type": "code",
      "metadata": {
        "colab": {
          "base_uri": "https://localhost:8080/"
        },
        "id": "Lu_nAV3Wd_sI",
        "outputId": "0a8a93b5-1b28-49f3-eed9-cb6af01eeaae"
      },
      "source": [
        "#A등급 : 1000원, B등급 : 500원, C등급 : 100원\r\n",
        "\r\n",
        "def 계산(a,b,c):\r\n",
        "    가격 = {'A등급':1000, 'B등급' : 500, 'C등급':100}\r\n",
        "    합계 = a*가격['A등급'] + b*가격['B등급'] + c*가격['C등급']\r\n",
        "    return 합계\r\n",
        "print(계산(5,2,3), '원입니다.')"
      ],
      "execution_count": 117,
      "outputs": [
        {
          "output_type": "stream",
          "text": [
            "6300 원입니다.\n"
          ],
          "name": "stdout"
        }
      ]
    },
    {
      "cell_type": "code",
      "metadata": {
        "colab": {
          "base_uri": "https://localhost:8080/"
        },
        "id": "KrSxtzOqd_p2",
        "outputId": "6bebbd32-a58b-4ac6-c050-88d5bcaa15b7"
      },
      "source": [
        "##상수\r\n",
        "\r\n",
        "PI = 3.14\r\n",
        "def circle(r):\r\n",
        "    z = r*r*PI\r\n",
        "    return z\r\n",
        "result = circle(10)\r\n",
        "print(result)"
      ],
      "execution_count": 119,
      "outputs": [
        {
          "output_type": "stream",
          "text": [
            "314.0\n"
          ],
          "name": "stdout"
        }
      ]
    },
    {
      "cell_type": "code",
      "metadata": {
        "colab": {
          "base_uri": "https://localhost:8080/"
        },
        "id": "EiJsmVRnd_m0",
        "outputId": "2617d07f-7c2b-4017-d57a-9f4b1fc6a637"
      },
      "source": [
        "## global, 전역변수\r\n",
        "A등급 = 0\r\n",
        "\r\n",
        "def 낚시():\r\n",
        "    global A등급\r\n",
        "    A등급 += 1\r\n",
        "    \r\n",
        "낚시()\r\n",
        "낚시()\r\n",
        "낚시()\r\n",
        "print(f'잡은 A등급 물고기는 {A등급}마리 입니다.')"
      ],
      "execution_count": 138,
      "outputs": [
        {
          "output_type": "stream",
          "text": [
            "잡은 A등급 물고기는 3마리 입니다.\n"
          ],
          "name": "stdout"
        }
      ]
    },
    {
      "cell_type": "code",
      "metadata": {
        "colab": {
          "base_uri": "https://localhost:8080/"
        },
        "id": "zJRSz_x6d_kC",
        "outputId": "c7ddf5d2-2f75-4708-bcc6-6adc123dd89d"
      },
      "source": [
        "## global, 전역변수\r\n",
        "A등급 = 0\r\n",
        "\r\n",
        "def 낚시(물고기):\r\n",
        "    물고기 += 1\r\n",
        "    return 물고기\r\n",
        "    \r\n",
        "A등급 = 낚시(A등급)\r\n",
        "A등급 = 낚시(A등급)\r\n",
        "A등급 = 낚시(A등급)\r\n",
        "print(f'잡은 A등급 물고기는 {A등급}마리 입니다.')"
      ],
      "execution_count": 139,
      "outputs": [
        {
          "output_type": "stream",
          "text": [
            "잡은 A등급 물고기는 3마리 입니다.\n"
          ],
          "name": "stdout"
        }
      ]
    },
    {
      "cell_type": "code",
      "metadata": {
        "colab": {
          "base_uri": "https://localhost:8080/"
        },
        "id": "Up7Fk5ssd_gz",
        "outputId": "beba850e-20b8-443e-e60e-667a0abebe01"
      },
      "source": [
        "## 함수 안에 함수 만들기\r\n",
        "\r\n",
        "def print_text():\r\n",
        "    text = '생선을 잡아보자!'\r\n",
        "    def txt():\r\n",
        "        print(text)\r\n",
        "    txt()\r\n",
        "print_text()"
      ],
      "execution_count": 141,
      "outputs": [
        {
          "output_type": "stream",
          "text": [
            "생선을 잡아보자!\n"
          ],
          "name": "stdout"
        }
      ]
    },
    {
      "cell_type": "code",
      "metadata": {
        "colab": {
          "base_uri": "https://localhost:8080/"
        },
        "id": "tDaieaCEd_cZ",
        "outputId": "121900f3-6725-431c-d8b1-b8d395bc43c7"
      },
      "source": [
        "def 생선잡기():\r\n",
        "\r\n",
        "    물고기 = {'A등급':0,'B등급':0,'C등급':0}\r\n",
        "    def 낚시():\r\n",
        "        물고기['A등급'] += 1\r\n",
        "    def 그물():\r\n",
        "        물고기['A등급'] += 3\r\n",
        "        물고기['B등급'] += 3\r\n",
        "        물고기['C등급'] += 4\r\n",
        "    def 통발():\r\n",
        "        물고기['문어'] = 1\r\n",
        "    \r\n",
        "    낚시()\r\n",
        "    그물()\r\n",
        "    통발()\r\n",
        "\r\n",
        "    return 물고기\r\n",
        "\r\n",
        "생선잡기()\r\n",
        "# sum(생선잡기().values())"
      ],
      "execution_count": 148,
      "outputs": [
        {
          "output_type": "execute_result",
          "data": {
            "text/plain": [
              "{'A등급': 4, 'B등급': 3, 'C등급': 4, '문어': 1}"
            ]
          },
          "metadata": {
            "tags": []
          },
          "execution_count": 148
        }
      ]
    },
    {
      "cell_type": "code",
      "metadata": {
        "colab": {
          "base_uri": "https://localhost:8080/"
        },
        "id": "pwsYx-J6d_ZV",
        "outputId": "44e82533-7259-49b8-f227-52e952797538"
      },
      "source": [
        "##dictionary는 함수 안에서도 값의 수정이 가능합니다!\r\n",
        "물고기 = {'A등급':0,'B등급':0,'C등급':0}\r\n",
        "def 낚시():\r\n",
        "    물고기['A등급'] += 1\r\n",
        "낚시()\r\n",
        "물고기  "
      ],
      "execution_count": 145,
      "outputs": [
        {
          "output_type": "execute_result",
          "data": {
            "text/plain": [
              "{'A등급': 1, 'B등급': 0, 'C등급': 0}"
            ]
          },
          "metadata": {
            "tags": []
          },
          "execution_count": 145
        }
      ]
    },
    {
      "cell_type": "code",
      "metadata": {
        "colab": {
          "base_uri": "https://localhost:8080/"
        },
        "id": "Ttw3wPLzGDHU",
        "outputId": "9f9bb6f3-b3be-4ec4-8ca8-cbdc9ddd066a"
      },
      "source": [
        "def factorial(x):\r\n",
        "    if x == 1:\r\n",
        "        return 1\r\n",
        "    else:\r\n",
        "        return x * factorial(x-1)\r\n",
        "\r\n",
        "factorial(5)\r\n",
        "\r\n",
        "# 5 * factorial(4)\r\n",
        "# 4 * factorial(3)\r\n",
        "# 3 * factorial(2)\r\n",
        "# 2 * factorial(1)\r\n",
        "# 1\r\n",
        "\r\n",
        "# 5*4*3*2*1"
      ],
      "execution_count": 152,
      "outputs": [
        {
          "output_type": "execute_result",
          "data": {
            "text/plain": [
              "120"
            ]
          },
          "metadata": {
            "tags": []
          },
          "execution_count": 152
        }
      ]
    },
    {
      "cell_type": "code",
      "metadata": {
        "colab": {
          "base_uri": "https://localhost:8080/"
        },
        "id": "WbkxtfAzGDDu",
        "outputId": "4c9598aa-00c4-4310-c8da-06154bf52781"
      },
      "source": [
        "# if, elif, else\r\n",
        "\r\n",
        "if False : \r\n",
        "    print('one')\r\n",
        "elif True : \r\n",
        "  print('two') #if가 false이기 때문에 그 다음에 충족되는 조건을 만나면 실행되고 나머지 남은 코드는 무시\r\n",
        "elif True : \r\n",
        "  print('three')\r\n",
        "elif True : \r\n",
        "  print('four')\r\n",
        "else : \r\n",
        "  print('five')\r\n",
        "#세트여서 하나만 출력해도 끝!"
      ],
      "execution_count": 156,
      "outputs": [
        {
          "output_type": "stream",
          "text": [
            "two\n"
          ],
          "name": "stdout"
        }
      ]
    },
    {
      "cell_type": "code",
      "metadata": {
        "colab": {
          "base_uri": "https://localhost:8080/"
        },
        "id": "4kYzNx-xGC_P",
        "outputId": "5598976d-4b23-49ac-858d-7db0ea3e4ca6"
      },
      "source": [
        "def 계산(a,b,c):\r\n",
        "    가격 = {'A등급':1000,'B등급':500,'C등급':100}\r\n",
        "    합계 = a*가격['A등급'] + b*가격['B등급'] + c*가격['C등급']\r\n",
        "    return 합계\r\n",
        "\r\n",
        "총합 = 계산(10,2,3)\r\n",
        "print(총합)\r\n",
        "if 총합 >= 20000: #21000 True\r\n",
        "    print('20% 할인을 해주겠다냥!')\r\n",
        "    print(f'총 {int(총합 * 0.8)}노드를 내면 된다냥!') #20% 할인\r\n",
        "elif 총합 >= 10000: #9000 True \r\n",
        "    print('10% 할인을 해주겠다냥!')\r\n",
        "    print(f'총 {int(총합 * 0.9)}노드를 내면 된다냥!') #10% 할인\r\n",
        "elif 총합 >= 5000:\r\n",
        "    print('5% 할인을 해주겠다냥!')\r\n",
        "    print(f'총 {int(총합 * 0.95)}노드를 내면 된다냥!') #5% 할인\r\n",
        "else:\r\n",
        "    print(f'총 {총합}노드를 내면 된다냥!')"
      ],
      "execution_count": 161,
      "outputs": [
        {
          "output_type": "stream",
          "text": [
            "11300\n",
            "10% 할인을 해주겠다냥!\n",
            "총 10170노드를 내면 된다냥!\n"
          ],
          "name": "stdout"
        }
      ]
    },
    {
      "cell_type": "markdown",
      "metadata": {
        "id": "bq9fO_7cKmsb"
      },
      "source": [
        "##연습문제\r\n"
      ]
    },
    {
      "cell_type": "code",
      "metadata": {
        "colab": {
          "base_uri": "https://localhost:8080/"
        },
        "id": "CFnSUySrGC6E",
        "outputId": "24785877-2acb-48b6-f8be-ae70ba2b2dd8"
      },
      "source": [
        "#1번 연습문제\r\n",
        "\r\n",
        "회원명 = input('회원명 입력하세요 : ')\r\n",
        "회원 = ['A캣','B캣','C캣']\r\n",
        "\r\n",
        "def 회원등록(이름):\r\n",
        "    회원.append(이름)\r\n",
        "\r\n",
        "if 회원명 in 회원:\r\n",
        "    print(\"이미 등록된 회원입니다.\")\r\n",
        "else:\r\n",
        "    회원등록(회원명)\r\n",
        "    print('회원으로 등록되었습니다.')\r\n",
        "print(회원)"
      ],
      "execution_count": 178,
      "outputs": [
        {
          "output_type": "stream",
          "text": [
            "회원명 입력하세요 : D캣\n",
            "회원으로 등록되었습니다.\n",
            "['A캣', 'B캣', 'C캣', 'D캣']\n"
          ],
          "name": "stdout"
        }
      ]
    },
    {
      "cell_type": "code",
      "metadata": {
        "colab": {
          "base_uri": "https://localhost:8080/"
        },
        "id": "lKvtF4FFGC1G",
        "outputId": "49bcef03-701c-4986-867f-cfdab5649d2a"
      },
      "source": [
        "#2번 연습문제\r\n",
        "\r\n",
        "구매가격 = input('가격을 입력하세요 : ')\r\n",
        "회원명 = input('회원명을 입력하세요 : ')\r\n",
        "회원 = ['씨-캣','자바캣','파이캣','썬캣','애옹']\r\n",
        "\r\n",
        "if 회원명 in 회원:\r\n",
        "    print(\"회원입니다.\")\r\n",
        "    print(f\"15000노드 중 {int(int(구매가격)*0.1)}노드가 적립됩니다.\")\r\n",
        "else:\r\n",
        "    print(\"회원이 아닙니다. 회원가입을 해주시기 바랍니다.\")"
      ],
      "execution_count": 176,
      "outputs": [
        {
          "output_type": "stream",
          "text": [
            "가격을 입력하세요 : 10000\n",
            "회원명을 입력하세요 : 씨-캣\n",
            "회원입니다.\n",
            "15000노드 중 1000노드가 적립됩니다.\n"
          ],
          "name": "stdout"
        }
      ]
    },
    {
      "cell_type": "code",
      "metadata": {
        "colab": {
          "base_uri": "https://localhost:8080/"
        },
        "id": "XFyXU9gaGCyW",
        "outputId": "5a835130-3580-416d-8051-98187dee56eb"
      },
      "source": [
        "#3번 연습문제\r\n",
        "\r\n",
        "구매가격 = int(input('가격을 입력하세요: '))\r\n",
        "회원명 = input('회원명을 입력하세요: ')\r\n",
        "\r\n",
        "회원 = {'씨-캣': 5000,'자바캣': 3500,'파이캣': 15000,'썬캣': 7000}\r\n",
        "\r\n",
        "\r\n",
        "\r\n",
        "if 회원명 in 회원: #딕셔너리도 가능\r\n",
        "    if 회원[회원명] >= 10000:\r\n",
        "      print(f\"적립금을 사용할 수 있습니다. 현재 적립금액은 {회원[회원명]}\")\r\n",
        "      사용포인트 = int(input(\"사용할 적립금 노드를 입력하세요: \"))\r\n",
        "      결재할금액 = 구매가격 - 사용포인트\r\n",
        "      남은적립금 = 회원[회원명] - 사용포인트\r\n",
        "      회원[회원명] = 남은적립금 + 결재할금액 * 0.1\r\n",
        "      print(f\"{사용포인트}노드를 사용하였습니다. 남은 적립금은 {남은적립금}노드입니다. 결제금액은 {결재할금액}원 입니다.\")\r\n",
        "    else :  \r\n",
        "      print(f\"현재 적립금이 {회원[회원명]}노드이므로 아직 적립금을 사용할 수 없습니다.\")\r\n",
        "      print(f\"결재금액은 {구매가격}노드이고, 적립포인트는 {int(구매가격*0.1)}노드, 합산 포인트는 {int(남은적립금)}원 입니다. \")\r\n",
        "      남은적립금 = 회원[회원명]+ 구매가격*0.1\r\n",
        "print(회원)"
      ],
      "execution_count": 194,
      "outputs": [
        {
          "output_type": "stream",
          "text": [
            "가격을 입력하세요: 10000\n",
            "회원명을 입력하세요: 파이캣\n",
            "적립금을 사용할 수 있습니다. 현재 적립금액은 15000\n",
            "사용할 적립금 노드를 입력하세요: 5000\n",
            "5000노드를 사용하였습니다. 남은 적립금은 10000노드입니다. 결제금액은 5000원 입니다.\n",
            "{'씨-캣': 5000, '자바캣': 3500, '파이캣': 10500.0, '썬캣': 7000}\n"
          ],
          "name": "stdout"
        }
      ]
    },
    {
      "cell_type": "code",
      "metadata": {
        "colab": {
          "base_uri": "https://localhost:8080/"
        },
        "id": "L_QIy7iCGCvL",
        "outputId": "2b95c9fe-be3b-4075-991c-1ea8eea046a3"
      },
      "source": [
        "#4번 문제\r\n",
        "\r\n",
        "def 배수(n):\r\n",
        "    def 적립(value):\r\n",
        "        return (value * 0.1) * n\r\n",
        "    return 적립\r\n",
        "\r\n",
        "Feb = 배수(2)\r\n",
        "Mar = 배수(3) \r\n",
        "\r\n",
        "print('2월 적립금 이벤트 :',Feb(5000))\r\n",
        "print('3월 적립금 이벤트 :',Mar(15000))\r\n"
      ],
      "execution_count": 199,
      "outputs": [
        {
          "output_type": "stream",
          "text": [
            "2월 적립금 이벤트 : 1000.0\n",
            "3월 적립금 이벤트 : 4500.0\n"
          ],
          "name": "stdout"
        }
      ]
    },
    {
      "cell_type": "markdown",
      "metadata": {
        "id": "qiN1WC7Pwimx"
      },
      "source": [
        "#라이캣의 EXIT"
      ]
    },
    {
      "cell_type": "code",
      "metadata": {
        "colab": {
          "base_uri": "https://localhost:8080/"
        },
        "id": "vM9YuVj2GCq9",
        "outputId": "f83d291c-29c7-4bdc-8e50-99cb1fae8367"
      },
      "source": [
        "for x in (1,2,3,4,5): #튜플\r\n",
        "  print(f'고등어 포장 {x}번째 입니다.')"
      ],
      "execution_count": 203,
      "outputs": [
        {
          "output_type": "stream",
          "text": [
            "고등어 포장 1번째 입니다.\n",
            "고등어 포장 2번째 입니다.\n",
            "고등어 포장 3번째 입니다.\n",
            "고등어 포장 4번째 입니다.\n",
            "고등어 포장 5번째 입니다.\n"
          ],
          "name": "stdout"
        }
      ]
    },
    {
      "cell_type": "code",
      "metadata": {
        "colab": {
          "base_uri": "https://localhost:8080/"
        },
        "id": "HqNTmqktxMeg",
        "outputId": "fbc5e12d-e9ba-4d88-85db-c962d265b380"
      },
      "source": [
        "for x in [1,2,3,4,5]: #리스트\r\n",
        "  print(f'고등어 포장 {x}번째 입니다.')"
      ],
      "execution_count": 205,
      "outputs": [
        {
          "output_type": "stream",
          "text": [
            "고등어 포장 1번째 입니다.\n",
            "고등어 포장 2번째 입니다.\n",
            "고등어 포장 3번째 입니다.\n",
            "고등어 포장 4번째 입니다.\n",
            "고등어 포장 5번째 입니다.\n"
          ],
          "name": "stdout"
        }
      ]
    },
    {
      "cell_type": "code",
      "metadata": {
        "colab": {
          "base_uri": "https://localhost:8080/"
        },
        "id": "oECp0pQPxMil",
        "outputId": "c50fe7d2-7c82-4f14-f33b-60eae0246967"
      },
      "source": [
        "for x in '1,2,3,4,5': #문자열\r\n",
        "  print(f'고등어 포장 {x}번째 입니다.')"
      ],
      "execution_count": 206,
      "outputs": [
        {
          "output_type": "stream",
          "text": [
            "고등어 포장 1번째 입니다.\n",
            "고등어 포장 ,번째 입니다.\n",
            "고등어 포장 2번째 입니다.\n",
            "고등어 포장 ,번째 입니다.\n",
            "고등어 포장 3번째 입니다.\n",
            "고등어 포장 ,번째 입니다.\n",
            "고등어 포장 4번째 입니다.\n",
            "고등어 포장 ,번째 입니다.\n",
            "고등어 포장 5번째 입니다.\n"
          ],
          "name": "stdout"
        }
      ]
    },
    {
      "cell_type": "code",
      "metadata": {
        "colab": {
          "base_uri": "https://localhost:8080/"
        },
        "id": "thvpTA9HxMlS",
        "outputId": "c4a3ffdf-056f-441d-da60-56cfedc26c79"
      },
      "source": [
        "왕국 = '위니브 월드'\r\n",
        "for a in 왕국:\r\n",
        "    print(a)\r\n",
        "print('------------')"
      ],
      "execution_count": 208,
      "outputs": [
        {
          "output_type": "stream",
          "text": [
            "위\n",
            "니\n",
            "브\n",
            " \n",
            "월\n",
            "드\n",
            "------------\n"
          ],
          "name": "stdout"
        }
      ]
    },
    {
      "cell_type": "code",
      "metadata": {
        "colab": {
          "base_uri": "https://localhost:8080/"
        },
        "id": "MY7FOzTpxMoH",
        "outputId": "efb5fa5f-5060-428b-8fe8-dc77cb30a1c4"
      },
      "source": [
        "기술 = ['고기잡이','고기팔기','낚시_Lv1','통발_Lv1','큰그물_Lv1']\r\n",
        "for a in 기술:\r\n",
        "  print(a)\r\n",
        "  print(a[0:2])"
      ],
      "execution_count": 210,
      "outputs": [
        {
          "output_type": "stream",
          "text": [
            "고기잡이\n",
            "고기\n",
            "고기팔기\n",
            "고기\n",
            "낚시_Lv1\n",
            "낚시\n",
            "통발_Lv1\n",
            "통발\n",
            "큰그물_Lv1\n",
            "큰그\n"
          ],
          "name": "stdout"
        }
      ]
    },
    {
      "cell_type": "code",
      "metadata": {
        "colab": {
          "base_uri": "https://localhost:8080/"
        },
        "id": "ALp7oIgNxMq_",
        "outputId": "380d171d-bde5-4263-b3f2-f80589a4ec4c"
      },
      "source": [
        "기술 = ['낚시_Lv1','통발_Lv1','큰그물_Lv1']\r\n",
        "for a in 기술:\r\n",
        "  print(a)\r\n",
        "  print(a[:-4]) #거꾸로!\r\n",
        "  print(a[:a.find('_')])\r\n",
        "print('------------')"
      ],
      "execution_count": 216,
      "outputs": [
        {
          "output_type": "stream",
          "text": [
            "낚시_Lv1\n",
            "낚시\n",
            "낚시\n",
            "통발_Lv1\n",
            "통발\n",
            "통발\n",
            "큰그물_Lv1\n",
            "큰그물\n",
            "큰그물\n",
            "------------\n"
          ],
          "name": "stdout"
        }
      ]
    },
    {
      "cell_type": "code",
      "metadata": {
        "colab": {
          "base_uri": "https://localhost:8080/"
        },
        "id": "3TW0ktSoxMsv",
        "outputId": "6be0f721-deb3-4dee-f4d8-286b3f1e2ee2"
      },
      "source": [
        "캣의_상태창 = {\r\n",
        "    '이름':'캣',\r\n",
        "    '설명':'위니브 월드에서 가장 급성장하는 생산회사 대표 캣',\r\n",
        "    '나이' : '19',\r\n",
        "    '키':'45.9cm',\r\n",
        "    '몸무게': 1.6\r\n",
        "}\r\n",
        "\r\n",
        "for a in 캣의_상태창:\r\n",
        "    print(a, 캣의_상태창[a])"
      ],
      "execution_count": 217,
      "outputs": [
        {
          "output_type": "stream",
          "text": [
            "이름 캣\n",
            "설명 위니브 월드에서 가장 급성장하는 생산회사 대표 캣\n",
            "나이 19\n",
            "키 45.9cm\n",
            "몸무게 1.6\n"
          ],
          "name": "stdout"
        }
      ]
    },
    {
      "cell_type": "code",
      "metadata": {
        "colab": {
          "base_uri": "https://localhost:8080/"
        },
        "id": "e3KGkVatzQ9E",
        "outputId": "c1b4afbc-4915-45f6-955c-a08a8505d9ce"
      },
      "source": [
        "캣의_상태창.items()"
      ],
      "execution_count": 222,
      "outputs": [
        {
          "output_type": "execute_result",
          "data": {
            "text/plain": [
              "dict_items([('이름', '캣'), ('설명', '위니브 월드에서 가장 급성장하는 생산회사 대표 캣'), ('나이', '19'), ('키', '45.9cm'), ('몸무게', 1.6)])"
            ]
          },
          "metadata": {
            "tags": []
          },
          "execution_count": 222
        }
      ]
    },
    {
      "cell_type": "code",
      "metadata": {
        "colab": {
          "base_uri": "https://localhost:8080/"
        },
        "id": "vmG6tf1AxMua",
        "outputId": "fc1d4adf-b9c1-40fd-ce5d-c6210bd6552e"
      },
      "source": [
        "for a, b in 캣의_상태창.items():\r\n",
        "    print(f'{a}:{b}')"
      ],
      "execution_count": 220,
      "outputs": [
        {
          "output_type": "stream",
          "text": [
            "이름:캣\n",
            "설명:위니브 월드에서 가장 급성장하는 생산회사 대표 캣\n",
            "나이:19\n",
            "키:45.9cm\n",
            "몸무게:1.6\n"
          ],
          "name": "stdout"
        }
      ]
    },
    {
      "cell_type": "code",
      "metadata": {
        "colab": {
          "base_uri": "https://localhost:8080/"
        },
        "id": "tVMNVhmpxMyd",
        "outputId": "09149f2a-cb94-402d-eafa-eefd6dd80d42"
      },
      "source": [
        "for a in 캣의_상태창.items():\r\n",
        "    print(f'{a[0]}:{a[1]}')"
      ],
      "execution_count": 224,
      "outputs": [
        {
          "output_type": "stream",
          "text": [
            "이름:캣\n",
            "설명:위니브 월드에서 가장 급성장하는 생산회사 대표 캣\n",
            "나이:19\n",
            "키:45.9cm\n",
            "몸무게:1.6\n"
          ],
          "name": "stdout"
        }
      ]
    },
    {
      "cell_type": "code",
      "metadata": {
        "colab": {
          "base_uri": "https://localhost:8080/"
        },
        "id": "oj3cPRs8GCm6",
        "outputId": "da1c7ce1-f80f-43b6-cbe1-13def44e8edc"
      },
      "source": [
        "# range(start,stop,step)\r\n",
        "print(type(range(2, 10, 2)))\r\n",
        "print(list(range(10))) #stop 값만 있는 상태\r\n",
        "print(list(range(5, 0, -1)))\r\n",
        "print(list(range(2, 10)))\r\n"
      ],
      "execution_count": 227,
      "outputs": [
        {
          "output_type": "stream",
          "text": [
            "<class 'range'>\n",
            "[0, 1, 2, 3, 4, 5, 6, 7, 8, 9]\n",
            "[5, 4, 3, 2, 1]\n",
            "[2, 3, 4, 5, 6, 7, 8, 9]\n"
          ],
          "name": "stdout"
        }
      ]
    },
    {
      "cell_type": "code",
      "metadata": {
        "colab": {
          "base_uri": "https://localhost:8080/"
        },
        "id": "FMg0dN9GGCii",
        "outputId": "a0bd10d2-81f0-409a-fd75-4295e1f4d131"
      },
      "source": [
        "listx = [100,200,300,400]\r\n",
        "strix = 'abcd'\r\n",
        "listxlter = iter(listx)\r\n",
        "strixlter = iter(strix)\r\n",
        "print(next(listxlter),next(listxlter),next(listxlter),next(listxlter))\r\n",
        "print(next(strixlter),next(strixlter),next(strixlter),next(strixlter))\r\n"
      ],
      "execution_count": 229,
      "outputs": [
        {
          "output_type": "stream",
          "text": [
            "100 200 300 400\n",
            "a b c d\n"
          ],
          "name": "stdout"
        }
      ]
    },
    {
      "cell_type": "code",
      "metadata": {
        "colab": {
          "base_uri": "https://localhost:8080/"
        },
        "id": "NNWwwYjK1aty",
        "outputId": "ac9f2bac-a7f2-4ac5-9503-0dae0c87245f"
      },
      "source": [
        "## for, else\r\n",
        "\r\n",
        "for i in range(5): #100일때, 5일때,\r\n",
        "    print(f'{i}마리의 물고기를 잡았습니다.')\r\n",
        "    if i == 10:\r\n",
        "        print('만선입니다.')\r\n",
        "        break\r\n",
        "else:\r\n",
        "    print(\"아직 여유가 좀 있지만, 물고기가 더 없는 것 같으니 이정도로 만족하고 돌아갑시다.\")\r\n",
        "print(\"수고하셨습니다.\")\r\n"
      ],
      "execution_count": 231,
      "outputs": [
        {
          "output_type": "stream",
          "text": [
            "0마리의 물고기를 잡았습니다.\n",
            "1마리의 물고기를 잡았습니다.\n",
            "2마리의 물고기를 잡았습니다.\n",
            "3마리의 물고기를 잡았습니다.\n",
            "4마리의 물고기를 잡았습니다.\n",
            "아직 여유가 좀 있지만, 물고기가 더 없는 것 같으니 이정도로 만족하고 돌아갑시다.\n",
            "수고하셨습니다.\n"
          ],
          "name": "stdout"
        }
      ]
    },
    {
      "cell_type": "code",
      "metadata": {
        "id": "WOXCjNEj1aqS"
      },
      "source": [
        "## list comprehension\r\n",
        "\r\n",
        "l = []\r\n",
        "\r\n",
        "for i in range(1,101):\r\n",
        "    l.append(i)\r\n",
        "\r\n",
        "ll = [i for i in range(1, 101)]\r\n",
        "# ll"
      ],
      "execution_count": 235,
      "outputs": []
    },
    {
      "cell_type": "code",
      "metadata": {
        "colab": {
          "base_uri": "https://localhost:8080/"
        },
        "id": "yH9ecYzv1alF",
        "outputId": "d92c7b0f-20ec-42ad-e1fd-4be6c7101080"
      },
      "source": [
        "for i in range(2,10):\r\n",
        "    for j in range(1,10):\r\n",
        "        print(f'{i}*{j}={i*j}')"
      ],
      "execution_count": 236,
      "outputs": [
        {
          "output_type": "stream",
          "text": [
            "2*1=2\n",
            "2*2=4\n",
            "2*3=6\n",
            "2*4=8\n",
            "2*5=10\n",
            "2*6=12\n",
            "2*7=14\n",
            "2*8=16\n",
            "2*9=18\n",
            "3*1=3\n",
            "3*2=6\n",
            "3*3=9\n",
            "3*4=12\n",
            "3*5=15\n",
            "3*6=18\n",
            "3*7=21\n",
            "3*8=24\n",
            "3*9=27\n",
            "4*1=4\n",
            "4*2=8\n",
            "4*3=12\n",
            "4*4=16\n",
            "4*5=20\n",
            "4*6=24\n",
            "4*7=28\n",
            "4*8=32\n",
            "4*9=36\n",
            "5*1=5\n",
            "5*2=10\n",
            "5*3=15\n",
            "5*4=20\n",
            "5*5=25\n",
            "5*6=30\n",
            "5*7=35\n",
            "5*8=40\n",
            "5*9=45\n",
            "6*1=6\n",
            "6*2=12\n",
            "6*3=18\n",
            "6*4=24\n",
            "6*5=30\n",
            "6*6=36\n",
            "6*7=42\n",
            "6*8=48\n",
            "6*9=54\n",
            "7*1=7\n",
            "7*2=14\n",
            "7*3=21\n",
            "7*4=28\n",
            "7*5=35\n",
            "7*6=42\n",
            "7*7=49\n",
            "7*8=56\n",
            "7*9=63\n",
            "8*1=8\n",
            "8*2=16\n",
            "8*3=24\n",
            "8*4=32\n",
            "8*5=40\n",
            "8*6=48\n",
            "8*7=56\n",
            "8*8=64\n",
            "8*9=72\n",
            "9*1=9\n",
            "9*2=18\n",
            "9*3=27\n",
            "9*4=36\n",
            "9*5=45\n",
            "9*6=54\n",
            "9*7=63\n",
            "9*8=72\n",
            "9*9=81\n"
          ],
          "name": "stdout"
        }
      ]
    },
    {
      "cell_type": "code",
      "metadata": {
        "colab": {
          "base_uri": "https://localhost:8080/"
        },
        "id": "vgFcFffC1aiB",
        "outputId": "7ccff932-6d9f-44a6-fbd4-3dd6dd6ff358"
      },
      "source": [
        "i = [f'{i}*{j}={i*j}'for i in range(2,10) for j in range(1,10)]\r\n",
        "i"
      ],
      "execution_count": 238,
      "outputs": [
        {
          "output_type": "execute_result",
          "data": {
            "text/plain": [
              "['2*1=2',\n",
              " '2*2=4',\n",
              " '2*3=6',\n",
              " '2*4=8',\n",
              " '2*5=10',\n",
              " '2*6=12',\n",
              " '2*7=14',\n",
              " '2*8=16',\n",
              " '2*9=18',\n",
              " '3*1=3',\n",
              " '3*2=6',\n",
              " '3*3=9',\n",
              " '3*4=12',\n",
              " '3*5=15',\n",
              " '3*6=18',\n",
              " '3*7=21',\n",
              " '3*8=24',\n",
              " '3*9=27',\n",
              " '4*1=4',\n",
              " '4*2=8',\n",
              " '4*3=12',\n",
              " '4*4=16',\n",
              " '4*5=20',\n",
              " '4*6=24',\n",
              " '4*7=28',\n",
              " '4*8=32',\n",
              " '4*9=36',\n",
              " '5*1=5',\n",
              " '5*2=10',\n",
              " '5*3=15',\n",
              " '5*4=20',\n",
              " '5*5=25',\n",
              " '5*6=30',\n",
              " '5*7=35',\n",
              " '5*8=40',\n",
              " '5*9=45',\n",
              " '6*1=6',\n",
              " '6*2=12',\n",
              " '6*3=18',\n",
              " '6*4=24',\n",
              " '6*5=30',\n",
              " '6*6=36',\n",
              " '6*7=42',\n",
              " '6*8=48',\n",
              " '6*9=54',\n",
              " '7*1=7',\n",
              " '7*2=14',\n",
              " '7*3=21',\n",
              " '7*4=28',\n",
              " '7*5=35',\n",
              " '7*6=42',\n",
              " '7*7=49',\n",
              " '7*8=56',\n",
              " '7*9=63',\n",
              " '8*1=8',\n",
              " '8*2=16',\n",
              " '8*3=24',\n",
              " '8*4=32',\n",
              " '8*5=40',\n",
              " '8*6=48',\n",
              " '8*7=56',\n",
              " '8*8=64',\n",
              " '8*9=72',\n",
              " '9*1=9',\n",
              " '9*2=18',\n",
              " '9*3=27',\n",
              " '9*4=36',\n",
              " '9*5=45',\n",
              " '9*6=54',\n",
              " '9*7=63',\n",
              " '9*8=72',\n",
              " '9*9=81']"
            ]
          },
          "metadata": {
            "tags": []
          },
          "execution_count": 238
        }
      ]
    },
    {
      "cell_type": "code",
      "metadata": {
        "colab": {
          "base_uri": "https://localhost:8080/"
        },
        "id": "5VyHYJ3X1aey",
        "outputId": "462f0479-2031-4472-fff1-78f423938131"
      },
      "source": [
        "i = [f'{i}*{j}={i*j}'for i in range(2,10) for j in range(1,10) if i% 2 == 0]\r\n",
        "i"
      ],
      "execution_count": 239,
      "outputs": [
        {
          "output_type": "execute_result",
          "data": {
            "text/plain": [
              "['2*1=2',\n",
              " '2*2=4',\n",
              " '2*3=6',\n",
              " '2*4=8',\n",
              " '2*5=10',\n",
              " '2*6=12',\n",
              " '2*7=14',\n",
              " '2*8=16',\n",
              " '2*9=18',\n",
              " '4*1=4',\n",
              " '4*2=8',\n",
              " '4*3=12',\n",
              " '4*4=16',\n",
              " '4*5=20',\n",
              " '4*6=24',\n",
              " '4*7=28',\n",
              " '4*8=32',\n",
              " '4*9=36',\n",
              " '6*1=6',\n",
              " '6*2=12',\n",
              " '6*3=18',\n",
              " '6*4=24',\n",
              " '6*5=30',\n",
              " '6*6=36',\n",
              " '6*7=42',\n",
              " '6*8=48',\n",
              " '6*9=54',\n",
              " '8*1=8',\n",
              " '8*2=16',\n",
              " '8*3=24',\n",
              " '8*4=32',\n",
              " '8*5=40',\n",
              " '8*6=48',\n",
              " '8*7=56',\n",
              " '8*8=64',\n",
              " '8*9=72']"
            ]
          },
          "metadata": {
            "tags": []
          },
          "execution_count": 239
        }
      ]
    },
    {
      "cell_type": "code",
      "metadata": {
        "colab": {
          "base_uri": "https://localhost:8080/"
        },
        "id": "_TWrbh2b1acJ",
        "outputId": "9c076cde-19e4-4cce-9937-7db3d5d99a34"
      },
      "source": [
        "#다중 리스트 for문\r\n",
        "skill = [('고기잡이',100,'SS'),\r\n",
        "         ('고기팔기',120,'SSS'),\r\n",
        "         ('낚시',5,'C'),\r\n",
        "         ('통발',100,'C'),\r\n",
        "         ('큰그물',100,'C')]\r\n",
        "for skillName, skillLevel, skillGrade in skill:\r\n",
        "    print(skillName,skillLevel,skillGrade)"
      ],
      "execution_count": 242,
      "outputs": [
        {
          "output_type": "stream",
          "text": [
            "고기잡이 100 SS\n",
            "고기팔기 120 SSS\n",
            "낚시 5 C\n",
            "통발 100 C\n",
            "큰그물 100 C\n"
          ],
          "name": "stdout"
        }
      ]
    },
    {
      "cell_type": "code",
      "metadata": {
        "colab": {
          "base_uri": "https://localhost:8080/"
        },
        "id": "n-BamW101aZf",
        "outputId": "6a8ca972-35b0-4501-c590-a6990fcd5633"
      },
      "source": [
        "#enumerate\r\n",
        "\r\n",
        "skill = [('고기잡이',100,'SS'),\r\n",
        "         ('고기팔기',120,'SSS'),\r\n",
        "         ('낚시',5,'C'),\r\n",
        "         ('통발',100,'C'),\r\n",
        "         ('큰그물',100,'C')]\r\n",
        "\r\n",
        "for i, (skillName, skillLevel, skillGrade) in enumerate(skill,1):\r\n",
        "    print(i, skillName,skillLevel,skillGrade)\r\n",
        "\r\n",
        "for i,j in enumerate(skill, 100):\r\n",
        "    print(i,j)"
      ],
      "execution_count": 248,
      "outputs": [
        {
          "output_type": "stream",
          "text": [
            "1 고기잡이 100 SS\n",
            "2 고기팔기 120 SSS\n",
            "3 낚시 5 C\n",
            "4 통발 100 C\n",
            "5 큰그물 100 C\n",
            "100 ('고기잡이', 100, 'SS')\n",
            "101 ('고기팔기', 120, 'SSS')\n",
            "102 ('낚시', 5, 'C')\n",
            "103 ('통발', 100, 'C')\n",
            "104 ('큰그물', 100, 'C')\n"
          ],
          "name": "stdout"
        }
      ]
    },
    {
      "cell_type": "code",
      "metadata": {
        "colab": {
          "base_uri": "https://localhost:8080/",
          "height": 685
        },
        "id": "8xaaGk0A1aWz",
        "outputId": "79a469a9-516a-481f-934f-21321104a080"
      },
      "source": [
        "for i in range(5):\r\n",
        "    num = int(input(\"고등어 몇 개를 구매하실 건가요?\"))\r\n",
        "    result = num * 5000\r\n",
        "    print(result,\" 원 입니다.\")\r\n",
        "print(\"로봇이 종료되었습니다. 삐빅.\")\r\n"
      ],
      "execution_count": 249,
      "outputs": [
        {
          "output_type": "stream",
          "text": [
            "고등어 몇 개를 구매하실 건가요?3\n",
            "15000 원 입니다.\n",
            "고등어 몇 개를 구매하실 건가요?5\n",
            "25000 원 입니다.\n"
          ],
          "name": "stdout"
        },
        {
          "output_type": "error",
          "ename": "KeyboardInterrupt",
          "evalue": "ignored",
          "traceback": [
            "\u001b[0;31m---------------------------------------------------------------------------\u001b[0m",
            "\u001b[0;31mKeyboardInterrupt\u001b[0m                         Traceback (most recent call last)",
            "\u001b[0;32m/usr/local/lib/python3.7/dist-packages/ipykernel/kernelbase.py\u001b[0m in \u001b[0;36m_input_request\u001b[0;34m(self, prompt, ident, parent, password)\u001b[0m\n\u001b[1;32m    728\u001b[0m             \u001b[0;32mtry\u001b[0m\u001b[0;34m:\u001b[0m\u001b[0;34m\u001b[0m\u001b[0;34m\u001b[0m\u001b[0m\n\u001b[0;32m--> 729\u001b[0;31m                 \u001b[0mident\u001b[0m\u001b[0;34m,\u001b[0m \u001b[0mreply\u001b[0m \u001b[0;34m=\u001b[0m \u001b[0mself\u001b[0m\u001b[0;34m.\u001b[0m\u001b[0msession\u001b[0m\u001b[0;34m.\u001b[0m\u001b[0mrecv\u001b[0m\u001b[0;34m(\u001b[0m\u001b[0mself\u001b[0m\u001b[0;34m.\u001b[0m\u001b[0mstdin_socket\u001b[0m\u001b[0;34m,\u001b[0m \u001b[0;36m0\u001b[0m\u001b[0;34m)\u001b[0m\u001b[0;34m\u001b[0m\u001b[0;34m\u001b[0m\u001b[0m\n\u001b[0m\u001b[1;32m    730\u001b[0m             \u001b[0;32mexcept\u001b[0m \u001b[0mException\u001b[0m\u001b[0;34m:\u001b[0m\u001b[0;34m\u001b[0m\u001b[0;34m\u001b[0m\u001b[0m\n",
            "\u001b[0;32m/usr/local/lib/python3.7/dist-packages/jupyter_client/session.py\u001b[0m in \u001b[0;36mrecv\u001b[0;34m(self, socket, mode, content, copy)\u001b[0m\n\u001b[1;32m    802\u001b[0m         \u001b[0;32mtry\u001b[0m\u001b[0;34m:\u001b[0m\u001b[0;34m\u001b[0m\u001b[0;34m\u001b[0m\u001b[0m\n\u001b[0;32m--> 803\u001b[0;31m             \u001b[0mmsg_list\u001b[0m \u001b[0;34m=\u001b[0m \u001b[0msocket\u001b[0m\u001b[0;34m.\u001b[0m\u001b[0mrecv_multipart\u001b[0m\u001b[0;34m(\u001b[0m\u001b[0mmode\u001b[0m\u001b[0;34m,\u001b[0m \u001b[0mcopy\u001b[0m\u001b[0;34m=\u001b[0m\u001b[0mcopy\u001b[0m\u001b[0;34m)\u001b[0m\u001b[0;34m\u001b[0m\u001b[0;34m\u001b[0m\u001b[0m\n\u001b[0m\u001b[1;32m    804\u001b[0m         \u001b[0;32mexcept\u001b[0m \u001b[0mzmq\u001b[0m\u001b[0;34m.\u001b[0m\u001b[0mZMQError\u001b[0m \u001b[0;32mas\u001b[0m \u001b[0me\u001b[0m\u001b[0;34m:\u001b[0m\u001b[0;34m\u001b[0m\u001b[0;34m\u001b[0m\u001b[0m\n",
            "\u001b[0;32m/usr/local/lib/python3.7/dist-packages/zmq/sugar/socket.py\u001b[0m in \u001b[0;36mrecv_multipart\u001b[0;34m(self, flags, copy, track)\u001b[0m\n\u001b[1;32m    582\u001b[0m         \"\"\"\n\u001b[0;32m--> 583\u001b[0;31m         \u001b[0mparts\u001b[0m \u001b[0;34m=\u001b[0m \u001b[0;34m[\u001b[0m\u001b[0mself\u001b[0m\u001b[0;34m.\u001b[0m\u001b[0mrecv\u001b[0m\u001b[0;34m(\u001b[0m\u001b[0mflags\u001b[0m\u001b[0;34m,\u001b[0m \u001b[0mcopy\u001b[0m\u001b[0;34m=\u001b[0m\u001b[0mcopy\u001b[0m\u001b[0;34m,\u001b[0m \u001b[0mtrack\u001b[0m\u001b[0;34m=\u001b[0m\u001b[0mtrack\u001b[0m\u001b[0;34m)\u001b[0m\u001b[0;34m]\u001b[0m\u001b[0;34m\u001b[0m\u001b[0;34m\u001b[0m\u001b[0m\n\u001b[0m\u001b[1;32m    584\u001b[0m         \u001b[0;31m# have first part already, only loop while more to receive\u001b[0m\u001b[0;34m\u001b[0m\u001b[0;34m\u001b[0m\u001b[0;34m\u001b[0m\u001b[0m\n",
            "\u001b[0;32mzmq/backend/cython/socket.pyx\u001b[0m in \u001b[0;36mzmq.backend.cython.socket.Socket.recv\u001b[0;34m()\u001b[0m\n",
            "\u001b[0;32mzmq/backend/cython/socket.pyx\u001b[0m in \u001b[0;36mzmq.backend.cython.socket.Socket.recv\u001b[0;34m()\u001b[0m\n",
            "\u001b[0;32mzmq/backend/cython/socket.pyx\u001b[0m in \u001b[0;36mzmq.backend.cython.socket._recv_copy\u001b[0;34m()\u001b[0m\n",
            "\u001b[0;32m/usr/local/lib/python3.7/dist-packages/zmq/backend/cython/checkrc.pxd\u001b[0m in \u001b[0;36mzmq.backend.cython.checkrc._check_rc\u001b[0;34m()\u001b[0m\n",
            "\u001b[0;31mKeyboardInterrupt\u001b[0m: ",
            "\nDuring handling of the above exception, another exception occurred:\n",
            "\u001b[0;31mKeyboardInterrupt\u001b[0m                         Traceback (most recent call last)",
            "\u001b[0;32m<ipython-input-249-a71d037db348>\u001b[0m in \u001b[0;36m<module>\u001b[0;34m()\u001b[0m\n\u001b[1;32m      1\u001b[0m \u001b[0;32mfor\u001b[0m \u001b[0mi\u001b[0m \u001b[0;32min\u001b[0m \u001b[0mrange\u001b[0m\u001b[0;34m(\u001b[0m\u001b[0;36m5\u001b[0m\u001b[0;34m)\u001b[0m\u001b[0;34m:\u001b[0m\u001b[0;34m\u001b[0m\u001b[0;34m\u001b[0m\u001b[0m\n\u001b[0;32m----> 2\u001b[0;31m     \u001b[0mnum\u001b[0m \u001b[0;34m=\u001b[0m \u001b[0mint\u001b[0m\u001b[0;34m(\u001b[0m\u001b[0minput\u001b[0m\u001b[0;34m(\u001b[0m\u001b[0;34m\"고등어 몇 개를 구매하실 건가요?\"\u001b[0m\u001b[0;34m)\u001b[0m\u001b[0;34m)\u001b[0m\u001b[0;34m\u001b[0m\u001b[0;34m\u001b[0m\u001b[0m\n\u001b[0m\u001b[1;32m      3\u001b[0m     \u001b[0mresult\u001b[0m \u001b[0;34m=\u001b[0m \u001b[0mnum\u001b[0m \u001b[0;34m*\u001b[0m \u001b[0;36m5000\u001b[0m\u001b[0;34m\u001b[0m\u001b[0;34m\u001b[0m\u001b[0m\n\u001b[1;32m      4\u001b[0m     \u001b[0mprint\u001b[0m\u001b[0;34m(\u001b[0m\u001b[0mresult\u001b[0m\u001b[0;34m,\u001b[0m\u001b[0;34m\"원 입니다.\"\u001b[0m\u001b[0;34m)\u001b[0m\u001b[0;34m\u001b[0m\u001b[0;34m\u001b[0m\u001b[0m\n\u001b[1;32m      5\u001b[0m \u001b[0mprint\u001b[0m\u001b[0;34m(\u001b[0m\u001b[0;34m\"로봇이 종료되었습니다. 삐빅.\"\u001b[0m\u001b[0;34m)\u001b[0m\u001b[0;34m\u001b[0m\u001b[0;34m\u001b[0m\u001b[0m\n",
            "\u001b[0;32m/usr/local/lib/python3.7/dist-packages/ipykernel/kernelbase.py\u001b[0m in \u001b[0;36mraw_input\u001b[0;34m(self, prompt)\u001b[0m\n\u001b[1;32m    702\u001b[0m             \u001b[0mself\u001b[0m\u001b[0;34m.\u001b[0m\u001b[0m_parent_ident\u001b[0m\u001b[0;34m,\u001b[0m\u001b[0;34m\u001b[0m\u001b[0;34m\u001b[0m\u001b[0m\n\u001b[1;32m    703\u001b[0m             \u001b[0mself\u001b[0m\u001b[0;34m.\u001b[0m\u001b[0m_parent_header\u001b[0m\u001b[0;34m,\u001b[0m\u001b[0;34m\u001b[0m\u001b[0;34m\u001b[0m\u001b[0m\n\u001b[0;32m--> 704\u001b[0;31m             \u001b[0mpassword\u001b[0m\u001b[0;34m=\u001b[0m\u001b[0;32mFalse\u001b[0m\u001b[0;34m,\u001b[0m\u001b[0;34m\u001b[0m\u001b[0;34m\u001b[0m\u001b[0m\n\u001b[0m\u001b[1;32m    705\u001b[0m         )\n\u001b[1;32m    706\u001b[0m \u001b[0;34m\u001b[0m\u001b[0m\n",
            "\u001b[0;32m/usr/local/lib/python3.7/dist-packages/ipykernel/kernelbase.py\u001b[0m in \u001b[0;36m_input_request\u001b[0;34m(self, prompt, ident, parent, password)\u001b[0m\n\u001b[1;32m    732\u001b[0m             \u001b[0;32mexcept\u001b[0m \u001b[0mKeyboardInterrupt\u001b[0m\u001b[0;34m:\u001b[0m\u001b[0;34m\u001b[0m\u001b[0;34m\u001b[0m\u001b[0m\n\u001b[1;32m    733\u001b[0m                 \u001b[0;31m# re-raise KeyboardInterrupt, to truncate traceback\u001b[0m\u001b[0;34m\u001b[0m\u001b[0;34m\u001b[0m\u001b[0;34m\u001b[0m\u001b[0m\n\u001b[0;32m--> 734\u001b[0;31m                 \u001b[0;32mraise\u001b[0m \u001b[0mKeyboardInterrupt\u001b[0m\u001b[0;34m\u001b[0m\u001b[0;34m\u001b[0m\u001b[0m\n\u001b[0m\u001b[1;32m    735\u001b[0m             \u001b[0;32melse\u001b[0m\u001b[0;34m:\u001b[0m\u001b[0;34m\u001b[0m\u001b[0;34m\u001b[0m\u001b[0m\n\u001b[1;32m    736\u001b[0m                 \u001b[0;32mbreak\u001b[0m\u001b[0;34m\u001b[0m\u001b[0;34m\u001b[0m\u001b[0m\n",
            "\u001b[0;31mKeyboardInterrupt\u001b[0m: "
          ]
        }
      ]
    },
    {
      "cell_type": "code",
      "metadata": {
        "colab": {
          "base_uri": "https://localhost:8080/"
        },
        "id": "lx29ks8b1aTY",
        "outputId": "01eba196-a664-4ce0-d662-60dad7f28b49"
      },
      "source": [
        "#while문\r\n",
        "\r\n",
        "a = 1\r\n",
        "while a < 10:\r\n",
        "    print(a)\r\n",
        "    a += 1\r\n",
        "print('종료되었습니다')"
      ],
      "execution_count": 251,
      "outputs": [
        {
          "output_type": "stream",
          "text": [
            "1\n",
            "2\n",
            "3\n",
            "4\n",
            "5\n",
            "6\n",
            "7\n",
            "8\n",
            "9\n",
            "종료되었습니다\n"
          ],
          "name": "stdout"
        }
      ]
    },
    {
      "cell_type": "code",
      "metadata": {
        "colab": {
          "base_uri": "https://localhost:8080/"
        },
        "id": "FlG7oGcQ6T6b",
        "outputId": "496ca0dd-7d58-460c-ff6e-7cd12b929b9d"
      },
      "source": [
        "for i in range(5):\r\n",
        "    num = int(input(\"고등어 몇 개를 구매하실 건가요?\"))\r\n",
        "    if num == -1:\r\n",
        "        break\r\n",
        "    result = num * 5000\r\n",
        "    print(result,\" 원 입니다.\")\r\n",
        "print(\"로봇이 종료되었습니다. 삐빅.\")\r\n"
      ],
      "execution_count": 254,
      "outputs": [
        {
          "output_type": "stream",
          "text": [
            "고등어 몇 개를 구매하실 건가요?-1\n",
            "로봇이 종료되었습니다. 삐빅.\n"
          ],
          "name": "stdout"
        }
      ]
    },
    {
      "cell_type": "code",
      "metadata": {
        "colab": {
          "base_uri": "https://localhost:8080/"
        },
        "id": "_qY7Ye-R1aQd",
        "outputId": "c2e13822-4a4c-4427-e737-3e59d09f29c7"
      },
      "source": [
        "fish = 5\r\n",
        "while True:\r\n",
        "    num = int(input(\"고등어 몇 개를 구매하실 건가요?\"))\r\n",
        "    if fish >= num:\r\n",
        "        fish = fish - num\r\n",
        "        print(\"고등어\",fish,\"개 남았습니다.\")\r\n",
        "        if fish == 0:\r\n",
        "            print('완판되었습니다.')\r\n",
        "            break\r\n",
        "    else:\r\n",
        "        print(\"손님, 죄송하지만 구매할 수 있는 고등어가\",fish,\"개 남았습니다.\")"
      ],
      "execution_count": 261,
      "outputs": [
        {
          "output_type": "stream",
          "text": [
            "고등어 몇 개를 구매하실 건가요?3\n",
            "고등어 2 개 남았습니다.\n",
            "고등어 몇 개를 구매하실 건가요?6\n",
            "손님, 죄송하지만 구매할 수 있는 고등어가 2 개 남았습니다.\n",
            "고등어 몇 개를 구매하실 건가요?2\n",
            "고등어 0 개 남았습니다.\n",
            "완판되었습니다.\n"
          ],
          "name": "stdout"
        }
      ]
    },
    {
      "cell_type": "code",
      "metadata": {
        "colab": {
          "base_uri": "https://localhost:8080/"
        },
        "id": "qvk-K5uX1aN_",
        "outputId": "05faa082-95da-471b-d306-9d40e3048b53"
      },
      "source": [
        "for i in range(2,10):\r\n",
        "    for j in range(1,10):\r\n",
        "        if j > 5:\r\n",
        "            break # 내 위에 있는 반복문만 빠져나옴\r\n",
        "        print(f'{i}X{j}={i*j}')"
      ],
      "execution_count": 262,
      "outputs": [
        {
          "output_type": "stream",
          "text": [
            "2X1=2\n",
            "2X2=4\n",
            "2X3=6\n",
            "2X4=8\n",
            "2X5=10\n",
            "3X1=3\n",
            "3X2=6\n",
            "3X3=9\n",
            "3X4=12\n",
            "3X5=15\n",
            "4X1=4\n",
            "4X2=8\n",
            "4X3=12\n",
            "4X4=16\n",
            "4X5=20\n",
            "5X1=5\n",
            "5X2=10\n",
            "5X3=15\n",
            "5X4=20\n",
            "5X5=25\n",
            "6X1=6\n",
            "6X2=12\n",
            "6X3=18\n",
            "6X4=24\n",
            "6X5=30\n",
            "7X1=7\n",
            "7X2=14\n",
            "7X3=21\n",
            "7X4=28\n",
            "7X5=35\n",
            "8X1=8\n",
            "8X2=16\n",
            "8X3=24\n",
            "8X4=32\n",
            "8X5=40\n",
            "9X1=9\n",
            "9X2=18\n",
            "9X3=27\n",
            "9X4=36\n",
            "9X5=45\n"
          ],
          "name": "stdout"
        }
      ]
    },
    {
      "cell_type": "code",
      "metadata": {
        "colab": {
          "base_uri": "https://localhost:8080/"
        },
        "id": "V6Aza9sn1aLc",
        "outputId": "05382f30-59c9-4c8c-d8de-242f8b1e7cdd"
      },
      "source": [
        "## continue, pass\r\n",
        "\r\n",
        "x = 10\r\n",
        "if x > 10:\r\n",
        "    pass\r\n",
        "print('hello')\r\n",
        "\r\n",
        "def test():\r\n",
        "    pass #나중에 구현할 것을 명시해줌"
      ],
      "execution_count": 267,
      "outputs": [
        {
          "output_type": "stream",
          "text": [
            "hello\n"
          ],
          "name": "stdout"
        }
      ]
    },
    {
      "cell_type": "code",
      "metadata": {
        "colab": {
          "base_uri": "https://localhost:8080/"
        },
        "id": "wDOu8Slh1aHR",
        "outputId": "736decbd-ca73-4848-9436-62bf7d8b4a59"
      },
      "source": [
        "#continue\r\n",
        "\r\n",
        "구매개수_총가격 = [\r\n",
        "            (3, 15000),\r\n",
        "            (5, 25000),\r\n",
        "            (1, 5000),\r\n",
        "            (8, 40000),\r\n",
        "            (0, 0),\r\n",
        "            (2, 10000)\r\n",
        "]\r\n",
        "\r\n",
        "for 구매개수, 총가격 in 구매개수_총가격:\r\n",
        "    if 구매개수 < 1:\r\n",
        "        continue #실행하지 않고 넘어가게 됨\r\n",
        "        # pass\r\n",
        "    print('구매개수는 {}개이며 {}원입니다.'.format(구매개수,총가격))"
      ],
      "execution_count": 270,
      "outputs": [
        {
          "output_type": "stream",
          "text": [
            "구매개수는 3개이며 15000원입니다.\n",
            "구매개수는 5개이며 25000원입니다.\n",
            "구매개수는 1개이며 5000원입니다.\n",
            "구매개수는 8개이며 40000원입니다.\n",
            "구매개수는 2개이며 10000원입니다.\n"
          ],
          "name": "stdout"
        }
      ]
    },
    {
      "cell_type": "code",
      "metadata": {
        "colab": {
          "base_uri": "https://localhost:8080/"
        },
        "id": "3Z12_dBv1aD4",
        "outputId": "c4dca02e-1a11-4439-be2e-83795e5c7018"
      },
      "source": [
        "try: #실행문\r\n",
        "    i = 1\r\n",
        "    j = 0\r\n",
        "    x = i/j\r\n",
        "except: #예외 발생시 실행문\r\n",
        "    print(\"error\")\r\n",
        "else: #나머지 실행문\r\n",
        "    print(x)\r\n",
        "\r\n",
        "#else는 if뿐만 아니라 while,for과 매핑되기도 한다. 예외처리 할때도 사용"
      ],
      "execution_count": 275,
      "outputs": [
        {
          "output_type": "stream",
          "text": [
            "error\n"
          ],
          "name": "stdout"
        }
      ]
    },
    {
      "cell_type": "code",
      "metadata": {
        "colab": {
          "base_uri": "https://localhost:8080/"
        },
        "id": "_f50xjUc1Z-B",
        "outputId": "d16c9d83-4efb-4867-827a-5d322794a60a"
      },
      "source": [
        "temp = 0\r\n",
        "\r\n",
        "for i in range(10):\r\n",
        "    for j in range(10):\r\n",
        "        for k in range(10):\r\n",
        "            temp+=1\r\n",
        "print(temp)"
      ],
      "execution_count": 278,
      "outputs": [
        {
          "output_type": "stream",
          "text": [
            "1000\n"
          ],
          "name": "stdout"
        }
      ]
    },
    {
      "cell_type": "markdown",
      "metadata": {
        "id": "dgzjBECpCAJa"
      },
      "source": [
        "#연습문제"
      ]
    },
    {
      "cell_type": "code",
      "metadata": {
        "colab": {
          "base_uri": "https://localhost:8080/"
        },
        "id": "aTrcYtzzB9Wz",
        "outputId": "13f131a8-60ed-45d0-fdf4-eecdd8afe68b"
      },
      "source": [
        "#1번문제\r\n",
        "\r\n",
        "신하 = {\r\n",
        "    '하이에나' : 1121,\r\n",
        "    '코뿔소' : 122,\r\n",
        "    '코끼리' : 88,\r\n",
        "    '기린' : 119,\r\n",
        "    '독수리' : 62,\r\n",
        "    '고양이' : 31,\r\n",
        "}\r\n",
        "sum = 0\r\n",
        "for i in 신하.values():\r\n",
        "  sum += i\r\n",
        "print(sum)\r\n",
        "\r\n",
        "# 모든_신하의_합 = 0\r\n",
        "# for i in 신하:\r\n",
        "#     print(f'{i} : {신하[i]}')\r\n",
        "#     모든_신하의_합 += 신하[i]\r\n",
        "# print(모든_신하의_합)"
      ],
      "execution_count": 297,
      "outputs": [
        {
          "output_type": "stream",
          "text": [
            "1543\n"
          ],
          "name": "stdout"
        }
      ]
    },
    {
      "cell_type": "code",
      "metadata": {
        "colab": {
          "base_uri": "https://localhost:8080/"
        },
        "id": "qLNuEr3IB9Zm",
        "outputId": "6562416b-ce2c-489d-a032-068984fe18fe"
      },
      "source": [
        "#2번문제\r\n",
        "출전 = 0\r\n",
        "수호 = 0\r\n",
        "for i in 신하.values():\r\n",
        "    if i >= 100:\r\n",
        "      출전 += i\r\n",
        "    else:\r\n",
        "      수호 += i\r\n",
        "print(f\"출전 인원: {출전}, 수호 인원: {수호}\")\r\n",
        "#3번문제\r\n",
        "print(int(출전*0.2)+수호)\r\n",
        "\r\n",
        "모든_신하의_합 = 0\r\n",
        "출전하는_신하 = 0\r\n",
        "왕국을_수호하는_신하 = 0\r\n",
        "\r\n",
        "# for i in 신하:\r\n",
        "#     print(f'{i}:{신하[i]}')\r\n",
        "#     모든_신하의_합 += 신하[i]\r\n",
        "#     if 신하[i] >= 100:\r\n",
        "#         출전하는_신하 += 신하[i]\r\n",
        "#     else : \r\n",
        "#         왕국을_수호하는_신하 += 신하[i]\r\n",
        "\r\n",
        "# print(f'모든_신하의_합 : {모든_신하의_합}')\r\n",
        "# print(f'출전하는_신하 : {출전하는_신하}')\r\n",
        "# print(f'왕국을_수호하는_신하 : {왕국을_수호하는_신하}')\r\n",
        "\r\n",
        "\r\n"
      ],
      "execution_count": 298,
      "outputs": [
        {
          "output_type": "stream",
          "text": [
            "출전 인원: 1362, 수호 인원: 181\n",
            "453\n",
            "하이에나:1121\n",
            "코뿔소:122\n",
            "코끼리:88\n",
            "기린:119\n",
            "독수리:62\n",
            "고양이:31\n",
            "모든_신하의_합 : 1543\n",
            "출전하는_신하 : 1362\n",
            "왕국을_수호하는_신하 : 181\n"
          ],
          "name": "stdout"
        }
      ]
    },
    {
      "cell_type": "code",
      "metadata": {
        "id": "hajPJU2MDdk4"
      },
      "source": [
        ""
      ],
      "execution_count": 285,
      "outputs": []
    },
    {
      "cell_type": "code",
      "metadata": {
        "id": "RqX2MbgIDdoB"
      },
      "source": [
        ""
      ],
      "execution_count": null,
      "outputs": []
    }
  ]
}