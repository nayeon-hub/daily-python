{
  "nbformat": 4,
  "nbformat_minor": 0,
  "metadata": {
    "colab": {
      "name": "python100제(42~50).ipynb",
      "provenance": [],
      "collapsed_sections": [],
      "authorship_tag": "ABX9TyO0GeMcFLCk2pL5GQSTVR1B",
      "include_colab_link": true
    },
    "kernelspec": {
      "name": "python3",
      "display_name": "Python 3"
    }
  },
  "cells": [
    {
      "cell_type": "markdown",
      "metadata": {
        "id": "view-in-github",
        "colab_type": "text"
      },
      "source": [
        "<a href=\"https://colab.research.google.com/github/nayeon-hub/daily-python/blob/main/python100%EC%A0%9C(42~50).ipynb\" target=\"_parent\"><img src=\"https://colab.research.google.com/assets/colab-badge.svg\" alt=\"Open In Colab\"/></a>"
      ]
    },
    {
      "cell_type": "code",
      "metadata": {
        "colab": {
          "base_uri": "https://localhost:8080/"
        },
        "id": "MUbPPhjh6NHw",
        "outputId": "77ac8948-6f79-406e-f2fa-0482dfa8d7db"
      },
      "source": [
        "#문제 42\r\n",
        "import datetime\r\n",
        "\r\n",
        "m = int(input())\r\n",
        "d = int(input())\r\n",
        "def findDay(a,b):\r\n",
        "    day = ['MON','TUE','WED','THU','FRI','SAT','SUN']\r\n",
        "    print(datetime.date(2020,a,b))\r\n",
        "    return day[datetime.date(2020,a,b).weekday()]\r\n",
        "print(findDay(m,d))"
      ],
      "execution_count": 6,
      "outputs": [
        {
          "output_type": "stream",
          "text": [
            "5\n",
            "3\n",
            "2020-05-03\n",
            "SUN\n"
          ],
          "name": "stdout"
        }
      ]
    },
    {
      "cell_type": "code",
      "metadata": {
        "colab": {
          "base_uri": "https://localhost:8080/"
        },
        "id": "fs-1Ty4ATN-B",
        "outputId": "43c77dd7-c552-4318-96d9-94dbd07e7277"
      },
      "source": [
        "#문제 43\r\n",
        "#2진수 2로 나눈 나머지로 이루어진다.\r\n",
        "a = int(input())\r\n",
        "b = []\r\n",
        "while a:\r\n",
        "    b.append(str(a%2))\r\n",
        "    a = int(a / 2)\r\n",
        "b.reverse()\r\n",
        "print(b)\r\n",
        "print(''.join(b))"
      ],
      "execution_count": 14,
      "outputs": [
        {
          "output_type": "stream",
          "text": [
            "23\n",
            "['1', '0', '1', '1', '1']\n",
            "10111\n"
          ],
          "name": "stdout"
        }
      ]
    },
    {
      "cell_type": "code",
      "metadata": {
        "colab": {
          "base_uri": "https://localhost:8080/"
        },
        "id": "O3W85OAmao5b",
        "outputId": "a5446932-7418-4688-e0b2-b6e9c7b17ce8"
      },
      "source": [
        "#문제 44\r\n",
        "n = input()\r\n",
        "m = []\r\n",
        "for i,j in enumerate(n):\r\n",
        "  m.insert(i,int(j))\r\n",
        "print(sum(m))"
      ],
      "execution_count": 19,
      "outputs": [
        {
          "output_type": "stream",
          "text": [
            "18234\n",
            "18\n"
          ],
          "name": "stdout"
        }
      ]
    },
    {
      "cell_type": "code",
      "metadata": {
        "colab": {
          "base_uri": "https://localhost:8080/"
        },
        "id": "MHLXgqMKboLk",
        "outputId": "fbb5e7f1-e5ff-4a6d-840f-35f46fd4dafb"
      },
      "source": [
        "n = input()\r\n",
        "result = 0\r\n",
        "for i in n:\r\n",
        "  result += int(i)\r\n",
        "print(result)"
      ],
      "execution_count": 24,
      "outputs": [
        {
          "output_type": "stream",
          "text": [
            "18234\n",
            "18\n"
          ],
          "name": "stdout"
        }
      ]
    },
    {
      "cell_type": "code",
      "metadata": {
        "colab": {
          "base_uri": "https://localhost:8080/"
        },
        "id": "ZOy48tRKcvOZ",
        "outputId": "3714f5b8-25a9-43ca-f642-6ddb47bc69bd"
      },
      "source": [
        "#문제 45\r\n",
        "\r\n",
        "import time\r\n",
        "print(time.strftime('%Y'))\r\n",
        "t = time.time()\r\n",
        "t = int(t//(3600*24*365))+1970\r\n",
        "print(t)\r\n"
      ],
      "execution_count": 30,
      "outputs": [
        {
          "output_type": "stream",
          "text": [
            "2021\n",
            "2021\n"
          ],
          "name": "stdout"
        }
      ]
    },
    {
      "cell_type": "code",
      "metadata": {
        "colab": {
          "base_uri": "https://localhost:8080/"
        },
        "id": "PCdcBoNJm8tA",
        "outputId": "3de8bd51-238f-4849-f39d-02ef95bde69b"
      },
      "source": [
        "#문제 46\r\n",
        "\r\n",
        "result = 0\r\n",
        "for i in range(1,101):\r\n",
        "  for j in str(i):\r\n",
        "    result += int(j)\r\n",
        "print(result)\r\n"
      ],
      "execution_count": 36,
      "outputs": [
        {
          "output_type": "stream",
          "text": [
            "901\n"
          ],
          "name": "stdout"
        }
      ]
    },
    {
      "cell_type": "code",
      "metadata": {
        "colab": {
          "base_uri": "https://localhost:8080/"
        },
        "id": "ziZpLUZtm8rC",
        "outputId": "65ad875b-4d0b-49ff-a5ca-5865244c68f7"
      },
      "source": [
        "s = ''\r\n",
        "for i in range(101):\r\n",
        "    s += str(i)\r\n",
        "result = 0\r\n",
        "for i in s:\r\n",
        "    result += int(i)\r\n",
        "print(result)"
      ],
      "execution_count": 38,
      "outputs": [
        {
          "output_type": "stream",
          "text": [
            "901\n"
          ],
          "name": "stdout"
        }
      ]
    },
    {
      "cell_type": "code",
      "metadata": {
        "colab": {
          "base_uri": "https://localhost:8080/"
        },
        "id": "5CMxDWP2pSAo",
        "outputId": "e3afa857-44d8-4548-8e0b-1ba3a0ae5684"
      },
      "source": [
        "#문제 47\r\n",
        "\r\n",
        "people = [\r\n",
        "         ('이호준', '01050442903'),\r\n",
        "         ('이호상', '01051442904'),\r\n",
        "         ('이준호', '01050342904'),\r\n",
        "         ('이호준', '01050442903'),\r\n",
        "         ('이준', '01050412904'),\r\n",
        "         ('이호', '01050443904'),\r\n",
        "         ('이호준', '01050442903'),\r\n",
        "         ]\r\n",
        "print(set(people))\r\n",
        "print(len(set(people)))"
      ],
      "execution_count": 40,
      "outputs": [
        {
          "output_type": "stream",
          "text": [
            "{('이호', '01050443904'), ('이호준', '01050442903'), ('이준', '01050412904'), ('이호상', '01051442904'), ('이준호', '01050342904')}\n",
            "5\n"
          ],
          "name": "stdout"
        }
      ]
    },
    {
      "cell_type": "code",
      "metadata": {
        "colab": {
          "base_uri": "https://localhost:8080/"
        },
        "id": "lXBnCw3zpR7k",
        "outputId": "0fcda3f9-c544-4da4-de28-ce3911b7cf37"
      },
      "source": [
        "#문제 48\r\n",
        "a = input()\r\n",
        "b = []\r\n",
        "for i in a:\r\n",
        "    if i.upper() == i:\r\n",
        "       b.append(i.lower())\r\n",
        "    else:\r\n",
        "      b.append(i.upper())\r\n",
        "print(''.join(b))"
      ],
      "execution_count": 45,
      "outputs": [
        {
          "output_type": "stream",
          "text": [
            "AAABBBCCddd\n",
            "aaabbbccDDD\n"
          ],
          "name": "stdout"
        }
      ]
    },
    {
      "cell_type": "code",
      "metadata": {
        "colab": {
          "base_uri": "https://localhost:8080/"
        },
        "id": "1aPQ1TCWpR4Q",
        "outputId": "d3faa381-4ba2-4cc0-834b-3f7a4de90de1"
      },
      "source": [
        "a = input()\r\n",
        "b = []\r\n",
        "for i in a:\r\n",
        "    if i.islower():\r\n",
        "        b.append(i.upper())\r\n",
        "    else:\r\n",
        "        b.append(i.lower())\r\n",
        "for i in b:\r\n",
        "    print(i,end=\"\")"
      ],
      "execution_count": 2,
      "outputs": [
        {
          "output_type": "stream",
          "text": [
            "ddwWWEr\n",
            "DDWwweR"
          ],
          "name": "stdout"
        }
      ]
    },
    {
      "cell_type": "code",
      "metadata": {
        "colab": {
          "base_uri": "https://localhost:8080/"
        },
        "id": "IxcnNCFPi7bj",
        "outputId": "f8cf7ee9-e90b-4a93-dacc-c94158dcc296"
      },
      "source": [
        "#문제 49\r\n",
        "\r\n",
        "n = list(map(int,input().split()))\r\n",
        "n.sort()\r\n",
        "print(n[-1])"
      ],
      "execution_count": 4,
      "outputs": [
        {
          "output_type": "stream",
          "text": [
            "10 9 8 7 6 5 4 3 2 1\n",
            "10\n"
          ],
          "name": "stdout"
        }
      ]
    },
    {
      "cell_type": "code",
      "metadata": {
        "colab": {
          "base_uri": "https://localhost:8080/"
        },
        "id": "Wgv8fcjWjZn4",
        "outputId": "c00989cd-4fb1-4760-e98e-57409c48fbd6"
      },
      "source": [
        "print(sorted(n)[-1])"
      ],
      "execution_count": 5,
      "outputs": [
        {
          "output_type": "stream",
          "text": [
            "10\n"
          ],
          "name": "stdout"
        }
      ]
    },
    {
      "cell_type": "code",
      "metadata": {
        "colab": {
          "base_uri": "https://localhost:8080/"
        },
        "id": "uFAGY28QrP0d",
        "outputId": "017aeb4d-a42f-40cd-ad09-80a4e2a3f444"
      },
      "source": [
        "#문제 50\r\n",
        "def bubble(n,data):\r\n",
        "    for i in range(n-1):\r\n",
        "        for j in range(n-i-1):\r\n",
        "            print(j)\r\n",
        "            if data[j] > data[j+1]:\r\n",
        "                data[j],data[j+1] = data[j+1],data[j]\r\n",
        "                print(data)\r\n",
        "            else:\r\n",
        "                print(data)\r\n",
        "    for i in range(n):\r\n",
        "        print(data[i], end = ' ')\r\n",
        "n = int(input())\r\n",
        "data =list(map(int,input().split()))\r\n",
        "bubble(n,data)"
      ],
      "execution_count": 25,
      "outputs": [
        {
          "output_type": "stream",
          "text": [
            "5\n",
            "7 4 5 1 3\n",
            "0\n",
            "[4, 7, 5, 1, 3]\n",
            "1\n",
            "[4, 5, 7, 1, 3]\n",
            "2\n",
            "[4, 5, 1, 7, 3]\n",
            "3\n",
            "[4, 5, 1, 3, 7]\n",
            "0\n",
            "[4, 5, 1, 3, 7]\n",
            "1\n",
            "[4, 1, 5, 3, 7]\n",
            "2\n",
            "[4, 1, 3, 5, 7]\n",
            "0\n",
            "[1, 4, 3, 5, 7]\n",
            "1\n",
            "[1, 3, 4, 5, 7]\n",
            "0\n",
            "[1, 3, 4, 5, 7]\n",
            "1 3 4 5 7 "
          ],
          "name": "stdout"
        }
      ]
    }
  ]
}