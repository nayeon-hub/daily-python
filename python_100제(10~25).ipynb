{
  "nbformat": 4,
  "nbformat_minor": 0,
  "metadata": {
    "colab": {
      "name": "python 100제(10~25).ipynb",
      "provenance": [],
      "collapsed_sections": [],
      "authorship_tag": "ABX9TyN0NYYLvzG/sxhExxQkmo/S",
      "include_colab_link": true
    },
    "kernelspec": {
      "name": "python3",
      "display_name": "Python 3"
    }
  },
  "cells": [
    {
      "cell_type": "markdown",
      "metadata": {
        "id": "view-in-github",
        "colab_type": "text"
      },
      "source": [
        "<a href=\"https://colab.research.google.com/github/nayeon-hub/daily-python/blob/main/python_100%EC%A0%9C(10~25).ipynb\" target=\"_parent\"><img src=\"https://colab.research.google.com/assets/colab-badge.svg\" alt=\"Open In Colab\"/></a>"
      ]
    },
    {
      "cell_type": "code",
      "metadata": {
        "colab": {
          "base_uri": "https://localhost:8080/"
        },
        "id": "fqjGC3WUI80I",
        "outputId": "158d1944-a3aa-45d7-f1c4-136d4879bf8a"
      },
      "source": [
        "#문제 10\r\n",
        "\r\n",
        "n = int(input())\r\n",
        "for i in range(1,n+1):\r\n",
        "    print(\" \"*(n-i) + (\"*\" *((2*i)-1)))"
      ],
      "execution_count": null,
      "outputs": [
        {
          "output_type": "stream",
          "text": [
            "5\n",
            "    *\n",
            "   ***\n",
            "  *****\n",
            " *******\n",
            "*********\n"
          ],
          "name": "stdout"
        }
      ]
    },
    {
      "cell_type": "code",
      "metadata": {
        "colab": {
          "base_uri": "https://localhost:8080/"
        },
        "id": "NbfMFcNGHeCd",
        "outputId": "d6886672-ccdb-4f80-e66c-c55ae950b4ca"
      },
      "source": [
        "#문제 11\r\n",
        "s = 0\r\n",
        "for i in range(1,101):\r\n",
        "    s += i\r\n",
        "print(s)"
      ],
      "execution_count": null,
      "outputs": [
        {
          "output_type": "stream",
          "text": [
            "5050\n"
          ],
          "name": "stdout"
        }
      ]
    },
    {
      "cell_type": "code",
      "metadata": {
        "colab": {
          "base_uri": "https://localhost:8080/"
        },
        "id": "AZejlj9eJZS6",
        "outputId": "3063ad16-9170-4c17-a99f-57a20fe9d7b5"
      },
      "source": [
        "#문제 12\r\n",
        "class Wizard:\r\n",
        "    def __init__(self, health, mana, armor):\r\n",
        "        self.건강 = health\r\n",
        "        self.마나 = mana\r\n",
        "        self.아르모 = armor\r\n",
        " \r\n",
        "    def attack(self):\r\n",
        "        print('파이어볼')\r\n",
        "\r\n",
        "x = Wizard(health=545, mana=210, armor=10)\r\n",
        "# x.stats()\r\n",
        "print(x.건강, x.마나, x.아르모)\r\n",
        "x.attack()"
      ],
      "execution_count": null,
      "outputs": [
        {
          "output_type": "stream",
          "text": [
            "545 210 10\n",
            "파이어볼\n"
          ],
          "name": "stdout"
        }
      ]
    },
    {
      "cell_type": "code",
      "metadata": {
        "colab": {
          "base_uri": "https://localhost:8080/"
        },
        "id": "7PWHdiYYMNMW",
        "outputId": "f9743280-994c-4703-9ce4-9f9c81e089ec"
      },
      "source": [
        "#문제 13\r\n",
        "\r\n",
        "solar_sys = ['수성','금성','지구','화성','목성','토성','천왕성','해왕성']\r\n",
        "p = int(input(\"몇번째 행성: \"))\r\n",
        "print(solar_sys[p-1])"
      ],
      "execution_count": null,
      "outputs": [
        {
          "output_type": "stream",
          "text": [
            "몇번째 행성: 2\n",
            "금성\n"
          ],
          "name": "stdout"
        }
      ]
    },
    {
      "cell_type": "code",
      "metadata": {
        "colab": {
          "base_uri": "https://localhost:8080/"
        },
        "id": "qmM-zao3NIWM",
        "outputId": "23f6ae86-16bb-4527-e2ae-3f05dbef6ed6"
      },
      "source": [
        "#문제 14\r\n",
        "\r\n",
        "n = int(input())\r\n",
        "if n % 3 == 0:\r\n",
        "    print(\"짝\")\r\n",
        "else:\r\n",
        "    print(n)"
      ],
      "execution_count": null,
      "outputs": [
        {
          "output_type": "stream",
          "text": [
            "30\n",
            "짝\n"
          ],
          "name": "stdout"
        }
      ]
    },
    {
      "cell_type": "code",
      "metadata": {
        "colab": {
          "base_uri": "https://localhost:8080/"
        },
        "id": "6KV9tbNONxGJ",
        "outputId": "90a39272-7539-4f06-bc94-5a32788d55c2"
      },
      "source": [
        "#문제 15\r\n",
        "\r\n",
        "name = input(\"이름: \")\r\n",
        "if name == \"김다정\":\r\n",
        "    print(f\"안녕하세요 저는 {name}입니다.\")\r\n",
        "    print('안녕하세요 저는 {}입니다.' .format(name))"
      ],
      "execution_count": null,
      "outputs": [
        {
          "output_type": "stream",
          "text": [
            "이름: 김다정\n",
            "안녕하세요 저는 김다정입니다.\n",
            "안녕하세요 저는 김다정입니다.\n"
          ],
          "name": "stdout"
        }
      ]
    },
    {
      "cell_type": "code",
      "metadata": {
        "colab": {
          "base_uri": "https://localhost:8080/"
        },
        "id": "oxo5uFoeOhh8",
        "outputId": "fabbf8cb-12b8-4a4f-ce1c-8a28b227f114"
      },
      "source": [
        "#문제 16\r\n",
        "\r\n",
        "n = input()\r\n",
        "print(n[::-1])"
      ],
      "execution_count": null,
      "outputs": [
        {
          "output_type": "stream",
          "text": [
            "거꾸로\n",
            "로꾸거\n"
          ],
          "name": "stdout"
        }
      ]
    },
    {
      "cell_type": "code",
      "metadata": {
        "colab": {
          "base_uri": "https://localhost:8080/"
        },
        "id": "LyPkw4ZPPAqV",
        "outputId": "bfa3f18e-6f14-4391-ca04-138a14515c9e"
      },
      "source": [
        "#문제 17\r\n",
        "\r\n",
        "h = int(input())\r\n",
        "if h >= 150:\r\n",
        "    print(\"YES\")\r\n",
        "else:\r\n",
        "    print(\"NO\")"
      ],
      "execution_count": null,
      "outputs": [
        {
          "output_type": "stream",
          "text": [
            "143\n",
            "NO\n"
          ],
          "name": "stdout"
        }
      ]
    },
    {
      "cell_type": "code",
      "metadata": {
        "colab": {
          "base_uri": "https://localhost:8080/"
        },
        "id": "5xZlylk9PWal",
        "outputId": "4ae033bc-77dd-40d2-9a5f-84989c97c21c"
      },
      "source": [
        "#문제 18\r\n",
        "\r\n",
        "a,b,c = map(int,input(\"점수: \").split())\r\n",
        "print((a+b+c)//3)\r\n",
        "\r\n",
        "data = list(map(int,input(\"점수: \").split()))\r\n",
        "print(sum(data)//3)\r\n",
        "print(int(sum(data)/3))"
      ],
      "execution_count": null,
      "outputs": [
        {
          "output_type": "stream",
          "text": [
            "점수: 30 30 30\n",
            "30\n",
            "점수: 40 40 40\n",
            "40\n",
            "40\n"
          ],
          "name": "stdout"
        }
      ]
    },
    {
      "cell_type": "code",
      "metadata": {
        "colab": {
          "base_uri": "https://localhost:8080/"
        },
        "id": "cNq606QURF3m",
        "outputId": "b0f478c3-46d3-427b-a963-054c8022c8f5"
      },
      "source": [
        "#문제 19\r\n",
        "\r\n",
        "a, b = map(int,input(\"두 수를 입력하시오: \").split())\r\n",
        "print(a**b)\r\n",
        "\r\n",
        "n = list(map(int,input().split()))\r\n",
        "print(n[0]**n[1])"
      ],
      "execution_count": null,
      "outputs": [
        {
          "output_type": "stream",
          "text": [
            "두 수를 입력하시오: 2 4\n",
            "16\n",
            "2 4\n",
            "16\n"
          ],
          "name": "stdout"
        }
      ]
    },
    {
      "cell_type": "code",
      "metadata": {
        "colab": {
          "base_uri": "https://localhost:8080/"
        },
        "id": "HtT5hcGLSf9o",
        "outputId": "2f8c5a5f-aa19-4aad-b251-a5ad90667b07"
      },
      "source": [
        "#문제 20\r\n",
        "\r\n",
        "data = list(map(int,input().split()))\r\n",
        "print(data[0]//data[1],data[0]%data[1])"
      ],
      "execution_count": null,
      "outputs": [
        {
          "output_type": "stream",
          "text": [
            "10 2\n",
            "5 0\n"
          ],
          "name": "stdout"
        }
      ]
    },
    {
      "cell_type": "code",
      "metadata": {
        "colab": {
          "base_uri": "https://localhost:8080/"
        },
        "id": "lmx3vFGhTNVy",
        "outputId": "b95e8789-1f8f-46c5-c32f-749c08c9163b"
      },
      "source": [
        "#문제 21\r\n",
        "x = {} #set이 아닌 dict 만드는 방법\r\n",
        "print(type(x))"
      ],
      "execution_count": null,
      "outputs": [
        {
          "output_type": "stream",
          "text": [
            "<class 'dict'>\n"
          ],
          "name": "stdout"
        }
      ]
    },
    {
      "cell_type": "code",
      "metadata": {
        "colab": {
          "base_uri": "https://localhost:8080/"
        },
        "id": "UUSs50U9TX4_",
        "outputId": "b4c73f46-7a9b-4088-9745-64ed3e0f1672"
      },
      "source": [
        "#문제 22\r\n",
        "\r\n",
        "i = int(input())\r\n",
        "print(i % 6 == 0) "
      ],
      "execution_count": null,
      "outputs": [
        {
          "output_type": "stream",
          "text": [
            "6\n",
            "True\n"
          ],
          "name": "stdout"
        }
      ]
    },
    {
      "cell_type": "code",
      "metadata": {
        "colab": {
          "base_uri": "https://localhost:8080/"
        },
        "id": "rS1DpUH9TyiM",
        "outputId": "5beaf5fd-dfbb-4edd-9034-ba4905653afc"
      },
      "source": [
        "#문제 23\r\n",
        "print(10/2)"
      ],
      "execution_count": null,
      "outputs": [
        {
          "output_type": "stream",
          "text": [
            "5.0\n"
          ],
          "name": "stdout"
        }
      ]
    },
    {
      "cell_type": "code",
      "metadata": {
        "colab": {
          "base_uri": "https://localhost:8080/"
        },
        "id": "If01KakzUCyB",
        "outputId": "13a3a0be-e963-46ea-8dc6-71010f547026"
      },
      "source": [
        "#문제 24\r\n",
        "name = input()\r\n",
        "print(name.upper())\r\n",
        "print(name.lower())"
      ],
      "execution_count": null,
      "outputs": [
        {
          "output_type": "stream",
          "text": [
            "nayeon\n",
            "NAYEON\n",
            "nayeon\n"
          ],
          "name": "stdout"
        }
      ]
    },
    {
      "cell_type": "code",
      "metadata": {
        "colab": {
          "base_uri": "https://localhost:8080/"
        },
        "id": "tIlcjwNmUYhm",
        "outputId": "e1fda586-be8c-485e-a249-9f75efc9a9aa"
      },
      "source": [
        "#문제 25\r\n",
        "\r\n",
        "r = int(input())\r\n",
        "def area(r):\r\n",
        "  PI = 3.14  \r\n",
        "  return r*r*PI\r\n",
        "print(area(r))\r\n",
        "#입력-> 원의넓이함수로 반환\r\n",
        "\r\n",
        "def solution(n):\r\n",
        "  return n*n*3.14\r\n",
        "print(solution(int(input())))"
      ],
      "execution_count": null,
      "outputs": [
        {
          "output_type": "stream",
          "text": [
            "4\n",
            "50.24\n",
            "4\n",
            "50.24\n"
          ],
          "name": "stdout"
        }
      ]
    }
  ]
}